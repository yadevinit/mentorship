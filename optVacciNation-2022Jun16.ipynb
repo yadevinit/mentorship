{
 "cells": [
  {
   "cell_type": "code",
   "execution_count": 1,
   "metadata": {},
   "outputs": [
    {
     "data": {
      "text/html": [
       "'Thu Jun 16 14:08:41 2022'"
      ],
      "text/latex": [
       "'Thu Jun 16 14:08:41 2022'"
      ],
      "text/markdown": [
       "'Thu Jun 16 14:08:41 2022'"
      ],
      "text/plain": [
       "[1] \"Thu Jun 16 14:08:41 2022\""
      ]
     },
     "metadata": {},
     "output_type": "display_data"
    }
   ],
   "source": [
    "# Added 2022Jun16 by yadevinit\n",
    "mustInstall <- c(TRUE, FALSE)[2] # Whether to install packages. Beware: R indexing starts from 1, unlike Python's 0!\n",
    "date()"
   ]
  },
  {
   "cell_type": "code",
   "execution_count": 2,
   "metadata": {},
   "outputs": [],
   "source": [
    "# Refer https://github.com/florianhartig/DHARMa/issues/166:\n",
    "if(mustInstall){\n",
    "    # system2(\"sudo -S apt-get install libglpk-dev\", args=c(\"root123\"), input=c(\"Y\"))\n",
    "    system(\"echo root123 | sudo -S apt-get install libglpk-dev\", intern=TRUE, input=c(\"Y\"))\n",
    "    # this might fail or warn; so execute `sudo` command directly on (Linux) OS terminal.\n",
    "    # system(\"echo root123 | sudo -S apt-get install libglpk-dev\", intern=TRUE)\n",
    "    # replace root123 with <passwd> for Linux.\n",
    "    # refer https://superuser.com/questions/67765/sudo-with-password-in-one-command-line.\n",
    "} # else continue"
   ]
  },
  {
   "cell_type": "code",
   "execution_count": 3,
   "metadata": {},
   "outputs": [],
   "source": [
    "# Refer https://stackoverflow.com/questions/32540919/library-is-not-writable\n",
    "if(mustInstall){\n",
    "    system2(\"sudo adduser user1 staff\") # run after replacing <username> with your user ID on Linux eg user1.\n",
    "} # else continue"
   ]
  },
  {
   "cell_type": "code",
   "execution_count": 17,
   "metadata": {},
   "outputs": [],
   "source": [
    "# Refer https://doc.cocalc.com/howto/install-r-package.html\n",
    "# after ensuring $R_LIBS_USER is set on (Linux) OS shell:\n",
    "# install.packages(\"<name of package>\", lib = Sys.getenv(\"R_LIBS_USER\"),\n",
    "#   repos = \"https://cran.rstudio.com/\")"
   ]
  },
  {
   "cell_type": "code",
   "execution_count": 4,
   "metadata": {},
   "outputs": [],
   "source": [
    "Sys.setenv(ROI_LOAD_PLUGINS = \"FALSE\")\n",
    "if(mustInstall){ # If following installs fail, try: sudo -i R.\n",
    "    # Then within that R session before Restarting kernel for this Jupyter Notebook.\n",
    "    install.packages(c(\"dplyr\", \"DEoptim\", \"plotly\",\n",
    "                    \"ROI\", \"ROI.plugin.glpk\", \"ROI.plugin.qpoases\", \"ROI.plugin.ecos\", \"ROI.plugin.scs\",\n",
    "                    \"ROI.plugin.alabama\", \"ROI.plugin.lpsolve\",\n",
    "                    \"ROI.plugin.deoptim\", \"ROI.plugin.ipop\") #, \"ROI.plugin.symphony\")) # , \"ROI.plugin.gurobi\")\n",
    "    install.packages(\"remotes\")\n",
    "    # https://www.gurobi.com/downloads/gurobi-optimizer-eula/ expects login. Then install gurobi and R.\n",
    "    # Then its ROI plugin:\n",
    "    # remotes:::install_github(\"roigrp/ROI.plugin.gurobi\")\n",
    "    # remotes:::install_github(\"fl0sch/ROI.plugin.gurobi\") # fails presently, maybe coz R4.2?\n",
    "    # install.packages(\"Rdonlp2\")\n",
    "    # https://cran.r-project.org/package=ROI.plugin.cplex says CPLEX is a commercial solver. MOSEK, Gurobi, etc., too.\n",
    "    # https://github.com/cran/ROI/blob/master/R/plugin_nlminb.R includes nlminb2()\n",
    "    #   [Nonlinear programming with nonlinear constraints].\n",
    "} # else continue.\n",
    "# Alt: via R packages rneos and ROI.plugin.neos, [Network-enabled optimization system (NEOS) ...\n",
    "# The NEOS server (https://neos-server.org) provides free access to more than 60 numerical optimization solvers.]"
   ]
  },
  {
   "cell_type": "code",
   "execution_count": 5,
   "metadata": {},
   "outputs": [],
   "source": [
    "myData <- read.csv(file=file.path(\".\", \"myData.tVaccMi.csv\"))\n",
    "myData$FIPS <- as.factor(myData$FIPS) # Beware: these are not all 5 digits as 0 prefix is missing after reading for some.\n",
    "myData$SVI_CTGY <- as.factor(myData$SVI_CTGY) # Severity Index category"
   ]
  },
  {
   "cell_type": "code",
   "execution_count": 6,
   "metadata": {},
   "outputs": [
    {
     "name": "stdout",
     "output_type": "stream",
     "text": [
      "'data.frame':\t3284 obs. of  6 variables:\n",
      " $ Date            : chr  \"2022-05-14\" \"2022-05-14\" \"2022-05-14\" \"2022-05-14\" ...\n",
      " $ FIPS            : Factor w/ 3213 levels \"1001\",\"1003\",..: 3084 18 154 159 181 208 246 357 396 533 ...\n",
      " $ Completeness_pct: num  96.8 92.5 90.5 90.5 97.6 97.6 97.1 98.7 89.4 89.4 ...\n",
      " $ SVI_CTGY        : Factor w/ 5 levels \"\",\"A\",\"B\",\"C\",..: 2 5 4 5 3 4 2 3 5 5 ...\n",
      " $ Census2019      : int  89221 12067 8986 17782 1671329 137744 20356 74228 79608 7855 ...\n",
      " $ tVaccMi         : num  396 492 602 469 1958 ...\n"
     ]
    }
   ],
   "source": [
    "str(myData)"
   ]
  },
  {
   "cell_type": "code",
   "execution_count": 7,
   "metadata": {},
   "outputs": [
    {
     "data": {
      "text/plain": [
       "     Date                FIPS      Completeness_pct SVI_CTGY   Census2019      \n",
       " Length:3284        1001   :   1   Min.   :73.50     : 65    Min.   :      86  \n",
       " Class :character   1003   :   1   1st Qu.:93.60    A:806    1st Qu.:   11131  \n",
       " Mode  :character   1005   :   1   Median :96.80    B:804    Median :   26108  \n",
       "                    1007   :   1   Mean   :94.86    C:804    Mean   :  102950  \n",
       "                    1009   :   1   3rd Qu.:97.80    D:805    3rd Qu.:   67215  \n",
       "                    (Other):3208   Max.   :98.90             Max.   :10039107  \n",
       "                    NA's   :  71   NA's   :23                NA's   :63        \n",
       "    tVaccMi      \n",
       " Min.   : 172.6  \n",
       " 1st Qu.: 403.1  \n",
       " Median : 580.9  \n",
       " Mean   : 729.5  \n",
       " 3rd Qu.: 877.7  \n",
       " Max.   :4433.4  \n",
       " NA's   :75      "
      ]
     },
     "metadata": {},
     "output_type": "display_data"
    }
   ],
   "source": [
    "summary(myData)"
   ]
  },
  {
   "cell_type": "code",
   "execution_count": 8,
   "metadata": {},
   "outputs": [
    {
     "data": {
      "text/plain": [
       "     Min.   1st Qu.    Median      Mean   3rd Qu.      Max.      NA's \n",
       "     1.86    383.23   1004.40   4214.77   2927.94 240981.72        79 "
      ]
     },
     "metadata": {},
     "output_type": "display_data"
    },
    {
     "data": {
      "image/png": "[encoded data removed]",
      "text/plain": [
       "Plot with title “Histogram of popIncomplete”"
      ]
     },
     "metadata": {
      "image/png": {
       "height": 420,
       "width": 420
      }
     },
     "output_type": "display_data"
    }
   ],
   "source": [
    "popIncomplete <- ((100 - myData$Completeness_pct)/100 * myData$Census2019)\n",
    "# popIncomplete <- round(popIncomplete)\n",
    "summary(popIncomplete); hist(popIncomplete)"
   ]
  },
  {
   "cell_type": "code",
   "execution_count": 9,
   "metadata": {},
   "outputs": [],
   "source": [
    "myData.bak <- myData\n",
    "myData <- cbind(myData, popIncomplete=popIncomplete)"
   ]
  },
  {
   "cell_type": "code",
   "execution_count": 10,
   "metadata": {
    "scrolled": true
   },
   "outputs": [
    {
     "data": {
      "image/png": "[encoded data removed]",
      "text/plain": [
       "plot without title"
      ]
     },
     "metadata": {
      "image/png": {
       "height": 420,
       "width": 420
      }
     },
     "output_type": "display_data"
    }
   ],
   "source": [
    "# As per the note at the start of \"optVaccine\" PDF, country administration might like to allocate more vaccines\n",
    "# to counties with more `popIncomplete`. But it also wishes to minimize \"cost\" indicated by surrogate\n",
    "# variable `tVaccMi`. To visualize how these dual Objectives interact:\n",
    "plot(popIncomplete ~ tVaccMi, data=myData)"
   ]
  },
  {
   "cell_type": "code",
   "execution_count": 11,
   "metadata": {},
   "outputs": [
    {
     "name": "stderr",
     "output_type": "stream",
     "text": [
      "Loading required package: dplyr\n",
      "\n",
      "\n",
      "Attaching package: ‘dplyr’\n",
      "\n",
      "\n",
      "The following objects are masked from ‘package:stats’:\n",
      "\n",
      "    filter, lag\n",
      "\n",
      "\n",
      "The following objects are masked from ‘package:base’:\n",
      "\n",
      "    intersect, setdiff, setequal, union\n",
      "\n",
      "\n"
     ]
    },
    {
     "data": {
      "image/png": "[encoded data removed]",
      "text/plain": [
       "plot without title"
      ]
     },
     "metadata": {
      "image/png": {
       "height": 420,
       "width": 420
      }
     },
     "output_type": "display_data"
    },
    {
     "data": {
      "image/png": "[encoded data removed]",
      "text/plain": [
       "plot without title"
      ]
     },
     "metadata": {
      "image/png": {
       "height": 420,
       "width": 420
      }
     },
     "output_type": "display_data"
    }
   ],
   "source": [
    "# Trivially, the scatter-plot points in the right half are \"costly\" and do not cover much vaccine-pending population.\n",
    "# Counties around 500mi(les from vaccine-manufacturing states) appear to have higher `popIncomplete`; that \"maxima\"\n",
    "# is where \"optimal\" might be located. There's another \"hump\" to the right around 2000 `tVaccMi` (miles); that seems to\n",
    "# a lesser local \"maxima\" and the earlier one might be the \"global maxima\". The optimization solver must be able to\n",
    "# distinguish and select the \"global maxima\" (or minima), not greedily locate the nearest (local) maxima.\n",
    "# Refer https://stackoverflow.com/questions/41653562/difference-between-ntile-and-cut-and-then-quantile-function-in-r\n",
    "require(dplyr)\n",
    "myBin <- function(vector){\n",
    "    ans <- as.numeric(cut(vector, \n",
    "               breaks = quantile(vector, \n",
    "                                 probs = seq(0, 1, length = 11), \n",
    "                                 na.rm = TRUE,\n",
    "                                 type = 2),\n",
    "               include.lowest = TRUE))\n",
    "    return(ans)\n",
    "}\n",
    "ntile_na <- function(x,n){\n",
    "  notna <- !is.na(x)\n",
    "  out <- rep(NA_real_,length(x))\n",
    "  out[notna] <- ntile(x[notna],n)\n",
    "  return(out)\n",
    "}\n",
    "# boxplot((myData$popIncomplete) ~ myBin(myData$tVaccMi)) # boxplots are hardly visible coz many high outliers.\n",
    "boxplot(popIncomplete ~ myBin(tVaccMi), data=myData[myData$popIncomplete <= 20000,]) # shows an expected double hump.\n",
    "boxplot(myData$tVaccMi ~ ntile_na(myData$popIncomplete, n=10))"
   ]
  },
  {
   "cell_type": "code",
   "execution_count": 12,
   "metadata": {},
   "outputs": [
    {
     "name": "stderr",
     "output_type": "stream",
     "text": [
      "Loading required package: DEoptim\n",
      "\n",
      "Loading required package: parallel\n",
      "\n",
      "\n",
      "DEoptim package\n",
      "Differential Evolution algorithm in R\n",
      "Authors: D. Ardia, K. Mullen, B. Peterson and J. Ulrich\n",
      "\n",
      "\n"
     ]
    }
   ],
   "source": [
    "myData.noNA <- na.omit(myData)\n",
    "require(DEoptim) # Differential-Evolution optimization. https://cran.r-project.org/web/packages/DEoptim/DEoptim.pdf\n",
    "minusXbyY.vec <- function(xVec, yVec){\n",
    "    return(- xVec / yVec)\n",
    "}\n",
    "f.popIncomplete.per.tVaccMi <- function(vec){\n",
    "    popIncomplete <- vec[1]; tVaccMi <- vec[2]\n",
    "    ans <- minusXbyY.vec(popIncomplete, tVaccMi)\n",
    "        # Was: ans <- - (popIncomplete / tVaccMi)\n",
    "        # - coz minimzed via optimization.\n",
    "    return(ans)\n",
    "}\n",
    "myGOF.DEoptim <- function(outDEoptim){\n",
    "    ## print output information\n",
    "    summary(outDEoptim)\n",
    "    ## plot the best members\n",
    "    plot(outDEoptim, type = 'b')\n",
    "    ## plot the best values\n",
    "    # dev.new() # if from command-line console\n",
    "    plot(outDEoptim, plot.type = \"bestvalit\", type = 'b', col = 'blue')\n",
    "    return()\n",
    "}"
   ]
  },
  {
   "cell_type": "code",
   "execution_count": 13,
   "metadata": {},
   "outputs": [
    {
     "name": "stdout",
     "output_type": "stream",
     "text": [
      "'data.frame':\t3194 obs. of  7 variables:\n",
      " $ Date            : chr  \"2022-05-14\" \"2022-05-14\" \"2022-05-14\" \"2022-05-14\" ...\n",
      " $ FIPS            : Factor w/ 3213 levels \"1001\",\"1003\",..: 3084 18 154 159 181 208 246 357 396 533 ...\n",
      " $ Completeness_pct: num  96.8 92.5 90.5 90.5 97.6 97.6 97.1 98.7 89.4 89.4 ...\n",
      " $ SVI_CTGY        : Factor w/ 5 levels \"\",\"A\",\"B\",\"C\",..: 2 5 4 5 3 4 2 3 5 5 ...\n",
      " $ Census2019      : int  89221 12067 8986 17782 1671329 137744 20356 74228 79608 7855 ...\n",
      " $ tVaccMi         : num  396 492 602 469 1958 ...\n",
      " $ popIncomplete   : num  2855 905 854 1689 40112 ...\n",
      " - attr(*, \"na.action\")= 'omit' Named int [1:90] 34 79 116 149 183 195 226 347 351 514 ...\n",
      "  ..- attr(*, \"names\")= chr [1:90] \"34\" \"79\" \"116\" \"149\" ...\n"
     ]
    },
    {
     "data": {
      "text/html": [
       "3194"
      ],
      "text/latex": [
       "3194"
      ],
      "text/markdown": [
       "3194"
      ],
      "text/plain": [
       "[1] 3194"
      ]
     },
     "metadata": {},
     "output_type": "display_data"
    }
   ],
   "source": [
    "str(myData.noNA); length(unique(myData.noNA$FIPS))\n",
    "# duplicated(myData.noNA$FIPS)"
   ]
  },
  {
   "cell_type": "code",
   "execution_count": 14,
   "metadata": {},
   "outputs": [
    {
     "name": "stdout",
     "output_type": "stream",
     "text": [
      "Iteration: 1 bestvalit: -844.735043 bestmemit:150223.426688  177.834965\n",
      "Iteration: 2 bestvalit: -3775.704014 bestmemit:216191.213182   57.258517\n",
      "Iteration: 3 bestvalit: -30138.411267 bestmemit:214181.857896    7.106607\n",
      "Iteration: 4 bestvalit: -30138.411267 bestmemit:214181.857896    7.106607\n",
      "Iteration: 5 bestvalit: -30138.411267 bestmemit:214181.857896    7.106607\n",
      "Iteration: 6 bestvalit: -30138.411267 bestmemit:214181.857896    7.106607\n",
      "Iteration: 7 bestvalit: -50102.217457 bestmemit:177311.411825    3.538993\n",
      "Iteration: 8 bestvalit: -114600.036670 bestmemit:177159.620120    1.545895\n",
      "Iteration: 9 bestvalit: -114600.036670 bestmemit:177159.620120    1.545895\n",
      "Iteration: 10 bestvalit: -146880.508909 bestmemit:227061.839746    1.545895\n",
      "Iteration: 11 bestvalit: -146880.508909 bestmemit:227061.839746    1.545895\n",
      "Iteration: 12 bestvalit: -146880.508909 bestmemit:227061.839746    1.545895\n",
      "Iteration: 13 bestvalit: -146880.508909 bestmemit:227061.839746    1.545895\n",
      "Iteration: 14 bestvalit: -167919.457830 bestmemit:231959.836656    1.381376\n",
      "Iteration: 15 bestvalit: -167919.457830 bestmemit:231959.836656    1.381376\n",
      "Iteration: 16 bestvalit: -208868.988883 bestmemit:216191.213182    1.035057\n",
      "Iteration: 17 bestvalit: -208868.988883 bestmemit:216191.213182    1.035057\n",
      "Iteration: 18 bestvalit: -208868.988883 bestmemit:216191.213182    1.035057\n",
      "Iteration: 19 bestvalit: -208868.988883 bestmemit:216191.213182    1.035057\n",
      "Iteration: 20 bestvalit: -208868.988883 bestmemit:216191.213182    1.035057\n",
      "Iteration: 21 bestvalit: -208868.988883 bestmemit:216191.213182    1.035057\n",
      "Iteration: 22 bestvalit: -208868.988883 bestmemit:216191.213182    1.035057\n",
      "Iteration: 23 bestvalit: -208868.988883 bestmemit:216191.213182    1.035057\n",
      "Iteration: 24 bestvalit: -208868.988883 bestmemit:216191.213182    1.035057\n",
      "Iteration: 25 bestvalit: -208868.988883 bestmemit:216191.213182    1.035057\n",
      "Iteration: 26 bestvalit: -208868.988883 bestmemit:216191.213182    1.035057\n",
      "Iteration: 27 bestvalit: -208868.988883 bestmemit:216191.213182    1.035057\n",
      "Iteration: 28 bestvalit: -208868.988883 bestmemit:216191.213182    1.035057\n",
      "Iteration: 29 bestvalit: -209820.487784 bestmemit:227980.390613    1.086550\n",
      "Iteration: 30 bestvalit: -217828.512786 bestmemit:237491.370180    1.090268\n",
      "Iteration: 31 bestvalit: -224370.689522 bestmemit:238224.645602    1.061746\n",
      "Iteration: 32 bestvalit: -224370.689522 bestmemit:238224.645602    1.061746\n",
      "Iteration: 33 bestvalit: -224941.136603 bestmemit:238224.645602    1.059053\n",
      "Iteration: 34 bestvalit: -224941.136603 bestmemit:238224.645602    1.059053\n",
      "Iteration: 35 bestvalit: -226974.410433 bestmemit:236140.386365    1.040383\n",
      "Iteration: 36 bestvalit: -227956.446343 bestmemit:232116.291466    1.018248\n",
      "Iteration: 37 bestvalit: -235681.891568 bestmemit:236389.754793    1.003003\n",
      "Iteration: 38 bestvalit: -239115.705131 bestmemit:240428.207902    1.005489\n",
      "Iteration: 39 bestvalit: -240308.642659 bestmemit:240428.207902    1.000498\n",
      "Iteration: 40 bestvalit: -240308.642659 bestmemit:240428.207902    1.000498\n",
      "Iteration: 41 bestvalit: -240308.642659 bestmemit:240428.207902    1.000498\n",
      "Iteration: 42 bestvalit: -240308.642659 bestmemit:240428.207902    1.000498\n",
      "Iteration: 43 bestvalit: -240308.642659 bestmemit:240428.207902    1.000498\n",
      "Iteration: 44 bestvalit: -240308.642659 bestmemit:240428.207902    1.000498\n",
      "Iteration: 45 bestvalit: -240308.642659 bestmemit:240428.207902    1.000498\n",
      "Iteration: 46 bestvalit: -240308.642659 bestmemit:240428.207902    1.000498\n",
      "Iteration: 47 bestvalit: -240531.292355 bestmemit:240777.278622    1.001023\n",
      "Iteration: 48 bestvalit: -240531.292355 bestmemit:240777.278622    1.001023\n",
      "Iteration: 49 bestvalit: -240531.292355 bestmemit:240777.278622    1.001023\n",
      "Iteration: 50 bestvalit: -240577.296393 bestmemit:240733.263200    1.000648\n",
      "Iteration: 51 bestvalit: -240577.296393 bestmemit:240733.263200    1.000648\n",
      "Iteration: 52 bestvalit: -240728.722927 bestmemit:240733.263200    1.000019\n",
      "Iteration: 53 bestvalit: -240766.482583 bestmemit:240973.620897    1.000860\n",
      "Iteration: 54 bestvalit: -240783.467931 bestmemit:240954.347771    1.000710\n",
      "Iteration: 55 bestvalit: -240839.759192 bestmemit:240858.768846    1.000079\n",
      "Iteration: 56 bestvalit: -240839.759192 bestmemit:240858.768846    1.000079\n",
      "Iteration: 57 bestvalit: -240918.321552 bestmemit:240932.627367    1.000059\n",
      "Iteration: 58 bestvalit: -240918.321552 bestmemit:240932.627367    1.000059\n",
      "Iteration: 59 bestvalit: -240918.321552 bestmemit:240932.627367    1.000059\n",
      "Iteration: 60 bestvalit: -240918.321552 bestmemit:240932.627367    1.000059\n",
      "Iteration: 61 bestvalit: -240936.370793 bestmemit:240955.388073    1.000079\n",
      "Iteration: 62 bestvalit: -240966.055620 bestmemit:240969.516401    1.000014\n",
      "Iteration: 63 bestvalit: -240966.055620 bestmemit:240969.516401    1.000014\n",
      "Iteration: 64 bestvalit: -240966.055620 bestmemit:240969.516401    1.000014\n",
      "Iteration: 65 bestvalit: -240966.427123 bestmemit:240979.640613    1.000055\n",
      "Iteration: 66 bestvalit: -240967.037506 bestmemit:240979.640613    1.000052\n",
      "Iteration: 67 bestvalit: -240976.365735 bestmemit:240978.026839    1.000007\n",
      "Iteration: 68 bestvalit: -240976.365735 bestmemit:240978.026839    1.000007\n",
      "Iteration: 69 bestvalit: -240979.955373 bestmemit:240981.453504    1.000006\n",
      "Iteration: 70 bestvalit: -240979.955373 bestmemit:240981.453504    1.000006\n",
      "Iteration: 71 bestvalit: -240979.955373 bestmemit:240981.453504    1.000006\n",
      "Iteration: 72 bestvalit: -240980.600992 bestmemit:240981.124235    1.000002\n",
      "Iteration: 73 bestvalit: -240980.600992 bestmemit:240981.124235    1.000002\n",
      "Iteration: 74 bestvalit: -240980.600992 bestmemit:240981.124235    1.000002\n",
      "Iteration: 75 bestvalit: -240980.843091 bestmemit:240981.453504    1.000003\n",
      "Iteration: 76 bestvalit: -240980.843091 bestmemit:240981.453504    1.000003\n",
      "Iteration: 77 bestvalit: -240980.843091 bestmemit:240981.453504    1.000003\n",
      "Iteration: 78 bestvalit: -240980.843091 bestmemit:240981.453504    1.000003\n",
      "Iteration: 79 bestvalit: -240981.590381 bestmemit:240981.652591    1.000000\n",
      "Iteration: 80 bestvalit: -240981.590381 bestmemit:240981.652591    1.000000\n",
      "Iteration: 81 bestvalit: -240981.590381 bestmemit:240981.652591    1.000000\n",
      "Iteration: 82 bestvalit: -240981.590381 bestmemit:240981.652591    1.000000\n",
      "Iteration: 83 bestvalit: -240981.590381 bestmemit:240981.652591    1.000000\n",
      "Iteration: 84 bestvalit: -240981.590381 bestmemit:240981.652591    1.000000\n",
      "Iteration: 85 bestvalit: -240981.590381 bestmemit:240981.652591    1.000000\n",
      "Iteration: 86 bestvalit: -240981.590381 bestmemit:240981.652591    1.000000\n",
      "Iteration: 87 bestvalit: -240981.655177 bestmemit:240981.717386    1.000000\n",
      "Iteration: 88 bestvalit: -240981.655177 bestmemit:240981.717386    1.000000\n",
      "Iteration: 89 bestvalit: -240981.655177 bestmemit:240981.717386    1.000000\n",
      "Iteration: 90 bestvalit: -240981.655177 bestmemit:240981.717386    1.000000\n",
      "Iteration: 91 bestvalit: -240981.655177 bestmemit:240981.717386    1.000000\n",
      "Iteration: 92 bestvalit: -240981.655177 bestmemit:240981.717386    1.000000\n",
      "Iteration: 93 bestvalit: -240981.655177 bestmemit:240981.717386    1.000000\n",
      "Iteration: 94 bestvalit: -240981.686038 bestmemit:240981.715408    1.000000\n",
      "Iteration: 95 bestvalit: -240981.699228 bestmemit:240981.714050    1.000000\n",
      "Iteration: 96 bestvalit: -240981.699228 bestmemit:240981.714050    1.000000\n",
      "Iteration: 97 bestvalit: -240981.699228 bestmemit:240981.714050    1.000000\n",
      "Iteration: 98 bestvalit: -240981.710078 bestmemit:240981.711862    1.000000\n",
      "Iteration: 99 bestvalit: -240981.715571 bestmemit:240981.717354    1.000000\n",
      "Iteration: 100 bestvalit: -240981.715571 bestmemit:240981.717354    1.000000\n",
      "Iteration: 101 bestvalit: -240981.715571 bestmemit:240981.717354    1.000000\n",
      "Iteration: 102 bestvalit: -240981.715571 bestmemit:240981.717354    1.000000\n",
      "Iteration: 103 bestvalit: -240981.717450 bestmemit:240981.718345    1.000000\n",
      "Iteration: 104 bestvalit: -240981.717450 bestmemit:240981.718345    1.000000\n",
      "Iteration: 105 bestvalit: -240981.717546 bestmemit:240981.717789    1.000000\n",
      "Iteration: 106 bestvalit: -240981.717546 bestmemit:240981.717789    1.000000\n",
      "Iteration: 107 bestvalit: -240981.717546 bestmemit:240981.717789    1.000000\n",
      "Iteration: 108 bestvalit: -240981.718746 bestmemit:240981.718750    1.000000\n",
      "Iteration: 109 bestvalit: -240981.718746 bestmemit:240981.718750    1.000000\n",
      "Iteration: 110 bestvalit: -240981.719142 bestmemit:240981.719564    1.000000\n",
      "Iteration: 111 bestvalit: -240981.719142 bestmemit:240981.719564    1.000000\n",
      "Iteration: 112 bestvalit: -240981.719142 bestmemit:240981.719564    1.000000\n",
      "Iteration: 113 bestvalit: -240981.719756 bestmemit:240981.719833    1.000000\n",
      "Iteration: 114 bestvalit: -240981.719756 bestmemit:240981.719833    1.000000\n",
      "Iteration: 115 bestvalit: -240981.719756 bestmemit:240981.719833    1.000000\n",
      "Iteration: 116 bestvalit: -240981.719783 bestmemit:240981.719855    1.000000\n",
      "Iteration: 117 bestvalit: -240981.719783 bestmemit:240981.719855    1.000000\n",
      "Iteration: 118 bestvalit: -240981.719783 bestmemit:240981.719855    1.000000\n",
      "Iteration: 119 bestvalit: -240981.719806 bestmemit:240981.719996    1.000000\n",
      "Iteration: 120 bestvalit: -240981.719855 bestmemit:240981.719906    1.000000\n",
      "Iteration: 121 bestvalit: -240981.719932 bestmemit:240981.719964    1.000000\n",
      "Iteration: 122 bestvalit: -240981.719974 bestmemit:240981.719988    1.000000\n",
      "Iteration: 123 bestvalit: -240981.719974 bestmemit:240981.719988    1.000000\n",
      "Iteration: 124 bestvalit: -240981.719974 bestmemit:240981.719988    1.000000\n",
      "Iteration: 125 bestvalit: -240981.719974 bestmemit:240981.719988    1.000000\n",
      "Iteration: 126 bestvalit: -240981.719997 bestmemit:240981.719999    1.000000\n",
      "Iteration: 127 bestvalit: -240981.719997 bestmemit:240981.719999    1.000000\n",
      "Iteration: 128 bestvalit: -240981.719999 bestmemit:240981.720000    1.000000\n",
      "Iteration: 129 bestvalit: -240981.719999 bestmemit:240981.720000    1.000000\n",
      "Iteration: 130 bestvalit: -240981.719999 bestmemit:240981.720000    1.000000\n",
      "Iteration: 131 bestvalit: -240981.719999 bestmemit:240981.720000    1.000000\n",
      "Iteration: 132 bestvalit: -240981.719999 bestmemit:240981.720000    1.000000\n",
      "Iteration: 133 bestvalit: -240981.719999 bestmemit:240981.720000    1.000000\n",
      "Iteration: 134 bestvalit: -240981.719999 bestmemit:240981.720000    1.000000\n",
      "Iteration: 135 bestvalit: -240981.719999 bestmemit:240981.720000    1.000000\n",
      "Iteration: 136 bestvalit: -240981.720000 bestmemit:240981.720000    1.000000\n",
      "Iteration: 137 bestvalit: -240981.720000 bestmemit:240981.720000    1.000000\n",
      "Iteration: 138 bestvalit: -240981.720000 bestmemit:240981.720000    1.000000\n",
      "Iteration: 139 bestvalit: -240981.720000 bestmemit:240981.720000    1.000000\n",
      "Iteration: 140 bestvalit: -240981.720000 bestmemit:240981.720000    1.000000\n",
      "Iteration: 141 bestvalit: -240981.720000 bestmemit:240981.720000    1.000000\n",
      "Iteration: 142 bestvalit: -240981.720000 bestmemit:240981.720000    1.000000\n",
      "Iteration: 143 bestvalit: -240981.720000 bestmemit:240981.720000    1.000000\n",
      "Iteration: 144 bestvalit: -240981.720000 bestmemit:240981.720000    1.000000\n",
      "Iteration: 145 bestvalit: -240981.720000 bestmemit:240981.720000    1.000000\n",
      "Iteration: 146 bestvalit: -240981.720000 bestmemit:240981.720000    1.000000\n",
      "Iteration: 147 bestvalit: -240981.720000 bestmemit:240981.720000    1.000000\n",
      "Iteration: 148 bestvalit: -240981.720000 bestmemit:240981.720000    1.000000\n",
      "Iteration: 149 bestvalit: -240981.720000 bestmemit:240981.720000    1.000000\n",
      "Iteration: 150 bestvalit: -240981.720000 bestmemit:240981.720000    1.000000\n",
      "Iteration: 151 bestvalit: -240981.720000 bestmemit:240981.720000    1.000000\n",
      "Iteration: 152 bestvalit: -240981.720000 bestmemit:240981.720000    1.000000\n",
      "Iteration: 153 bestvalit: -240981.720000 bestmemit:240981.720000    1.000000\n",
      "Iteration: 154 bestvalit: -240981.720000 bestmemit:240981.720000    1.000000\n",
      "Iteration: 155 bestvalit: -240981.720000 bestmemit:240981.720000    1.000000\n",
      "Iteration: 156 bestvalit: -240981.720000 bestmemit:240981.720000    1.000000\n",
      "Iteration: 157 bestvalit: -240981.720000 bestmemit:240981.720000    1.000000\n",
      "Iteration: 158 bestvalit: -240981.720000 bestmemit:240981.720000    1.000000\n",
      "Iteration: 159 bestvalit: -240981.720000 bestmemit:240981.720000    1.000000\n",
      "Iteration: 160 bestvalit: -240981.720000 bestmemit:240981.720000    1.000000\n",
      "Iteration: 161 bestvalit: -240981.720000 bestmemit:240981.720000    1.000000\n",
      "Iteration: 162 bestvalit: -240981.720000 bestmemit:240981.720000    1.000000\n",
      "Iteration: 163 bestvalit: -240981.720000 bestmemit:240981.720000    1.000000\n",
      "Iteration: 164 bestvalit: -240981.720000 bestmemit:240981.720000    1.000000\n",
      "Iteration: 165 bestvalit: -240981.720000 bestmemit:240981.720000    1.000000\n",
      "Iteration: 166 bestvalit: -240981.720000 bestmemit:240981.720000    1.000000\n",
      "Iteration: 167 bestvalit: -240981.720000 bestmemit:240981.720000    1.000000\n",
      "Iteration: 168 bestvalit: -240981.720000 bestmemit:240981.720000    1.000000\n",
      "Iteration: 169 bestvalit: -240981.720000 bestmemit:240981.720000    1.000000\n",
      "Iteration: 170 bestvalit: -240981.720000 bestmemit:240981.720000    1.000000\n",
      "Iteration: 171 bestvalit: -240981.720000 bestmemit:240981.720000    1.000000\n",
      "Iteration: 172 bestvalit: -240981.720000 bestmemit:240981.720000    1.000000\n",
      "Iteration: 173 bestvalit: -240981.720000 bestmemit:240981.720000    1.000000\n",
      "Iteration: 174 bestvalit: -240981.720000 bestmemit:240981.720000    1.000000\n",
      "Iteration: 175 bestvalit: -240981.720000 bestmemit:240981.720000    1.000000\n",
      "Iteration: 176 bestvalit: -240981.720000 bestmemit:240981.720000    1.000000\n",
      "Iteration: 177 bestvalit: -240981.720000 bestmemit:240981.720000    1.000000\n",
      "Iteration: 178 bestvalit: -240981.720000 bestmemit:240981.720000    1.000000\n",
      "Iteration: 179 bestvalit: -240981.720000 bestmemit:240981.720000    1.000000\n",
      "Iteration: 180 bestvalit: -240981.720000 bestmemit:240981.720000    1.000000\n",
      "Iteration: 181 bestvalit: -240981.720000 bestmemit:240981.720000    1.000000\n",
      "Iteration: 182 bestvalit: -240981.720000 bestmemit:240981.720000    1.000000\n",
      "Iteration: 183 bestvalit: -240981.720000 bestmemit:240981.720000    1.000000\n",
      "Iteration: 184 bestvalit: -240981.720000 bestmemit:240981.720000    1.000000\n",
      "Iteration: 185 bestvalit: -240981.720000 bestmemit:240981.720000    1.000000\n",
      "Iteration: 186 bestvalit: -240981.720000 bestmemit:240981.720000    1.000000\n",
      "Iteration: 187 bestvalit: -240981.720000 bestmemit:240981.720000    1.000000\n",
      "Iteration: 188 bestvalit: -240981.720000 bestmemit:240981.720000    1.000000\n",
      "Iteration: 189 bestvalit: -240981.720000 bestmemit:240981.720000    1.000000\n",
      "Iteration: 190 bestvalit: -240981.720000 bestmemit:240981.720000    1.000000\n",
      "Iteration: 191 bestvalit: -240981.720000 bestmemit:240981.720000    1.000000\n",
      "Iteration: 192 bestvalit: -240981.720000 bestmemit:240981.720000    1.000000\n",
      "Iteration: 193 bestvalit: -240981.720000 bestmemit:240981.720000    1.000000\n",
      "Iteration: 194 bestvalit: -240981.720000 bestmemit:240981.720000    1.000000\n",
      "Iteration: 195 bestvalit: -240981.720000 bestmemit:240981.720000    1.000000\n",
      "Iteration: 196 bestvalit: -240981.720000 bestmemit:240981.720000    1.000000\n",
      "Iteration: 197 bestvalit: -240981.720000 bestmemit:240981.720000    1.000000\n",
      "Iteration: 198 bestvalit: -240981.720000 bestmemit:240981.720000    1.000000\n",
      "Iteration: 199 bestvalit: -240981.720000 bestmemit:240981.720000    1.000000\n",
      "Iteration: 200 bestvalit: -240981.720000 bestmemit:240981.720000    1.000000\n"
     ]
    }
   ],
   "source": [
    "lower <- c(1, 1) # Alt: c(0, min(myData$tVaccMi))\n",
    "upper <- c(max(myData.noNA$popIncomplete), max(myData.noNA$tVaccMi))\n",
    "set.seed(1234) # for reproducibility\n",
    "outDEoptim <- DEoptim(f.popIncomplete.per.tVaccMi, lower, upper) # Beware: this minimizes Objective."
   ]
  },
  {
   "cell_type": "code",
   "execution_count": 15,
   "metadata": {},
   "outputs": [
    {
     "name": "stdout",
     "output_type": "stream",
     "text": [
      "\n",
      "***** summary of DEoptim object ***** \n",
      "best member   :  240981.7 1 \n",
      "best value    :  -240981.7 \n",
      "after         :  200 generations \n",
      "fn evaluated  :  402 times \n",
      "*************************************\n"
     ]
    },
    {
     "data": {
      "image/png": "[encoded data removed]",
      "text/plain": [
       "plot without title"
      ]
     },
     "metadata": {
      "image/png": {
       "height": 420,
       "width": 420
      }
     },
     "output_type": "display_data"
    },
    {
     "data": {
      "text/plain": [
       "NULL"
      ]
     },
     "metadata": {},
     "output_type": "display_data"
    },
    {
     "data": {
      "image/png": "[encoded data removed]",
      "text/plain": [
       "Plot with title “par2”"
      ]
     },
     "metadata": {
      "image/png": {
       "height": 420,
       "width": 420
      }
     },
     "output_type": "display_data"
    },
    {
     "data": {
      "image/png": "[encoded data removed]",
      "text/plain": [
       "Plot with title “convergence plot”"
      ]
     },
     "metadata": {
      "image/png": {
       "height": 420,
       "width": 420
      }
     },
     "output_type": "display_data"
    }
   ],
   "source": [
    "myGOF.DEoptim(outDEoptim)"
   ]
  },
  {
   "cell_type": "code",
   "execution_count": 18,
   "metadata": {},
   "outputs": [],
   "source": [
    "library(ROI)\n",
    "library(ROI.plugin.glpk)\n",
    "library(ROI.plugin.qpoases)\n",
    "library(ROI.plugin.ecos)\n",
    "library(ROI.plugin.scs)\n",
    "library(ROI.plugin.alabama)\n",
    "library(ROI.plugin.lpsolve)\n",
    "library(ROI.plugin.deoptim)\n",
    "library(ROI.plugin.ipop)\n",
    "# library(ROI.plugin.symphony)\n",
    "# library(ROI.plugin.gurobi)\n",
    "# require(Rdonlp2) # [DONLP2 can be used freely for any kind of research purposes, otherwise it requires licensing],\n",
    "#     # says https://cran.r-project.org/web/views/Optimization.html."
   ]
  },
  {
   "cell_type": "code",
   "execution_count": 19,
   "metadata": {},
   "outputs": [],
   "source": [
    "# But the above \"optimal\" is allocating all vaccines to one county! That's unlikely to be acceptable as equitable by\n",
    "# the administration. So, a vector of county-wise weights is being sought that is optimal, i.e., as per a\n",
    "# (country-level) weighted-aggregate Objective function (rather than a county-wise Objective).\n",
    "f.agg.popIncomplete.per.tVaccMi <- function(vec, dat=myData.noNA){\n",
    "    # Can include various constraints if used with DEoptim() and not with many other solvers.\n",
    "    popIncomplete <- sum(vec * dat$popIncomplete); tVaccMi <- sum(vec * dat$tVaccMi)\n",
    "        # Alt: crossprod() on vectors, or more generally, %*% for matrix multiplication.\n",
    "    ans <- - (popIncomplete / tVaccMi) # - coz minimzed via optimization.\n",
    "    return(ans)\n",
    "}"
   ]
  },
  {
   "cell_type": "code",
   "execution_count": 20,
   "metadata": {},
   "outputs": [],
   "source": [
    "c.maxWt.county <- c(0.1, 0.3, 0.7, 0.9)[1] # no county must be allocated over this (of the aggregated vaccines to be allocated).\n",
    "# We might need to incorporate a min and max for c.sumWt too so that allocations completely consume manufactured vaccines.\n",
    "nCounties <- length(unique(myData.noNA$FIPS)); stopifnot(nCounties == nrow(myData.noNA))\n",
    "nCounties <- min(c(3, 30, 300, 3200)[4], nrow(myData.noNA))\n",
    "lower <- rep(0, times=nCounties) # -ve weights are unacceptable. Beware: it overwrites earlier `lower`!\n",
    "upper <- rep(c.maxWt.county, times=nCounties)\n",
    "set.seed(1234) # for reproducibility\n",
    "if(FALSE){ # avoid running DEoptim() unless you've worked out its timely completion.\n",
    "    outDEoptim <- DEoptim(f.agg.popIncomplete.per.tVaccMi, lower, upper) # Beware: this minimizes Objective.\n",
    "    myGOF.DEoptim(outDEoptim)\n",
    "} # else continue."
   ]
  },
  {
   "cell_type": "code",
   "execution_count": 21,
   "metadata": {},
   "outputs": [],
   "source": [
    "f.wtSum.n <- function(vec, nConstraints=2){\n",
    "    vec.sum <- sum(vec)\n",
    "    vec.sum.n <- rep(vec.sum, times=nConstraints)\n",
    "    return(vec.sum.n)\n",
    "}\n",
    "my.ROI_solve <- function(solv.app.i, op2, dat, dat.n, relaxBoundsForWhichSolvers, controlForWhichSolvers, verbose=FALSE){\n",
    "    print(paste(\"Starting:\", solv.app.i))\n",
    "    rep1.n <- rep(1, times=dat.n)\n",
    "    op2.use <- op2\n",
    "    if(solv.app.i %in% relaxBoundsForWhichSolvers){\n",
    "        print(\"Relaxing bounds.\")\n",
    "        constraints(op2.use) <- L_constraint(L=rbind(rep1.n, rep1.n), dir=c(\">=\", \"<=\"),\n",
    "                                             rhs = c(1 - myPrecision, 1 + myPrecision),\n",
    "                                             names=as.character(dat$FIPS)[1:dat.n])\n",
    "    } # else continue.\n",
    "    ans <- ROI_solve(op2.use, solver=solv.app.i,\n",
    "                     control=if(solv.app.i %in% controlForWhichSolvers){\n",
    "                                print(\"Including control=list(start=...)\")\n",
    "                                list(start=start2, tol=myPrecision, verbose=verbose)\n",
    "                            } else {\n",
    "                                list(verbose=verbose)\n",
    "                            }\n",
    "                    )\n",
    "        # Was till 2022May20: control=list(start=start2), tol=myPrecision\n",
    "        # Default seems to be: control=list(... tol = 1e-07 ... control.optim = ...)\n",
    "        # Default seems to be: control.optim=list(... reltol = sqrt(.Machine$double.eps))\n",
    "    return(ans)\n",
    "}\n",
    "my.ROI.solve.mult <- function(op2, dat, dat.n, whichSolvers=c(1:1), relaxBoundsForWhichSolvers=c(\"deoptimr\"),\n",
    "                             controlForWhichSolvers=c(\"alabama\", \"deoptimr\", \"nlminb\")){\n",
    "    # to limit the solvers with which optimization will be attempted.\n",
    "    solv.app <- ROI_applicable_solvers(op2); print(solv.app)\n",
    "        # Was till 2022May20: setdiff(ROI_applicable_solvers(op2), switch(nConstraints, c(), c(\"nlminb\")))\n",
    "        # Coz [only equality constraints supported with nlminb] whereas this optimization has inequalities too.\n",
    "    stopifnot((length(solv.app) >= 1) && (length(solv.app) >= max(whichSolvers)))\n",
    "    warning(\"WhatIf 7min for 30 counties. So, maybe 100*7min ie 12hrs for 100*30 counties, possibly with no optimal found.\")\n",
    "    (sol <- lapply(solv.app[whichSolvers], FUN=my.ROI_solve, op2, dat, dat.n, relaxBoundsForWhichSolvers,\n",
    "                  controlForWhichSolvers))\n",
    "      # [The runtime of the algorithm also strongly depends on the tolerances set; if the tolerances are\n",
    "      # set too small the algorithm will reach the maximum number of iterations before convergence.]\n",
    "    return(sol)\n",
    "}\n",
    "my.glimpse.sols <- function(op2.sol, sol.i.select=1){\n",
    "    ans <- list()\n",
    "    print(paste(\"Convergence success, Solver, Objective value, most-weighted counties:\"))\n",
    "    for(i in 1:length(op2.sol)){\n",
    "        op2.sol.i <- op2.sol[[i]]\n",
    "        print(paste(op2.sol.i$status$code, op2.sol.i$status$msg$solver, op2.sol.i$objval))\n",
    "            # Was till 2022May20: print(solv.app[i])\n",
    "        print(str(round(sort(solution(op2.sol.i), decreasing=TRUE), digits=5)))\n",
    "            # Was till 2022May21: print(str(round(solution(op2.sol[[i]]), digits=5)))\n",
    "            # Consider data.frame() to ease comparison of solver-wise optimal weights.\n",
    "        if(op2.sol.i$status$code == 0){ # succeeded convergence\n",
    "            ans[[op2.sol.i$status$msg$solver]] <- solution(op2.sol.i)\n",
    "            # solution(op2.sol.i)$names\n",
    "        } # else continue without copying the solution.\n",
    "    }\n",
    "    stopifnot((op2.sol[[sol.i.select]])$status$code == 0) # for success of convergence, status\n",
    "    sol.i.objval <- ((op2.sol[[sol.i.select]])$objval) # optimal value for given Objective.\n",
    "    return(ans)\n",
    "}\n",
    "myPrecision <- 0.001 # for bounds spec.\n",
    "nConstraints <- 1 # 2 for DEoptim and maybe others that need a relaxed upper bound."
   ]
  },
  {
   "cell_type": "code",
   "execution_count": 22,
   "metadata": {},
   "outputs": [
    {
     "name": "stderr",
     "output_type": "stream",
     "text": [
      "Loading required package: ggplot2\n",
      "\n",
      "\n",
      "Attaching package: ‘plotly’\n",
      "\n",
      "\n",
      "The following object is masked from ‘package:ggplot2’:\n",
      "\n",
      "    last_plot\n",
      "\n",
      "\n",
      "The following object is masked from ‘package:stats’:\n",
      "\n",
      "    filter\n",
      "\n",
      "\n",
      "The following object is masked from ‘package:graphics’:\n",
      "\n",
      "    layout\n",
      "\n",
      "\n"
     ]
    }
   ],
   "source": [
    "require(grDevices) # for colours\n",
    "library(plotly) # Refer https://plotly.com/r/3d-surface-plots/\n",
    "f.popIncomplete.per.tVaccMi.vec <- function(vec){ # Beware: (clones and) adapts f.popIncomplete.per.tVaccMi().\n",
    "    popIncomplete <- vec[,1]; tVaccMi <- vec[,2]\n",
    "        # Now refers to columns 1 and 2, instead of elements 1 and 2 of a pair (vector).\n",
    "    ans <- minusXbyY.vec(popIncomplete, tVaccMi)\n",
    "        # Was: ans <- - (popIncomplete / tVaccMi)\n",
    "        # - coz minimzed via optimization.\n",
    "    return(ans)\n",
    "}\n",
    "f.z <- function(xi, yj){\n",
    "    tmp <- t(rbind(xi, yj)) # (str(tmp))\n",
    "    # f.popIncomplete.per.tVaccMi.vec <- Vectorize(f.popIncomplete.per.tVaccMi)\n",
    "    return(f.popIncomplete.per.tVaccMi.vec(tmp))\n",
    "}\n",
    "my.surface.xyz <- function(dat){\n",
    "    x <- sort(dat$popIncomplete); y <- sort(dat$tVaccMi); z <- outer(x, y, FUN=f.z)\n",
    "    print(summary(x)); print(summary(y)); print(summary(as.vector(z)))\n",
    "    persp(x, y, z) # Minima (of Z) seems to be near max X and min Y part of the (perspective) plot. Alt: contour(x, y, z)\n",
    "    \n",
    "    # library(plotly)\n",
    "    # Basic 3D Surface Plot:\n",
    "    fig <- plot_ly(z = z)\n",
    "    fig <- fig %>% add_surface()\n",
    "\n",
    "    fig\n",
    "    # Alt: Surface Plot With Contours ...\n",
    "    \n",
    "    return(fig) # coz it seems to not get plotted otherwise?\n",
    "}"
   ]
  },
  {
   "cell_type": "code",
   "execution_count": 23,
   "metadata": {},
   "outputs": [
    {
     "name": "stdout",
     "output_type": "stream",
     "text": [
      "'data.frame':\t3194 obs. of  7 variables:\n",
      " $ Date            : chr  \"2022-05-14\" \"2022-05-14\" \"2022-05-14\" \"2022-05-14\" ...\n",
      " $ FIPS            : Factor w/ 3213 levels \"1001\",\"1003\",..: 3084 18 154 159 181 208 246 357 396 533 ...\n",
      " $ Completeness_pct: num  96.8 92.5 90.5 90.5 97.6 97.6 97.1 98.7 89.4 89.4 ...\n",
      " $ SVI_CTGY        : Factor w/ 5 levels \"\",\"A\",\"B\",\"C\",..: 2 5 4 5 3 4 2 3 5 5 ...\n",
      " $ Census2019      : int  89221 12067 8986 17782 1671329 137744 20356 74228 79608 7855 ...\n",
      " $ tVaccMi         : num  396 492 602 469 1958 ...\n",
      " $ popIncomplete   : num  2855 905 854 1689 40112 ...\n",
      " - attr(*, \"na.action\")= 'omit' Named int [1:90] 34 79 116 149 183 195 226 347 351 514 ...\n",
      "  ..- attr(*, \"names\")= chr [1:90] \"34\" \"79\" \"116\" \"149\" ...\n"
     ]
    },
    {
     "data": {
      "text/html": [
       "3194"
      ],
      "text/latex": [
       "3194"
      ],
      "text/markdown": [
       "3194"
      ],
      "text/plain": [
       "[1] 3194"
      ]
     },
     "metadata": {},
     "output_type": "display_data"
    }
   ],
   "source": [
    "# Refer http://roi.r-forge.r-project.org/introduction.html#read__writing_optimization_problems:\n",
    "FIPS.subset <- (unique(myData.noNA$FIPS))[1:nCounties] # [1:300]\n",
    "    # Alt: pick the greatest `popIncomplete` subset coz its quartile3 is around 3000.\n",
    "dat <- myData.noNA[(myData.noNA$FIPS %in% FIPS.subset),]; dat.n <- min(nrow(dat), nCounties) # coz county per row\n",
    "fo2.f <- function(vec){ return(f.agg.popIncomplete.per.tVaccMi(vec, dat=dat)) } # Was: dat=myData.noNA\n",
    "    # https://stackoverflow.com/questions/43466758/roi-optimisation-in-r-using-multi-argument-f-objective-function\n",
    "    # says [F_objective expects a function with only one argument so you have to write a wrapper function].\n",
    "str(dat); dat.n # ; dat$FIPS; head(dat)\n",
    "start2 <- rep(as.numeric(1 / dat.n), times=dat.n)\n",
    "              # Equal-Weighted portfolio of financial/investment assets is considered a reasonable benchmark.\n",
    "              # Beware: double() seems quiet! 20000/500=40 might be near optimal Objective value."
   ]
  },
  {
   "cell_type": "code",
   "execution_count": 24,
   "metadata": {
    "scrolled": true
   },
   "outputs": [
    {
     "name": "stderr",
     "output_type": "stream",
     "text": [
      "Warning message in eval(expr, envir, enclos):\n",
      "“F_objective() for the most general form. Alt: Q_objective() or L_objective(). Types of constraints: F, C, Q, L.”\n"
     ]
    },
    {
     "data": {
      "text/html": [
       "<style>\n",
       ".list-inline {list-style: none; margin:0; padding: 0}\n",
       ".list-inline>li {display: inline-block}\n",
       ".list-inline>li:not(:last-child)::after {content: \"\\00b7\"; padding: 0 .5ex}\n",
       "</style>\n",
       "<ol class=list-inline><li>'nlminb'</li><li>'alabama'</li><li>'deoptimr'</li></ol>\n"
      ],
      "text/latex": [
       "\\begin{enumerate*}\n",
       "\\item 'nlminb'\n",
       "\\item 'alabama'\n",
       "\\item 'deoptimr'\n",
       "\\end{enumerate*}\n"
      ],
      "text/markdown": [
       "1. 'nlminb'\n",
       "2. 'alabama'\n",
       "3. 'deoptimr'\n",
       "\n",
       "\n"
      ],
      "text/plain": [
       "[1] \"nlminb\"   \"alabama\"  \"deoptimr\""
      ]
     },
     "metadata": {},
     "output_type": "display_data"
    }
   ],
   "source": [
    "warning(\"F_objective() for the most general form. Alt: Q_objective() or L_objective(). Types of constraints: F, C, Q, L.\")\n",
    "fo2 <- F_objective(F=fo2.f, n=dat.n, names=dat$FIPS[1:dat.n])\n",
    "fc2 <- switch(nConstraints, # for being fully allocated (or fully invested).\n",
    "    F_constraint(F=function(vec) f.wtSum.n(vec, nConstraints=1), dir = c(\"==\"), rhs = c(1),\n",
    "                 names=as.character(dat$FIPS)[1:dat.n]),\n",
    "    F_constraint(F=function(vec) f.wtSum.n(vec, nConstraints=2), dir = c(\">=\", \"<=\"),\n",
    "                 rhs = c(1 - myPrecision, 1 + myPrecision), names=as.character(dat$FIPS)[1:dat.n])\n",
    ")\n",
    "lim2 <- V_bound(li=1:dat.n, ui=1:dat.n, lb=lower[1:dat.n], ub=upper[1:dat.n])\n",
    "typ2 <- rep(\"C\", times=dat.n) # c(\"B\", \"I\", \"C\", \"CI\" ...)\n",
    "              # denoting Binary (via dummies too), Integer, Continuous, or combinations.\n",
    "op2 <- OP(objective=fo2, constraints=fc2, bounds=lim2, types=typ2,\n",
    "          maximum = FALSE) # FALSE coz specified as minimization problem.\n",
    "solv.app <- ROI_applicable_solvers(op2); solv.app"
   ]
  },
  {
   "cell_type": "code",
   "execution_count": 25,
   "metadata": {
    "scrolled": true
   },
   "outputs": [],
   "source": [
    "if(FALSE){ # FALSE coz this Function spec runs slower than subsequent spec.\n",
    "    op2.sol <- my.ROI.solve.mult(op2, dat, dat.n, whichSolvers=c(1:length(solv.app))) # Was till 2022May20: c(1:3)\n",
    "} # else continue."
   ]
  },
  {
   "cell_type": "code",
   "execution_count": 26,
   "metadata": {
    "scrolled": true
   },
   "outputs": [],
   "source": [
    "if(FALSE){\n",
    "    my.glimpse.sols(op2.sol, sol.i.select=1)\n",
    "} # else continue."
   ]
  },
  {
   "cell_type": "code",
   "execution_count": 27,
   "metadata": {
    "scrolled": true
   },
   "outputs": [
    {
     "name": "stdout",
     "output_type": "stream",
     "text": [
      "     Min.   1st Qu.    Median      Mean   3rd Qu.      Max. \n",
      "     1.86    383.93   1005.07   4214.63   2940.74 240981.72 \n",
      "   Min. 1st Qu.  Median    Mean 3rd Qu.    Max. \n",
      "  172.6   401.9   579.9   722.0   873.9  4422.3 \n",
      "      Min.    1st Qu.     Median       Mean    3rd Qu.       Max. \n",
      "-1396.5372    -5.3218    -1.6988    -8.0712    -0.5857    -0.0004 \n"
     ]
    },
    {
     "ename": "ERROR",
     "evalue": "Error in persp.default(x, y, z): increasing 'x' and 'y' values expected\n",
     "output_type": "error",
     "traceback": [
      "Error in persp.default(x, y, z): increasing 'x' and 'y' values expected\nTraceback:\n",
      "1. my.surface.xyz(dat)",
      "2. persp(x, y, z)   # at line 19 of file <text>",
      "3. persp.default(x, y, z)",
      "4. stop(\"increasing 'x' and 'y' values expected\")"
     ]
    }
   ],
   "source": [
    "my.surface.xyz(dat)"
   ]
  },
  {
   "cell_type": "code",
   "execution_count": 28,
   "metadata": {
    "scrolled": true
   },
   "outputs": [
    {
     "data": {
      "text/html": [
       "<style>\n",
       ".list-inline {list-style: none; margin:0; padding: 0}\n",
       ".list-inline>li {display: inline-block}\n",
       ".list-inline>li:not(:last-child)::after {content: \"\\00b7\"; padding: 0 .5ex}\n",
       "</style>\n",
       "<ol class=list-inline><li>'glpk'</li><li>'qpoases'</li><li>'ecos'</li><li>'scs'</li><li>'alabama'</li><li>'lpsolve'</li><li>'ipop'</li></ol>\n"
      ],
      "text/latex": [
       "\\begin{enumerate*}\n",
       "\\item 'glpk'\n",
       "\\item 'qpoases'\n",
       "\\item 'ecos'\n",
       "\\item 'scs'\n",
       "\\item 'alabama'\n",
       "\\item 'lpsolve'\n",
       "\\item 'ipop'\n",
       "\\end{enumerate*}\n"
      ],
      "text/markdown": [
       "1. 'glpk'\n",
       "2. 'qpoases'\n",
       "3. 'ecos'\n",
       "4. 'scs'\n",
       "5. 'alabama'\n",
       "6. 'lpsolve'\n",
       "7. 'ipop'\n",
       "\n",
       "\n"
      ],
      "text/plain": [
       "[1] \"glpk\"    \"qpoases\" \"ecos\"    \"scs\"     \"alabama\" \"lpsolve\" \"ipop\"   "
      ]
     },
     "metadata": {},
     "output_type": "display_data"
    }
   ],
   "source": [
    "# Now, reformulate the specified Functional objective and constraints less generally ... as possibly a Quadratic\n",
    "# or Linear one, thereby inviting more solvers and better optima:\n",
    "# Minimize over {xwt_i} the objective: a_i * xwt_i where a_i == -(popIncomplete_i / tVaccMi_i)\n",
    "#   subject to constraints:\n",
    "#     Sum(xwt_i) == 1\n",
    "#     each xwt_i is bounded by interval [lower, upper] eg [0, c.maxWt.county==0.3]\n",
    "#     each xwt_i belongs to {R}\n",
    "op2lp <- op2 # objective(op2); constraints(op2); bounds(op2)\n",
    "a.i <- -(dat$popIncomplete / dat$tVaccMi) # vector\n",
    "rep1.n <- rep(1, dat.n)\n",
    "objective(op2lp) <- L_objective(a.i, names=as.character(dat$FIPS)[1:dat.n]) # Q_objective(Q=?, L=?)\n",
    "constraints(op2lp) <- switch(nConstraints, # Select either an exact 1 or a relaxed 1 (ie +/- myPrecision).\n",
    "    L_constraint(L=rep1.n, dir=\"==\", rhs=c(1), names=as.character(dat$FIPS)[1:dat.n]),\n",
    "    L_constraint(L=rbind(rep1.n, rep1.n), dir=c(\">=\", \"<=\"), rhs = c(1 - myPrecision, 1 + myPrecision),\n",
    "                 names=as.character(dat$FIPS)[1:dat.n]))\n",
    "bounds(op2lp) <- V_bound(li=1:dat.n, ui=1:dat.n, lb=lower[1:dat.n], ub=upper[1:dat.n]) # box bounds or constraints.\n",
    "    # Was till 2022May20: V_bound(lb=lower[1:dat.n], ub=upper[1:dat.n]) # equivalent to that for op2\n",
    "    # V_bound(lb=rep(0, times=dat.n), ub=rep(c.maxWt.county, times=dat.n))\n",
    "solv.app <- ROI_applicable_solvers(op2lp); solv.app"
   ]
  },
  {
   "cell_type": "code",
   "execution_count": 29,
   "metadata": {
    "scrolled": false
   },
   "outputs": [
    {
     "name": "stdout",
     "output_type": "stream",
     "text": [
      "[1] \"glpk\"    \"qpoases\" \"ecos\"    \"scs\"     \"alabama\" \"lpsolve\" \"ipop\"   \n"
     ]
    },
    {
     "name": "stderr",
     "output_type": "stream",
     "text": [
      "Warning message in my.ROI.solve.mult(op2lp, dat, whichSolvers = which(!(solv.app %in% :\n",
      "“WhatIf 7min for 30 counties. So, maybe 100*7min ie 12hrs for 100*30 counties, possibly with no optimal found.”\n"
     ]
    },
    {
     "name": "stdout",
     "output_type": "stream",
     "text": [
      "[1] \"Starting: glpk\"\n",
      "[1] \"Starting: ecos\"\n",
      "[1] \"Starting: scs\"\n",
      "[1] \"Starting: lpsolve\"\n",
      "[1] \"Starting: ipop\"\n"
     ]
    }
   ],
   "source": [
    "op2lp.sol <- my.ROI.solve.mult(op2lp, dat, whichSolvers=which(!(solv.app %in% c(\"qpoases\",\"alabama\",\"symphony\"))), dat.n)\n",
    "    # Was till 2022May21: which(solv.app != 'qpoases')\n",
    "    # qpoases: [Error in t.default(Q): argument is not a matrix].\n",
    "    # if(solv.app.i == \"qpoases\"){ Q_objective(Q=NULL, L=...) or Q_objective(Q=c(0), L=...) }\n",
    "    # [`ilack.max`: Maximum number of outer iterations where no change in parameters is tolerated]."
   ]
  },
  {
   "cell_type": "code",
   "execution_count": 30,
   "metadata": {},
   "outputs": [
    {
     "name": "stdout",
     "output_type": "stream",
     "text": [
      "[1] \"Convergence success, Solver, Objective value, most-weighted counties:\"\n",
      "[1] \"0 glpk -277.974602544146\"\n",
      " Named num [1:3194] 0.1 0.1 0.1 0.1 0.1 0.1 0.1 0.1 0.1 0.1 ...\n",
      " - attr(*, \"names\")= chr [1:3194] \"13067\" \"13089\" \"26163\" \"13135\" ...\n",
      "NULL\n",
      "[1] \"0 ecos -277.974602512569\"\n",
      " Named num [1:3194] 0.1 0.1 0.1 0.1 0.1 0.1 0.1 0.1 0.1 0.1 ...\n",
      " - attr(*, \"names\")= chr [1:3194] \"51059\" \"13121\" \"13135\" \"17031\" ...\n",
      "NULL\n",
      "[1] \"0 scs -277.974612177813\"\n",
      " Named num [1:3194] 0.1 0.1 0.1 0.1 0.1 0.1 0.1 0.1 0.1 0.1 ...\n",
      " - attr(*, \"names\")= chr [1:3194] \"25017\" \"21111\" \"26163\" \"29189\" ...\n",
      "NULL\n",
      "[1] \"0 lpsolve -277.974602544146\"\n",
      " Named num [1:3194] 0.1 0.1 0.1 0.1 0.1 0.1 0.1 0.1 0.1 0.1 ...\n",
      " - attr(*, \"names\")= chr [1:3194] \"13089\" \"26163\" \"13135\" \"25017\" ...\n",
      "NULL\n",
      "[1] \"1 ipop NA\"\n",
      " num(0) \n",
      "NULL\n"
     ]
    }
   ],
   "source": [
    "op2lp.sol.list <- my.glimpse.sols(op2lp.sol, sol.i.select=1)"
   ]
  },
  {
   "cell_type": "code",
   "execution_count": 31,
   "metadata": {},
   "outputs": [
    {
     "name": "stdout",
     "output_type": "stream",
     "text": [
      "'data.frame':\t3194 obs. of  4 variables:\n",
      " $ glpk   : num  0 0 0 0 0 0 0 0 0 0 ...\n",
      " $ ecos   : num  4.85e-14 4.83e-14 4.83e-14 4.84e-14 4.91e-14 ...\n",
      " $ scs    : num  -1.84e-10 1.44e-12 5.67e-11 -1.09e-10 -2.42e-10 ...\n",
      " $ lpsolve: num  0 0 0 0 0 0 0 0 0 0 ...\n"
     ]
    }
   ],
   "source": [
    "op2lp.sol.list.df <- as.data.frame(op2lp.sol.list); str(op2lp.sol.list.df)"
   ]
  },
  {
   "cell_type": "code",
   "execution_count": 32,
   "metadata": {},
   "outputs": [
    {
     "data": {
      "text/html": [
       "<table class=\"dataframe\">\n",
       "<caption>A data.frame: 20 × 4</caption>\n",
       "<thead>\n",
       "\t<tr><th></th><th scope=col>glpk</th><th scope=col>ecos</th><th scope=col>scs</th><th scope=col>lpsolve</th></tr>\n",
       "\t<tr><th></th><th scope=col>&lt;dbl&gt;</th><th scope=col>&lt;dbl&gt;</th><th scope=col>&lt;dbl&gt;</th><th scope=col>&lt;dbl&gt;</th></tr>\n",
       "</thead>\n",
       "<tbody>\n",
       "\t<tr><th scope=row>25017</th><td>1.000000e-01</td><td>1.000000e-01</td><td>1.000000e-01</td><td>0.1</td></tr>\n",
       "\t<tr><th scope=row>21111</th><td>1.000000e-01</td><td>1.000000e-01</td><td>1.000000e-01</td><td>0.1</td></tr>\n",
       "\t<tr><th scope=row>26163</th><td>1.000000e-01</td><td>1.000000e-01</td><td>1.000000e-01</td><td>0.1</td></tr>\n",
       "\t<tr><th scope=row>29189</th><td>1.000000e-01</td><td>1.000000e-01</td><td>1.000000e-01</td><td>0.1</td></tr>\n",
       "\t<tr><th scope=row>13089</th><td>1.000000e-01</td><td>1.000000e-01</td><td>1.000000e-01</td><td>0.1</td></tr>\n",
       "\t<tr><th scope=row>13067</th><td>1.000000e-01</td><td>1.000000e-01</td><td>1.000000e-01</td><td>0.1</td></tr>\n",
       "\t<tr><th scope=row>17031</th><td>1.000000e-01</td><td>1.000000e-01</td><td>1.000000e-01</td><td>0.1</td></tr>\n",
       "\t<tr><th scope=row>13135</th><td>1.000000e-01</td><td>1.000000e-01</td><td>1.000000e-01</td><td>0.1</td></tr>\n",
       "\t<tr><th scope=row>13121</th><td>1.000000e-01</td><td>1.000000e-01</td><td>1.000000e-01</td><td>0.1</td></tr>\n",
       "\t<tr><th scope=row>51059</th><td>1.000000e-01</td><td>1.000000e-01</td><td>1.000000e-01</td><td>0.1</td></tr>\n",
       "\t<tr><th scope=row>51153</th><td>1.387779e-16</td><td>3.208534e-12</td><td>7.144219e-08</td><td>0.0</td></tr>\n",
       "\t<tr><th scope=row>40127</th><td>0.000000e+00</td><td>4.833032e-14</td><td>1.437769e-10</td><td>0.0</td></tr>\n",
       "\t<tr><th scope=row>17101</th><td>0.000000e+00</td><td>4.833032e-14</td><td>1.437710e-10</td><td>0.0</td></tr>\n",
       "\t<tr><th scope=row>38053</th><td>0.000000e+00</td><td>4.833030e-14</td><td>1.437583e-10</td><td>0.0</td></tr>\n",
       "\t<tr><th scope=row>18075</th><td>0.000000e+00</td><td>4.833030e-14</td><td>1.437575e-10</td><td>0.0</td></tr>\n",
       "\t<tr><th scope=row>20117</th><td>0.000000e+00</td><td>4.833029e-14</td><td>1.437437e-10</td><td>0.0</td></tr>\n",
       "\t<tr><th scope=row>6115</th><td>0.000000e+00</td><td>4.833023e-14</td><td>1.437004e-10</td><td>0.0</td></tr>\n",
       "\t<tr><th scope=row>35039</th><td>0.000000e+00</td><td>4.833021e-14</td><td>1.436829e-10</td><td>0.0</td></tr>\n",
       "\t<tr><th scope=row>56037</th><td>0.000000e+00</td><td>4.833018e-14</td><td>1.436582e-10</td><td>0.0</td></tr>\n",
       "\t<tr><th scope=row>41059</th><td>0.000000e+00</td><td>4.833018e-14</td><td>1.436568e-10</td><td>0.0</td></tr>\n",
       "</tbody>\n",
       "</table>\n"
      ],
      "text/latex": [
       "A data.frame: 20 × 4\n",
       "\\begin{tabular}{r|llll}\n",
       "  & glpk & ecos & scs & lpsolve\\\\\n",
       "  & <dbl> & <dbl> & <dbl> & <dbl>\\\\\n",
       "\\hline\n",
       "\t25017 & 1.000000e-01 & 1.000000e-01 & 1.000000e-01 & 0.1\\\\\n",
       "\t21111 & 1.000000e-01 & 1.000000e-01 & 1.000000e-01 & 0.1\\\\\n",
       "\t26163 & 1.000000e-01 & 1.000000e-01 & 1.000000e-01 & 0.1\\\\\n",
       "\t29189 & 1.000000e-01 & 1.000000e-01 & 1.000000e-01 & 0.1\\\\\n",
       "\t13089 & 1.000000e-01 & 1.000000e-01 & 1.000000e-01 & 0.1\\\\\n",
       "\t13067 & 1.000000e-01 & 1.000000e-01 & 1.000000e-01 & 0.1\\\\\n",
       "\t17031 & 1.000000e-01 & 1.000000e-01 & 1.000000e-01 & 0.1\\\\\n",
       "\t13135 & 1.000000e-01 & 1.000000e-01 & 1.000000e-01 & 0.1\\\\\n",
       "\t13121 & 1.000000e-01 & 1.000000e-01 & 1.000000e-01 & 0.1\\\\\n",
       "\t51059 & 1.000000e-01 & 1.000000e-01 & 1.000000e-01 & 0.1\\\\\n",
       "\t51153 & 1.387779e-16 & 3.208534e-12 & 7.144219e-08 & 0.0\\\\\n",
       "\t40127 & 0.000000e+00 & 4.833032e-14 & 1.437769e-10 & 0.0\\\\\n",
       "\t17101 & 0.000000e+00 & 4.833032e-14 & 1.437710e-10 & 0.0\\\\\n",
       "\t38053 & 0.000000e+00 & 4.833030e-14 & 1.437583e-10 & 0.0\\\\\n",
       "\t18075 & 0.000000e+00 & 4.833030e-14 & 1.437575e-10 & 0.0\\\\\n",
       "\t20117 & 0.000000e+00 & 4.833029e-14 & 1.437437e-10 & 0.0\\\\\n",
       "\t6115 & 0.000000e+00 & 4.833023e-14 & 1.437004e-10 & 0.0\\\\\n",
       "\t35039 & 0.000000e+00 & 4.833021e-14 & 1.436829e-10 & 0.0\\\\\n",
       "\t56037 & 0.000000e+00 & 4.833018e-14 & 1.436582e-10 & 0.0\\\\\n",
       "\t41059 & 0.000000e+00 & 4.833018e-14 & 1.436568e-10 & 0.0\\\\\n",
       "\\end{tabular}\n"
      ],
      "text/markdown": [
       "\n",
       "A data.frame: 20 × 4\n",
       "\n",
       "| <!--/--> | glpk &lt;dbl&gt; | ecos &lt;dbl&gt; | scs &lt;dbl&gt; | lpsolve &lt;dbl&gt; |\n",
       "|---|---|---|---|---|\n",
       "| 25017 | 1.000000e-01 | 1.000000e-01 | 1.000000e-01 | 0.1 |\n",
       "| 21111 | 1.000000e-01 | 1.000000e-01 | 1.000000e-01 | 0.1 |\n",
       "| 26163 | 1.000000e-01 | 1.000000e-01 | 1.000000e-01 | 0.1 |\n",
       "| 29189 | 1.000000e-01 | 1.000000e-01 | 1.000000e-01 | 0.1 |\n",
       "| 13089 | 1.000000e-01 | 1.000000e-01 | 1.000000e-01 | 0.1 |\n",
       "| 13067 | 1.000000e-01 | 1.000000e-01 | 1.000000e-01 | 0.1 |\n",
       "| 17031 | 1.000000e-01 | 1.000000e-01 | 1.000000e-01 | 0.1 |\n",
       "| 13135 | 1.000000e-01 | 1.000000e-01 | 1.000000e-01 | 0.1 |\n",
       "| 13121 | 1.000000e-01 | 1.000000e-01 | 1.000000e-01 | 0.1 |\n",
       "| 51059 | 1.000000e-01 | 1.000000e-01 | 1.000000e-01 | 0.1 |\n",
       "| 51153 | 1.387779e-16 | 3.208534e-12 | 7.144219e-08 | 0.0 |\n",
       "| 40127 | 0.000000e+00 | 4.833032e-14 | 1.437769e-10 | 0.0 |\n",
       "| 17101 | 0.000000e+00 | 4.833032e-14 | 1.437710e-10 | 0.0 |\n",
       "| 38053 | 0.000000e+00 | 4.833030e-14 | 1.437583e-10 | 0.0 |\n",
       "| 18075 | 0.000000e+00 | 4.833030e-14 | 1.437575e-10 | 0.0 |\n",
       "| 20117 | 0.000000e+00 | 4.833029e-14 | 1.437437e-10 | 0.0 |\n",
       "| 6115 | 0.000000e+00 | 4.833023e-14 | 1.437004e-10 | 0.0 |\n",
       "| 35039 | 0.000000e+00 | 4.833021e-14 | 1.436829e-10 | 0.0 |\n",
       "| 56037 | 0.000000e+00 | 4.833018e-14 | 1.436582e-10 | 0.0 |\n",
       "| 41059 | 0.000000e+00 | 4.833018e-14 | 1.436568e-10 | 0.0 |\n",
       "\n"
      ],
      "text/plain": [
       "      glpk         ecos         scs          lpsolve\n",
       "25017 1.000000e-01 1.000000e-01 1.000000e-01 0.1    \n",
       "21111 1.000000e-01 1.000000e-01 1.000000e-01 0.1    \n",
       "26163 1.000000e-01 1.000000e-01 1.000000e-01 0.1    \n",
       "29189 1.000000e-01 1.000000e-01 1.000000e-01 0.1    \n",
       "13089 1.000000e-01 1.000000e-01 1.000000e-01 0.1    \n",
       "13067 1.000000e-01 1.000000e-01 1.000000e-01 0.1    \n",
       "17031 1.000000e-01 1.000000e-01 1.000000e-01 0.1    \n",
       "13135 1.000000e-01 1.000000e-01 1.000000e-01 0.1    \n",
       "13121 1.000000e-01 1.000000e-01 1.000000e-01 0.1    \n",
       "51059 1.000000e-01 1.000000e-01 1.000000e-01 0.1    \n",
       "51153 1.387779e-16 3.208534e-12 7.144219e-08 0.0    \n",
       "40127 0.000000e+00 4.833032e-14 1.437769e-10 0.0    \n",
       "17101 0.000000e+00 4.833032e-14 1.437710e-10 0.0    \n",
       "38053 0.000000e+00 4.833030e-14 1.437583e-10 0.0    \n",
       "18075 0.000000e+00 4.833030e-14 1.437575e-10 0.0    \n",
       "20117 0.000000e+00 4.833029e-14 1.437437e-10 0.0    \n",
       "6115  0.000000e+00 4.833023e-14 1.437004e-10 0.0    \n",
       "35039 0.000000e+00 4.833021e-14 1.436829e-10 0.0    \n",
       "56037 0.000000e+00 4.833018e-14 1.436582e-10 0.0    \n",
       "41059 0.000000e+00 4.833018e-14 1.436568e-10 0.0    "
      ]
     },
     "metadata": {},
     "output_type": "display_data"
    },
    {
     "data": {
      "text/html": [
       "<table class=\"dataframe\">\n",
       "<caption>A data.frame: 6 × 4</caption>\n",
       "<thead>\n",
       "\t<tr><th></th><th scope=col>glpk</th><th scope=col>ecos</th><th scope=col>scs</th><th scope=col>lpsolve</th></tr>\n",
       "\t<tr><th></th><th scope=col>&lt;dbl&gt;</th><th scope=col>&lt;dbl&gt;</th><th scope=col>&lt;dbl&gt;</th><th scope=col>&lt;dbl&gt;</th></tr>\n",
       "</thead>\n",
       "<tbody>\n",
       "\t<tr><th scope=row>1073</th><td>0</td><td>1.042812e-13</td><td>-3.784941e-10</td><td>0</td></tr>\n",
       "\t<tr><th scope=row>51041</th><td>0</td><td>1.043112e-13</td><td>-3.785026e-10</td><td>0</td></tr>\n",
       "\t<tr><th scope=row>42003</th><td>0</td><td>1.270197e-13</td><td>-3.833340e-10</td><td>0</td></tr>\n",
       "\t<tr><th scope=row>51810</th><td>0</td><td>1.297466e-13</td><td>-3.837607e-10</td><td>0</td></tr>\n",
       "\t<tr><th scope=row>26125</th><td>0</td><td>1.723891e-13</td><td>-3.884588e-10</td><td>0</td></tr>\n",
       "\t<tr><th scope=row>51107</th><td>0</td><td>1.865056e-13</td><td>-3.896367e-10</td><td>0</td></tr>\n",
       "</tbody>\n",
       "</table>\n"
      ],
      "text/latex": [
       "A data.frame: 6 × 4\n",
       "\\begin{tabular}{r|llll}\n",
       "  & glpk & ecos & scs & lpsolve\\\\\n",
       "  & <dbl> & <dbl> & <dbl> & <dbl>\\\\\n",
       "\\hline\n",
       "\t1073 & 0 & 1.042812e-13 & -3.784941e-10 & 0\\\\\n",
       "\t51041 & 0 & 1.043112e-13 & -3.785026e-10 & 0\\\\\n",
       "\t42003 & 0 & 1.270197e-13 & -3.833340e-10 & 0\\\\\n",
       "\t51810 & 0 & 1.297466e-13 & -3.837607e-10 & 0\\\\\n",
       "\t26125 & 0 & 1.723891e-13 & -3.884588e-10 & 0\\\\\n",
       "\t51107 & 0 & 1.865056e-13 & -3.896367e-10 & 0\\\\\n",
       "\\end{tabular}\n"
      ],
      "text/markdown": [
       "\n",
       "A data.frame: 6 × 4\n",
       "\n",
       "| <!--/--> | glpk &lt;dbl&gt; | ecos &lt;dbl&gt; | scs &lt;dbl&gt; | lpsolve &lt;dbl&gt; |\n",
       "|---|---|---|---|---|\n",
       "| 1073 | 0 | 1.042812e-13 | -3.784941e-10 | 0 |\n",
       "| 51041 | 0 | 1.043112e-13 | -3.785026e-10 | 0 |\n",
       "| 42003 | 0 | 1.270197e-13 | -3.833340e-10 | 0 |\n",
       "| 51810 | 0 | 1.297466e-13 | -3.837607e-10 | 0 |\n",
       "| 26125 | 0 | 1.723891e-13 | -3.884588e-10 | 0 |\n",
       "| 51107 | 0 | 1.865056e-13 | -3.896367e-10 | 0 |\n",
       "\n"
      ],
      "text/plain": [
       "      glpk ecos         scs           lpsolve\n",
       "1073  0    1.042812e-13 -3.784941e-10 0      \n",
       "51041 0    1.043112e-13 -3.785026e-10 0      \n",
       "42003 0    1.270197e-13 -3.833340e-10 0      \n",
       "51810 0    1.297466e-13 -3.837607e-10 0      \n",
       "26125 0    1.723891e-13 -3.884588e-10 0      \n",
       "51107 0    1.865056e-13 -3.896367e-10 0      "
      ]
     },
     "metadata": {},
     "output_type": "display_data"
    }
   ],
   "source": [
    "op2lp.sol.list.df.ord <- op2lp.sol.list.df[order(op2lp.sol.list.df$scs, decreasing=TRUE),]\n",
    "head(op2lp.sol.list.df.ord, 20)\n",
    "tail(op2lp.sol.list.df.ord)"
   ]
  },
  {
   "cell_type": "code",
   "execution_count": 33,
   "metadata": {},
   "outputs": [],
   "source": [
    "write.csv(op2lp.sol.list.df, file=file.path(\".\", paste0(\"op2lp.sol.list.df\", \".csv\")), row.names=TRUE)\n",
    "    # There seem to be about 10 counties that got 0.1 weight allocated (by `lpsolv` and sometimes others too)."
   ]
  },
  {
   "cell_type": "code",
   "execution_count": 34,
   "metadata": {},
   "outputs": [
    {
     "data": {
      "text/plain": [
       "      glpk                ecos                scs           \n",
       " Min.   :0.0000000   Min.   :0.0000000   Min.   :0.0000000  \n",
       " 1st Qu.:0.0000000   1st Qu.:0.0000000   1st Qu.:0.0000000  \n",
       " Median :0.0000000   Median :0.0000000   Median :0.0000000  \n",
       " Mean   :0.0003131   Mean   :0.0003131   Mean   :0.0003131  \n",
       " 3rd Qu.:0.0000000   3rd Qu.:0.0000000   3rd Qu.:0.0000000  \n",
       " Max.   :0.1000000   Max.   :0.1000000   Max.   :0.1000000  \n",
       "    lpsolve         \n",
       " Min.   :0.0000000  \n",
       " 1st Qu.:0.0000000  \n",
       " Median :0.0000000  \n",
       " Mean   :0.0003131  \n",
       " 3rd Qu.:0.0000000  \n",
       " Max.   :0.1000000  "
      ]
     },
     "metadata": {},
     "output_type": "display_data"
    }
   ],
   "source": [
    "summary(op2lp.sol.list.df) # each solver's output seems identical."
   ]
  },
  {
   "cell_type": "code",
   "execution_count": 35,
   "metadata": {
    "scrolled": true
   },
   "outputs": [
    {
     "data": {
      "text/html": [
       "<table class=\"dataframe\">\n",
       "<caption>A matrix: 10 × 4 of type dbl</caption>\n",
       "<thead>\n",
       "\t<tr><th></th><th scope=col>glpk</th><th scope=col>ecos</th><th scope=col>scs</th><th scope=col>lpsolve</th></tr>\n",
       "</thead>\n",
       "<tbody>\n",
       "\t<tr><th scope=row>90%</th><td>0.000000e+00</td><td>4.890331e-14</td><td>1.381030e-10</td><td>0.0000</td></tr>\n",
       "\t<tr><th scope=row>95%</th><td>0.000000e+00</td><td>5.033419e-14</td><td>1.406557e-10</td><td>0.0000</td></tr>\n",
       "\t<tr><th scope=row>99%</th><td>0.000000e+00</td><td>6.335750e-14</td><td>1.432663e-10</td><td>0.0000</td></tr>\n",
       "\t<tr><th scope=row>99.5%</th><td>0.000000e+00</td><td>1.042822e-13</td><td>1.437019e-10</td><td>0.0000</td></tr>\n",
       "\t<tr><th scope=row>99.6%</th><td>0.000000e+00</td><td>1.394691e-13</td><td>1.437612e-10</td><td>0.0000</td></tr>\n",
       "\t<tr><th scope=row>99.68%</th><td>1.085798e-16</td><td>2.550941e-12</td><td>5.592765e-08</td><td>0.0000</td></tr>\n",
       "\t<tr><th scope=row>99.7%</th><td>4.210000e-02</td><td>4.210000e-02</td><td>4.210004e-02</td><td>0.0421</td></tr>\n",
       "\t<tr><th scope=row>99.8%</th><td>1.000000e-01</td><td>1.000000e-01</td><td>1.000000e-01</td><td>0.1000</td></tr>\n",
       "\t<tr><th scope=row>99.9%</th><td>1.000000e-01</td><td>1.000000e-01</td><td>1.000000e-01</td><td>0.1000</td></tr>\n",
       "\t<tr><th scope=row>100%</th><td>1.000000e-01</td><td>1.000000e-01</td><td>1.000000e-01</td><td>0.1000</td></tr>\n",
       "</tbody>\n",
       "</table>\n"
      ],
      "text/latex": [
       "A matrix: 10 × 4 of type dbl\n",
       "\\begin{tabular}{r|llll}\n",
       "  & glpk & ecos & scs & lpsolve\\\\\n",
       "\\hline\n",
       "\t90\\% & 0.000000e+00 & 4.890331e-14 & 1.381030e-10 & 0.0000\\\\\n",
       "\t95\\% & 0.000000e+00 & 5.033419e-14 & 1.406557e-10 & 0.0000\\\\\n",
       "\t99\\% & 0.000000e+00 & 6.335750e-14 & 1.432663e-10 & 0.0000\\\\\n",
       "\t99.5\\% & 0.000000e+00 & 1.042822e-13 & 1.437019e-10 & 0.0000\\\\\n",
       "\t99.6\\% & 0.000000e+00 & 1.394691e-13 & 1.437612e-10 & 0.0000\\\\\n",
       "\t99.68\\% & 1.085798e-16 & 2.550941e-12 & 5.592765e-08 & 0.0000\\\\\n",
       "\t99.7\\% & 4.210000e-02 & 4.210000e-02 & 4.210004e-02 & 0.0421\\\\\n",
       "\t99.8\\% & 1.000000e-01 & 1.000000e-01 & 1.000000e-01 & 0.1000\\\\\n",
       "\t99.9\\% & 1.000000e-01 & 1.000000e-01 & 1.000000e-01 & 0.1000\\\\\n",
       "\t100\\% & 1.000000e-01 & 1.000000e-01 & 1.000000e-01 & 0.1000\\\\\n",
       "\\end{tabular}\n"
      ],
      "text/markdown": [
       "\n",
       "A matrix: 10 × 4 of type dbl\n",
       "\n",
       "| <!--/--> | glpk | ecos | scs | lpsolve |\n",
       "|---|---|---|---|---|\n",
       "| 90% | 0.000000e+00 | 4.890331e-14 | 1.381030e-10 | 0.0000 |\n",
       "| 95% | 0.000000e+00 | 5.033419e-14 | 1.406557e-10 | 0.0000 |\n",
       "| 99% | 0.000000e+00 | 6.335750e-14 | 1.432663e-10 | 0.0000 |\n",
       "| 99.5% | 0.000000e+00 | 1.042822e-13 | 1.437019e-10 | 0.0000 |\n",
       "| 99.6% | 0.000000e+00 | 1.394691e-13 | 1.437612e-10 | 0.0000 |\n",
       "| 99.68% | 1.085798e-16 | 2.550941e-12 | 5.592765e-08 | 0.0000 |\n",
       "| 99.7% | 4.210000e-02 | 4.210000e-02 | 4.210004e-02 | 0.0421 |\n",
       "| 99.8% | 1.000000e-01 | 1.000000e-01 | 1.000000e-01 | 0.1000 |\n",
       "| 99.9% | 1.000000e-01 | 1.000000e-01 | 1.000000e-01 | 0.1000 |\n",
       "| 100% | 1.000000e-01 | 1.000000e-01 | 1.000000e-01 | 0.1000 |\n",
       "\n"
      ],
      "text/plain": [
       "       glpk         ecos         scs          lpsolve\n",
       "90%    0.000000e+00 4.890331e-14 1.381030e-10 0.0000 \n",
       "95%    0.000000e+00 5.033419e-14 1.406557e-10 0.0000 \n",
       "99%    0.000000e+00 6.335750e-14 1.432663e-10 0.0000 \n",
       "99.5%  0.000000e+00 1.042822e-13 1.437019e-10 0.0000 \n",
       "99.6%  0.000000e+00 1.394691e-13 1.437612e-10 0.0000 \n",
       "99.68% 1.085798e-16 2.550941e-12 5.592765e-08 0.0000 \n",
       "99.7%  4.210000e-02 4.210000e-02 4.210004e-02 0.0421 \n",
       "99.8%  1.000000e-01 1.000000e-01 1.000000e-01 0.1000 \n",
       "99.9%  1.000000e-01 1.000000e-01 1.000000e-01 0.1000 \n",
       "100%   1.000000e-01 1.000000e-01 1.000000e-01 0.1000 "
      ]
     },
     "metadata": {},
     "output_type": "display_data"
    }
   ],
   "source": [
    "my.probs <- c(0.90, 0.95, 0.990, 0.995, 0.996, 0.9968, 0.997, 0.998, 0.999, 1.00)\n",
    "sapply(colnames(op2lp.sol.list.df), FUN=function(solv.app, df, probs) return(quantile(df[, solv.app], probs)),\n",
    "       df=op2lp.sol.list.df, probs=my.probs)\n",
    "# 99.68th percentile seems to distinguish a \"knee\" of weights. `scs` seems relatively sensitive."
   ]
  },
  {
   "cell_type": "code",
   "execution_count": 36,
   "metadata": {},
   "outputs": [],
   "source": [
    "saveRDS(op2lp.sol, file=file.path(\".\", paste0(\"op2lp.sol\", c.maxWt.county, \".rds\")))\n",
    "    # Was: saveRDS(op2lp.sol, file=file.path(\".\", \"op2lp.sol.rds\"))"
   ]
  },
  {
   "cell_type": "code",
   "execution_count": 37,
   "metadata": {},
   "outputs": [
    {
     "data": {
      "text/html": [
       "'Thu Jun 16 14:50:56 2022'"
      ],
      "text/latex": [
       "'Thu Jun 16 14:50:56 2022'"
      ],
      "text/markdown": [
       "'Thu Jun 16 14:50:56 2022'"
      ],
      "text/plain": [
       "[1] \"Thu Jun 16 14:50:56 2022\""
      ]
     },
     "metadata": {},
     "output_type": "display_data"
    },
    {
     "data": {
      "text/plain": [
       "R version 4.2.0 (2022-04-22)\n",
       "Platform: x86_64-pc-linux-gnu (64-bit)\n",
       "Running under: Ubuntu 22.04 LTS\n",
       "\n",
       "Matrix products: default\n",
       "BLAS:   /usr/lib/x86_64-linux-gnu/blas/libblas.so.3.10.0\n",
       "LAPACK: /usr/lib/x86_64-linux-gnu/lapack/liblapack.so.3.10.0\n",
       "\n",
       "locale:\n",
       " [1] LC_CTYPE=en_US.UTF-8       LC_NUMERIC=C              \n",
       " [3] LC_TIME=en_US.UTF-8        LC_COLLATE=en_US.UTF-8    \n",
       " [5] LC_MONETARY=en_US.UTF-8    LC_MESSAGES=en_US.UTF-8   \n",
       " [7] LC_PAPER=en_US.UTF-8       LC_NAME=C                 \n",
       " [9] LC_ADDRESS=C               LC_TELEPHONE=C            \n",
       "[11] LC_MEASUREMENT=en_US.UTF-8 LC_IDENTIFICATION=C       \n",
       "\n",
       "attached base packages:\n",
       "[1] parallel  stats     graphics  grDevices utils     datasets  methods  \n",
       "[8] base     \n",
       "\n",
       "other attached packages:\n",
       " [1] plotly_4.10.0            ggplot2_3.3.6            ROI.plugin.ipop_1.0-0   \n",
       " [4] ROI.plugin.deoptim_1.0-0 ROI.plugin.lpsolve_1.0-1 ROI.plugin.alabama_1.0-0\n",
       " [7] ROI.plugin.scs_1.1-1     ROI.plugin.ecos_1.0-0    ROI.plugin.qpoases_1.0-0\n",
       "[10] ROI.plugin.glpk_1.0-0    ROI_1.0-0                DEoptim_2.2-6           \n",
       "[13] dplyr_1.0.9             \n",
       "\n",
       "loaded via a namespace (and not attached):\n",
       " [1] Rcpp_1.0.8.3            lattice_0.20-45         tidyr_1.2.0            \n",
       " [4] digest_0.6.29           utf8_1.2.2              IRdisplay_1.1          \n",
       " [7] slam_0.1-50             R6_2.5.1                repr_1.1.4             \n",
       "[10] backports_1.4.1         alabama_2022.4-1        evaluate_0.15          \n",
       "[13] httr_1.4.3              pillar_1.7.0            rlang_1.0.2            \n",
       "[16] lazyeval_0.2.2          uuid_1.1-0              data.table_1.14.2      \n",
       "[19] kernlab_0.9-31          Matrix_1.4-1            checkmate_2.1.0        \n",
       "[22] htmlwidgets_1.5.4       munsell_0.5.0           compiler_4.2.0         \n",
       "[25] numDeriv_2016.8-1.1     pkgconfig_2.0.3         base64enc_0.1-3        \n",
       "[28] Rglpk_0.6-4             htmltools_0.5.2         tidyselect_1.1.2       \n",
       "[31] tibble_3.1.7            viridisLite_0.4.0       fansi_1.0.3            \n",
       "[34] crayon_1.5.1            withr_2.5.0             grid_4.2.0             \n",
       "[37] jsonlite_1.8.0          gtable_0.3.0            lifecycle_1.0.1        \n",
       "[40] registry_0.5-1          magrittr_2.0.3          scales_1.2.0           \n",
       "[43] cli_3.3.0               ellipsis_0.3.2          generics_0.1.2         \n",
       "[46] vctrs_0.4.1             IRkernel_1.3            lpSolveAPI_5.5.2.0-17.7\n",
       "[49] tools_4.2.0             glue_1.6.2              DEoptimR_1.0-11        \n",
       "[52] purrr_0.3.4             fastmap_1.1.0           colorspace_2.0-3       \n",
       "[55] scs_3.0-0               pbdZMQ_0.3-7            ECOSolveR_0.5.4        "
      ]
     },
     "metadata": {},
     "output_type": "display_data"
    }
   ],
   "source": [
    "date()\n",
    "sessionInfo()"
   ]
  },
  {
   "cell_type": "code",
   "execution_count": 38,
   "metadata": {},
   "outputs": [],
   "source": [
    "# TBD:\n",
    "# 1. Rework the surface plot since it complains of unsorted X Y.\n",
    "# 2. Rewrite OP's >= constraint as <= considering:\n",
    "# [Since any equality constraint can be expressed by two inequality\n",
    "# constraints and vice versa any inequality constraint can be expressed as an equality constraint\n",
    "# by adding additional variables (also called slack variables), it is common practice to define\n",
    "# OPs only in terms of either equality, less than or equal or greater than or equal constraints,\n",
    "# to avoid redundancies.]\n",
    "# [Unlike LPs, not all QPs are convex. A QP is convex if and only if Q0 is positive semidefinite.\n",
    "# A generalization of the QP is the quadratically constrained quadratic program (QCQP).]\n",
    "# 3. Include `oases` via Q= as noted in earlier cell.\n",
    "# 4. Consider including SVITY into Objective, and rerun. Or compare vs Python runs by a Student Mentee for the same.\n",
    "# 5. Get DEoptim to complete reasonably quickly, and compare its global optima ... but the surface under question here\n",
    "#    seems convenient for greedy local-optimization solvers."
   ]
  },
  {
   "cell_type": "code",
   "execution_count": null,
   "metadata": {},
   "outputs": [],
   "source": []
  }
 ],
 "metadata": {
  "kernelspec": {
   "display_name": "R",
   "language": "R",
   "name": "ir"
  },
  "language_info": {
   "codemirror_mode": "r",
   "file_extension": ".r",
   "mimetype": "text/x-r-source",
   "name": "R",
   "pygments_lexer": "r",
   "version": "4.2.0"
  }
 },
 "nbformat": 4,
 "nbformat_minor": 2
}
