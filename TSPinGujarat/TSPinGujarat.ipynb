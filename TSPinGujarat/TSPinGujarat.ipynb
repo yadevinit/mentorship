{
 "cells": [
  {
   "cell_type": "code",
   "execution_count": 1,
   "metadata": {},
   "outputs": [
    {
     "name": "stderr",
     "output_type": "stream",
     "text": [
      "Warning message:\n",
      "\"package 'TSP' was built under R version 4.2.2\"\n",
      "Warning message:\n",
      "\"package 'sf' was built under R version 4.2.1\"\n",
      "Linking to GEOS 3.9.1, GDAL 3.4.3, PROJ 7.2.1; sf_use_s2() is TRUE\n",
      "\n",
      "Loading required package: sp\n",
      "\n",
      "Loading required package: maps\n",
      "\n",
      "Warning message:\n",
      "\"package 'maps' was built under R version 4.2.1\"\n",
      "Loading required package: gpclib\n",
      "\n",
      "General Polygon Clipper Library for R (version 1.5-6)\n",
      "\tType 'class ? gpc.poly' for help\n",
      "\n",
      "Loading required package: rgeos\n",
      "\n",
      "Warning message:\n",
      "\"package 'rgeos' was built under R version 4.2.2\"\n",
      "rgeos version: 0.5-9, (SVN revision 684)\n",
      " GEOS runtime version: 3.9.3-CAPI-1.14.3 \n",
      " Please note that rgeos will be retired by the end of 2023,\n",
      "plan transition to sf functions using GEOS at your earliest convenience.\n",
      " GEOS using OverlayNG\n",
      " Linking to sp version: 1.5-0 \n",
      " Polygon checking: TRUE \n",
      "\n",
      "\n",
      "\n",
      "Attaching package: 'rgeos'\n",
      "\n",
      "\n",
      "The following objects are masked from 'package:gpclib':\n",
      "\n",
      "    append.poly, area.poly, get.bbox, get.pts, read.polyfile,\n",
      "    scale.poly, triangulate, tristrip, write.polyfile\n",
      "\n",
      "\n",
      "Loading required package: maptools\n",
      "\n",
      "Checking rgeos availability: TRUE\n",
      "Please note that 'maptools' will be retired by the end of 2023,\n",
      "plan transition at your earliest convenience;\n",
      "some functionality will be moved to 'sp'.\n",
      "\n"
     ]
    },
    {
     "name": "stdout",
     "output_type": "stream",
     "text": [
      "found: concorde.exe linkern.exe \n"
     ]
    }
   ],
   "source": [
    "setwd(\"~/../Downloads/spoTour\")\n",
    "source(\"myTSP-helper.R\")"
   ]
  },
  {
   "cell_type": "code",
   "execution_count": 2,
   "metadata": {
    "scrolled": true
   },
   "outputs": [
    {
     "data": {
      "text/html": [
       "'F:\\\\www-since2022Nov\\\\concorde-linkern'"
      ],
      "text/latex": [
       "'F:\\textbackslash{}\\textbackslash{}www-since2022Nov\\textbackslash{}\\textbackslash{}concorde-linkern'"
      ],
      "text/markdown": [
       "'F:\\\\www-since2022Nov\\\\concorde-linkern'"
      ],
      "text/plain": [
       "[1] \"F:\\\\www-since2022Nov\\\\concorde-linkern\""
      ]
     },
     "metadata": {},
     "output_type": "display_data"
    }
   ],
   "source": [
    "concorde_path()"
   ]
  },
  {
   "cell_type": "code",
   "execution_count": 3,
   "metadata": {
    "scrolled": true
   },
   "outputs": [
    {
     "name": "stdout",
     "output_type": "stream",
     "text": [
      "'data.frame':\t49 obs. of  3 variables:\n",
      " $ lat : num  13.2 21.1 22.5 22.3 23.1 ...\n",
      " $ long: num  77.7 72.7 70 70.8 72.6 ...\n",
      " $ name: chr  \"Kempegowda International Airport Bengaluru, KIAL Rd, Devanahalli, Bengaluru, Karnataka 560300\" \"Surat Airport, Surat, Gujarat 395007\" \"Jamnagar Airport, F268+79J, Airport Road Civil Enclave, Govardhanpur, Jamnagar, Gujarat 361006\" \"Rajkot Airport, 8Q5J+HWC, Gandhigram Civil Aerodrome, Gujarat 360006\" ...\n",
      "Classes 'sf' and 'data.frame':\t49 obs. of  2 variables:\n",
      " $ name    : chr  \"Kempegowda International Airport Bengaluru, KIAL Rd, Devanahalli, Bengaluru, Karnataka 560300\" \"Surat Airport, Surat, Gujarat 395007\" \"Jamnagar Airport, F268+79J, Airport Road Civil Enclave, Govardhanpur, Jamnagar, Gujarat 361006\" \"Rajkot Airport, 8Q5J+HWC, Gandhigram Civil Aerodrome, Gujarat 360006\" ...\n",
      " $ geometry:sfc_POINT of length 49; first list element:  'XY' num  77.7 13.2\n",
      " - attr(*, \"sf_column\")= chr \"geometry\"\n",
      " - attr(*, \"agr\")= Factor w/ 3 levels \"constant\",\"aggregate\",..: NA\n",
      "  ..- attr(*, \"names\")= chr \"name\"\n",
      " Units: [m] num [1:49, 1:49] 0 1026904 1312059 1249940 1221820 ...\n"
     ]
    },
    {
     "data": {
      "text/html": [
       "FALSE"
      ],
      "text/latex": [
       "FALSE"
      ],
      "text/markdown": [
       "FALSE"
      ],
      "text/plain": [
       "[1] FALSE"
      ]
     },
     "metadata": {},
     "output_type": "display_data"
    },
    {
     "data": {
      "text/plain": [
       "object of class 'TSP' \n",
       "49 cities (distance 'unknown') "
      ]
     },
     "metadata": {},
     "output_type": "display_data"
    }
   ],
   "source": [
    "INGUJ.df <- read.csv(file=paste0(fName, \".csv\"))\n",
    "str(INGUJ.df)\n",
    "tsp <- TSP(\n",
    "  switch(inGPS,\n",
    "    dist(INGUJ.df),\n",
    "    { pdm <- pairDist(df1=INGUJ.df); as.dist(pdm) }\n",
    "  ),\n",
    "  labels=switch(inGPS, colnames(INGUJ.df), INGUJ.df$name)\n",
    ")\n",
    "write_TSPLIB(tsp, file=paste0(fName, \".tsp\"), precision=0)\n",
    "  # [... if x contains double values (which is normal in R) the values given in x are multiplied by 10^precision\n",
    "  # before coercion to integer.]\n",
    "  # Beware: (1,2), (1,3), (2,3) pair-wise \"city\" distances are stored!\n",
    "# file.show(paste0(fName, \".tsp\"))\n",
    "tsp.r <- read_TSPLIB(paste0(fName, \".tsp\"), precision=0)\n",
    "identical(tsp, tsp.r)\n",
    "tsp"
   ]
  },
  {
   "cell_type": "code",
   "execution_count": 4,
   "metadata": {},
   "outputs": [
    {
     "data": {
      "image/png": "[encoded data removed]",
      "text/plain": [
       "plot without title"
      ]
     },
     "metadata": {
      "image/png": {
       "height": 420,
       "width": 420
      }
     },
     "output_type": "display_data"
    }
   ],
   "source": [
    "plot(INGUJ.df[, cLongLat], pch=19) # plot(INGUJ.df$lat, INGUJ.df$long)\n",
    "  text(INGUJ.df[, cLongLat], pos=1) # , col=\"blue\""
   ]
  },
  {
   "cell_type": "code",
   "execution_count": 5,
   "metadata": {},
   "outputs": [
    {
     "name": "stdout",
     "output_type": "stream",
     "text": [
      "Used control parameters by 'NA' \n",
      "clo\t =  -v -V\n",
      "exe\t =  F:\\www-since2022Nov\\concorde-linkern/concorde\n",
      "precision\t =  6\n",
      "verbose\t =  TRUE\n",
      "keep_files\t =  FALSE\n",
      "\n"
     ]
    }
   ],
   "source": [
    "tours <- list()\n",
    "tours[[1]] <- solve_TSP(tsp) # method= [default: \"arbitrary insertion\" algorithm with two_opt refinement.]\n",
    "\n",
    "# reformulate_ATSP_as_TSP() # coz Concorde solver does not support ATSP.\n",
    "## run concorde in verbose mode (-v) with fast cuts only (-V)\n",
    "tours[[2]] <- solve_TSP(tsp, method = \"concorde\", control = list(clo = \"-v -V\"))\n",
    "# tours <- lapply(methods, FUN = function(m) solve_TSP(tsp, method = m))\n",
    "# names(tours) <- methods"
   ]
  },
  {
   "cell_type": "code",
   "execution_count": 6,
   "metadata": {
    "scrolled": true
   },
   "outputs": [
    {
     "name": "stdout",
     "output_type": "stream",
     "text": [
      "[1] \"Head, length, tail, and plot for tour 1:\"\n",
      "                                                Madhav hotel, Somnath Bypass Rd, circle, Somnath, Gujarat 362268 \n",
      "                                                                                                              46 \n",
      "Hotel Sukhsagar Somnath, Somnath Bypass Road Near Somnath Byepass Corner, Prabhas Patan, Somnath, Gujarat 362269 \n",
      "                                                                                                              45 \n",
      "                                         Gir Interpretation Zone, 5G66+QJQ, Safari Rd, Sandhbeda, Gujarat 362150 \n",
      "                                                                                                              49 \n",
      "                                                            Hotel Greenland, 5H9W+2V3, Sasan Gir, Gujarat 362135 \n",
      "                                                                                                              48 \n",
      "                                           Narara Marine Life sanctuary, FP8J+8GV, Kalubhar Tapu, Gujarat 361010 \n",
      "                                                                                                              31 \n",
      " Raaj SVASTIK Inn, near AJ Engineering, opp. Shree Sanjivani Petrol Pump, Sapar, Patia, Jamnagar, Gujarat 361140 \n",
      "                                                                                                              30 \n",
      "[1] \"3633451m\"\n",
      "                               Mahatma Gandhi's Birth Place (Kirti Mandir), JJR2+G8X, Kasturba Road, Porbandar, Gujarat \n",
      "                                                                                                                     40 \n",
      "                                     Sudama Temple, PORBANDAR, Sudama Puri, Bhatia Bazar Old, Porbandar, Gujarat 360575 \n",
      "                                                                                                                     41 \n",
      "                                     Madhavpur Turtle Hatchery, 7X72+C78, Porbandar - Veraval Hwy, Pata, Gujarat 362230 \n",
      "                                                                                                                     42 \n",
      "                                            Bhalka Tirth Bhagwan krishna, Bilesware St, Bhalka, Somnath, Gujarat 362265 \n",
      "                                                                                                                     43 \n",
      "                                            Shree Somnath Jyotirling Temple, Somnath Mandir Rd, Somnath, Gujarat 362268 \n",
      "                                                                                                                     44 \n",
      "The Fern Residency Somnath, Corner Railway Station Veraval - Govindapara - Talala Road, behind Somnath, Somnath, 362268 \n",
      "                                                                                                                     47 \n",
      "[1] \"Head, length, tail, and plot for tour 2:\"\n",
      "                          Kempegowda International Airport Bengaluru, KIAL Rd, Devanahalli, Bengaluru, Karnataka 560300 \n",
      "                                                                                                                      1 \n",
      "          Statue Of Unity, Sardar Sarovar Dam, RPQ9+5MJ Sardar Sarovar Dam, Statue of Unity Rd, Kevadia, Gujarat 393155 \n",
      "                                                                                                                      9 \n",
      "BRG Budget Stay, At Statue of Unity, Nr. Circuit House, Nr. Aarogya Van Bhumaliya Road, Colony, Kevadia, Gujarat 393151 \n",
      "                                                                                                                      8 \n",
      "                                 Maharaja Fateh Singh Museum, Jawaharlal Nehru Marg, Navapura, Vadodara, Gujarat 390001 \n",
      "                                                                                                                     10 \n",
      "                                                      Laxmi Vilas Palace, J N Marg, Moti Baug, Vadodara, Gujarat 390001 \n",
      "                                                                                                                     11 \n",
      "                                                               Dr. Kurien's Museum, Popati Nagar, Anand, Gujarat 388001 \n",
      "                                                                                                                     12 \n",
      "[1] \"3495697m\"\n",
      "                                         Hotel Sukhsagar Somnath, Somnath Bypass Road Near Somnath Byepass Corner, Prabhas Patan, Somnath, Gujarat 362269 \n",
      "                                                                                                                                                       45 \n",
      "                                                                                  Gir Interpretation Zone, 5G66+QJQ, Safari Rd, Sandhbeda, Gujarat 362150 \n",
      "                                                                                                                                                       49 \n",
      "                                                                                                     Hotel Greenland, 5H9W+2V3, Sasan Gir, Gujarat 362135 \n",
      "                                                                                                                                                       48 \n",
      "Jagdishchandra Bose Muncipal Aquarium, Veer Vinayak Damodar Savarkar Flyover, opp. STAR BAZAR, Jalaram Society, Adajan Gam, Adajan, Surat, Gujarat 395009 \n",
      "                                                                                                                                                        6 \n",
      "                                                                                                                     Surat Airport, Surat, Gujarat 395007 \n",
      "                                                                                                                                                        2 \n",
      "                                             Science Center Surat, City Light Road, Maheshwari Cir, beside Shree Maheshwari Bhawan, Surat, Gujarat 395007 \n",
      "                                                                                                                                                        7 \n"
     ]
    },
    {
     "data": {
      "image/png": "[encoded data removed]",
      "text/plain": [
       "Plot with title \"INGUJ50_GPS 1\""
      ]
     },
     "metadata": {
      "image/png": {
       "height": 420,
       "width": 420
      }
     },
     "output_type": "display_data"
    },
    {
     "data": {
      "image/png": "[encoded data removed]",
      "text/plain": [
       "Plot with title \"INGUJ50_GPS 2\""
      ]
     },
     "metadata": {
      "image/png": {
       "height": 420,
       "width": 420
      }
     },
     "output_type": "display_data"
    }
   ],
   "source": [
    "for(i in 1:length(tours)){\n",
    "  print(paste0(\"Head, length, tail, and plot for tour \", i, \":\"))\n",
    "  tour <- tours[[i]]\n",
    "  print(head(tour, n = 6))\n",
    "  print(paste0(tour_length(tour), \"m\"))\n",
    "  print(tail(tour, n = 6))\n",
    "  # plot(tour) # Was: plot(tsp, tour)\n",
    "  mapTour(tour, INGUJ.df, paste(fName, i), xlim=c(10,25), ylim=c(60,80))\n",
    "}"
   ]
  },
  {
   "cell_type": "code",
   "execution_count": null,
   "metadata": {},
   "outputs": [],
   "source": []
  }
 ],
 "metadata": {
  "kernelspec": {
   "display_name": "R",
   "language": "R",
   "name": "ir"
  },
  "language_info": {
   "codemirror_mode": "r",
   "file_extension": ".r",
   "mimetype": "text/x-r-source",
   "name": "R",
   "pygments_lexer": "r",
   "version": "4.2.0"
  }
 },
 "nbformat": 4,
 "nbformat_minor": 2
}
