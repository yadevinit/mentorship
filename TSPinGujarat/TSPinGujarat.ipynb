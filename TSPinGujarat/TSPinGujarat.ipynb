{
 "cells": [
  {
   "cell_type": "code",
   "execution_count": 1,
   "metadata": {},
   "outputs": [
    {
     "data": {
      "text/html": [
       "<span style=white-space:pre-wrap>'Mon Nov  7 10:21:43 2022'</span>"
      ],
      "text/latex": [
       "'Mon Nov  7 10:21:43 2022'"
      ],
      "text/markdown": [
       "<span style=white-space:pre-wrap>'Mon Nov  7 10:21:43 2022'</span>"
      ],
      "text/plain": [
       "[1] \"Mon Nov  7 10:21:43 2022\""
      ]
     },
     "metadata": {},
     "output_type": "display_data"
    }
   ],
   "source": [
    "date()"
   ]
  },
  {
   "cell_type": "code",
   "execution_count": 2,
   "metadata": {},
   "outputs": [
    {
     "name": "stderr",
     "output_type": "stream",
     "text": [
      "Warning message:\n",
      "\"package 'TSP' was built under R version 4.2.2\"\n",
      "Warning message:\n",
      "\"package 'sf' was built under R version 4.2.1\"\n",
      "Linking to GEOS 3.9.1, GDAL 3.4.3, PROJ 7.2.1; sf_use_s2() is TRUE\n",
      "\n",
      "Loading required package: sp\n",
      "\n",
      "Loading required package: maps\n",
      "\n",
      "Warning message:\n",
      "\"package 'maps' was built under R version 4.2.1\"\n",
      "Loading required package: gpclib\n",
      "\n",
      "General Polygon Clipper Library for R (version 1.5-6)\n",
      "\tType 'class ? gpc.poly' for help\n",
      "\n",
      "Loading required package: rgeos\n",
      "\n",
      "Warning message:\n",
      "\"package 'rgeos' was built under R version 4.2.2\"\n",
      "rgeos version: 0.5-9, (SVN revision 684)\n",
      " GEOS runtime version: 3.9.3-CAPI-1.14.3 \n",
      " Please note that rgeos will be retired by the end of 2023,\n",
      "plan transition to sf functions using GEOS at your earliest convenience.\n",
      " GEOS using OverlayNG\n",
      " Linking to sp version: 1.5-0 \n",
      " Polygon checking: TRUE \n",
      "\n",
      "\n",
      "\n",
      "Attaching package: 'rgeos'\n",
      "\n",
      "\n",
      "The following objects are masked from 'package:gpclib':\n",
      "\n",
      "    append.poly, area.poly, get.bbox, get.pts, read.polyfile,\n",
      "    scale.poly, triangulate, tristrip, write.polyfile\n",
      "\n",
      "\n",
      "Loading required package: maptools\n",
      "\n",
      "Checking rgeos availability: TRUE\n",
      "Please note that 'maptools' will be retired by the end of 2023,\n",
      "plan transition at your earliest convenience;\n",
      "some functionality will be moved to 'sp'.\n",
      "\n"
     ]
    },
    {
     "name": "stdout",
     "output_type": "stream",
     "text": [
      "found: concorde.exe linkern.exe \n"
     ]
    }
   ],
   "source": [
    "setwd(\"~/../Downloads/spoTour\")\n",
    "source(\"myTSP-helper.R\")"
   ]
  },
  {
   "cell_type": "code",
   "execution_count": 3,
   "metadata": {
    "scrolled": true
   },
   "outputs": [
    {
     "data": {
      "text/html": [
       "'F:\\\\www-since2022Nov\\\\concorde-linkern'"
      ],
      "text/latex": [
       "'F:\\textbackslash{}\\textbackslash{}www-since2022Nov\\textbackslash{}\\textbackslash{}concorde-linkern'"
      ],
      "text/markdown": [
       "'F:\\\\www-since2022Nov\\\\concorde-linkern'"
      ],
      "text/plain": [
       "[1] \"F:\\\\www-since2022Nov\\\\concorde-linkern\""
      ]
     },
     "metadata": {},
     "output_type": "display_data"
    }
   ],
   "source": [
    "concorde_path()"
   ]
  },
  {
   "cell_type": "code",
   "execution_count": 4,
   "metadata": {},
   "outputs": [
    {
     "name": "stdout",
     "output_type": "stream",
     "text": [
      "'data.frame':\t49 obs. of  3 variables:\n",
      " $ lat : num  13.2 21.1 22.5 22.3 23.1 ...\n",
      " $ long: num  77.7 72.7 70 70.8 72.6 ...\n",
      " $ name: chr  \"Kempegowda International Airport Bengaluru, KIAL Rd, Devanahalli, Bengaluru, Karnataka 560300\" \"Surat Airport, Surat, Gujarat 395007\" \"Jamnagar Airport, F268+79J, Airport Road Civil Enclave, Govardhanpur, Jamnagar, Gujarat 361006\" \"Rajkot Airport, 8Q5J+HWC, Gandhigram Civil Aerodrome, Gujarat 360006\" ...\n"
     ]
    }
   ],
   "source": [
    "INGUJ.df.bak <- INGUJ.df <- read.csv(file=paste0(fName, \".csv\"))\n",
    "str(INGUJ.df)"
   ]
  },
  {
   "cell_type": "code",
   "execution_count": 5,
   "metadata": {},
   "outputs": [
    {
     "name": "stdout",
     "output_type": "stream",
     "text": [
      "'data.frame':\t44 obs. of  3 variables:\n",
      " $ lat : num  21.2 21.2 21.9 21.8 22.3 ...\n",
      " $ long: num  72.6 72.8 73.7 73.8 73.2 ...\n",
      " $ name: chr  \"Jagdishchandra Bose Muncipal Aquarium, Veer Vinayak Damodar Savarkar Flyover, opp. STAR BAZAR, Jalaram Society,\"| __truncated__ \"Science Center Surat, City Light Road, Maheshwari Cir, beside Shree Maheshwari Bhawan, Surat, Gujarat 395007\" \"BRG Budget Stay, At Statue of Unity, Nr. Circuit House, Nr. Aarogya Van Bhumaliya Road, Colony, Kevadia, Gujarat 393151\" \"Statue Of Unity, Sardar Sarovar Dam, RPQ9+5MJ Sardar Sarovar Dam, Statue of Unity Rd, Kevadia, Gujarat 393155\" ...\n",
      "'data.frame':\t34 obs. of  3 variables:\n",
      " $ lat : num  21.2 21.2 21.8 22.3 22.3 ...\n",
      " $ long: num  72.6 72.8 73.8 73.2 73.2 ...\n",
      " $ name: chr  \"Jagdishchandra Bose Muncipal Aquarium, Veer Vinayak Damodar Savarkar Flyover, opp. STAR BAZAR, Jalaram Society,\"| __truncated__ \"Science Center Surat, City Light Road, Maheshwari Cir, beside Shree Maheshwari Bhawan, Surat, Gujarat 395007\" \"Statue Of Unity, Sardar Sarovar Dam, RPQ9+5MJ Sardar Sarovar Dam, Statue of Unity Rd, Kevadia, Gujarat 393155\" \"Maharaja Fateh Singh Museum, Jawaharlal Nehru Marg, Navapura, Vadodara, Gujarat 390001\" ...\n"
     ]
    }
   ],
   "source": [
    "### drop all airports:\n",
    "whichDrop <- grep(pattern=\"airport\", x=INGUJ.df$name, ignore.case=TRUE) # , fixed=TRUE)\n",
    "INGUJ.df <- INGUJ.df[-whichDrop,]\n",
    "str(INGUJ.df)\n",
    "### drop all hotels, restaurants, ...:\n",
    "whichDrop <- grep(pattern=paste(c(\"hotel\", \"resort\", \"residenc\", \"inn\", \"stay\", \"restaurant\"), collapse=\"|\"),\n",
    "                  x=INGUJ.df$name, ignore.case=TRUE)\n",
    "INGUJ.df <- INGUJ.df[-whichDrop,]\n",
    "str(INGUJ.df)"
   ]
  },
  {
   "cell_type": "code",
   "execution_count": 6,
   "metadata": {
    "scrolled": true
   },
   "outputs": [
    {
     "name": "stdout",
     "output_type": "stream",
     "text": [
      "Classes 'sf' and 'data.frame':\t34 obs. of  2 variables:\n",
      " $ name    : chr  \"Jagdishchandra Bose Muncipal Aquarium, Veer Vinayak Damodar Savarkar Flyover, opp. STAR BAZAR, Jalaram Society,\"| __truncated__ \"Science Center Surat, City Light Road, Maheshwari Cir, beside Shree Maheshwari Bhawan, Surat, Gujarat 395007\" \"Statue Of Unity, Sardar Sarovar Dam, RPQ9+5MJ Sardar Sarovar Dam, Statue of Unity Rd, Kevadia, Gujarat 393155\" \"Maharaja Fateh Singh Museum, Jawaharlal Nehru Marg, Navapura, Vadodara, Gujarat 390001\" ...\n",
      " $ geometry:sfc_POINT of length 34; first list element:  'XY' num  72.6 21.2\n",
      " - attr(*, \"sf_column\")= chr \"geometry\"\n",
      " - attr(*, \"agr\")= Factor w/ 3 levels \"constant\",\"aggregate\",..: NA\n",
      "  ..- attr(*, \"names\")= chr \"name\"\n",
      " Units: [m] num [1:34, 1:34] 0 20751 136299 133865 134223 ...\n"
     ]
    },
    {
     "data": {
      "text/html": [
       "FALSE"
      ],
      "text/latex": [
       "FALSE"
      ],
      "text/markdown": [
       "FALSE"
      ],
      "text/plain": [
       "[1] FALSE"
      ]
     },
     "metadata": {},
     "output_type": "display_data"
    },
    {
     "data": {
      "text/plain": [
       "object of class 'TSP' \n",
       "34 cities (distance 'unknown') "
      ]
     },
     "metadata": {},
     "output_type": "display_data"
    }
   ],
   "source": [
    "tsp <- TSP(\n",
    "  switch(inGPS,\n",
    "    dist(INGUJ.df),\n",
    "    { pdm <- pairDist(df1=INGUJ.df); as.dist(pdm) }\n",
    "  ),\n",
    "  labels=switch(inGPS, colnames(INGUJ.df), INGUJ.df$name)\n",
    ")\n",
    "write_TSPLIB(tsp, file=paste0(fName, \".tsp\"), precision=0)\n",
    "  # [... if x contains double values (which is normal in R) the values given in x are multiplied by 10^precision\n",
    "  # before coercion to integer.]\n",
    "  # Beware: (1,2), (1,3), (2,3) pair-wise \"city\" distances are stored!\n",
    "# file.show(paste0(fName, \".tsp\"))\n",
    "tsp.r <- read_TSPLIB(paste0(fName, \".tsp\"), precision=0)\n",
    "identical(tsp, tsp.r)\n",
    "tsp"
   ]
  },
  {
   "cell_type": "code",
   "execution_count": 7,
   "metadata": {},
   "outputs": [
    {
     "data": {
      "image/png": "[encoded data removed]",
      "text/plain": [
       "plot without title"
      ]
     },
     "metadata": {
      "image/png": {
       "height": 420,
       "width": 420
      }
     },
     "output_type": "display_data"
    }
   ],
   "source": [
    "plot(INGUJ.df[, cLongLat], pch=19) # plot(INGUJ.df$lat, INGUJ.df$long)\n",
    "  text(INGUJ.df[, cLongLat], pos=1) # , col=\"blue\""
   ]
  },
  {
   "cell_type": "code",
   "execution_count": 8,
   "metadata": {},
   "outputs": [
    {
     "name": "stdout",
     "output_type": "stream",
     "text": [
      "Used control parameters by 'NA' \n",
      "clo\t =  -v -V\n",
      "exe\t =  F:\\www-since2022Nov\\concorde-linkern/concorde\n",
      "precision\t =  6\n",
      "verbose\t =  TRUE\n",
      "keep_files\t =  FALSE\n",
      "\n"
     ]
    }
   ],
   "source": [
    "tours <- list()\n",
    "tours[[1]] <- solve_TSP(tsp) # method= [default: \"arbitrary insertion\" algorithm with two_opt refinement.]\n",
    "\n",
    "# reformulate_ATSP_as_TSP() # coz Concorde solver does not support ATSP.\n",
    "## run concorde in verbose mode (-v) with fast cuts only (-V)\n",
    "tours[[2]] <- solve_TSP(tsp, method = \"concorde\", control = list(clo = \"-v -V\"))\n",
    "# tours <- lapply(methods, FUN = function(m) solve_TSP(tsp, method = m))\n",
    "# names(tours) <- methods"
   ]
  },
  {
   "cell_type": "code",
   "execution_count": 9,
   "metadata": {
    "scrolled": true
   },
   "outputs": [
    {
     "name": "stdout",
     "output_type": "stream",
     "text": [
      "[1] \"Head, length, tail, and plot for tour 1:\"\n",
      "                                                           Sabarmati Riverfront Walkway W, Ahmedabad, Gujarat \n",
      "                                                                                                           10 \n",
      "    Shree Swaminarayan Mandir Kalupur, Swaminarayan Mandir Road, Old City, Kalupur, Ahmedabad, Gujarat 380001 \n",
      "                                                                                                            7 \n",
      "                                                     Dr. Kurien's Museum, Popati Nagar, Anand, Gujarat 388001 \n",
      "                                                                                                            6 \n",
      "                                            Laxmi Vilas Palace, J N Marg, Moti Baug, Vadodara, Gujarat 390001 \n",
      "                                                                                                            5 \n",
      "                       Maharaja Fateh Singh Museum, Jawaharlal Nehru Marg, Navapura, Vadodara, Gujarat 390001 \n",
      "                                                                                                            4 \n",
      "Statue Of Unity, Sardar Sarovar Dam, RPQ9+5MJ Sardar Sarovar Dam, Statue of Unity Rd, Kevadia, Gujarat 393155 \n",
      "                                                                                                            3 \n",
      "[1] \"1388724m\"\n",
      "                  Patan Patola Heritage, Rani Ki Vav Road, opp. New Kalika Mandir, Gujarat 384265 \n",
      "                                                                                               15 \n",
      "       Modhera Sun Temple, H4MM+95W, On, Mehsana - Becharaji Rd, Highway, Modhera, Gujarat 384212 \n",
      "                                                                                               13 \n",
      "                                           Gujarat International Finance Tec-City, Gujarat 382355 \n",
      "                                                                                               12 \n",
      "                             Narendra Modi Stadium, Stadium Rd, Motera, Ahmedabad, Gujarat 380005 \n",
      "                                                                                               11 \n",
      "               Sabarmati Ashram, Gandhi Smarak Sangrahalaya, Ashram Rd, Ahmedabad, Gujarat 380027 \n",
      "                                                                                                9 \n",
      "The Calico Museum of Textiles, opp. Underbridge, Jain Colony, Shahibag, Ahmedabad, Gujarat 380004 \n",
      "                                                                                                8 \n",
      "[1] \"Head, length, tail, and plot for tour 2:\"\n",
      "Jagdishchandra Bose Muncipal Aquarium, Veer Vinayak Damodar Savarkar Flyover, opp. STAR BAZAR, Jalaram Society, Adajan Gam, Adajan, Surat, Gujarat 395009 \n",
      "                                                                                                                                                        1 \n",
      "                                                                                  Gir Interpretation Zone, 5G66+QJQ, Safari Rd, Sandhbeda, Gujarat 362150 \n",
      "                                                                                                                                                       34 \n",
      "                                                                              Shree Somnath Jyotirling Temple, Somnath Mandir Rd, Somnath, Gujarat 362268 \n",
      "                                                                                                                                                       33 \n",
      "                                                                              Bhalka Tirth Bhagwan krishna, Bilesware St, Bhalka, Somnath, Gujarat 362265 \n",
      "                                                                                                                                                       32 \n",
      "                                                                       Madhavpur Turtle Hatchery, 7X72+C78, Porbandar - Veraval Hwy, Pata, Gujarat 362230 \n",
      "                                                                                                                                                       31 \n",
      "                                                                       Sudama Temple, PORBANDAR, Sudama Puri, Bhatia Bazar Old, Porbandar, Gujarat 360575 \n",
      "                                                                                                                                                       30 \n",
      "[1] \"1388724m\"\n",
      "    Shree Swaminarayan Mandir Kalupur, Swaminarayan Mandir Road, Old City, Kalupur, Ahmedabad, Gujarat 380001 \n",
      "                                                                                                            7 \n",
      "                                                     Dr. Kurien's Museum, Popati Nagar, Anand, Gujarat 388001 \n",
      "                                                                                                            6 \n",
      "                                            Laxmi Vilas Palace, J N Marg, Moti Baug, Vadodara, Gujarat 390001 \n",
      "                                                                                                            5 \n",
      "                       Maharaja Fateh Singh Museum, Jawaharlal Nehru Marg, Navapura, Vadodara, Gujarat 390001 \n",
      "                                                                                                            4 \n",
      "Statue Of Unity, Sardar Sarovar Dam, RPQ9+5MJ Sardar Sarovar Dam, Statue of Unity Rd, Kevadia, Gujarat 393155 \n",
      "                                                                                                            3 \n",
      " Science Center Surat, City Light Road, Maheshwari Cir, beside Shree Maheshwari Bhawan, Surat, Gujarat 395007 \n",
      "                                                                                                            2 \n"
     ]
    },
    {
     "data": {
      "image/png": "[encoded data removed]",
      "text/plain": [
       "Plot with title \"INGUJ50_GPS 1\""
      ]
     },
     "metadata": {
      "image/png": {
       "height": 420,
       "width": 420
      }
     },
     "output_type": "display_data"
    },
    {
     "data": {
      "image/png": "[encoded data removed]",
      "text/plain": [
       "Plot with title \"INGUJ50_GPS 2\""
      ]
     },
     "metadata": {
      "image/png": {
       "height": 420,
       "width": 420
      }
     },
     "output_type": "display_data"
    }
   ],
   "source": [
    "for(i in 1:length(tours)){\n",
    "  print(paste0(\"Head, length, tail, and plot for tour \", i, \":\"))\n",
    "  tour <- tours[[i]]\n",
    "  print(head(tour, n = 6))\n",
    "  print(paste0(tour_length(tour), \"m\"))\n",
    "  print(tail(tour, n = 6))\n",
    "  # plot(tour) # Was: plot(tsp, tour)\n",
    "  mapTour(tour, INGUJ.df, paste(fName, i), xlim=c(10,25), ylim=c(60,80))\n",
    "}"
   ]
  },
  {
   "cell_type": "code",
   "execution_count": 10,
   "metadata": {},
   "outputs": [],
   "source": [
    "### Inferential takeaways from this analysis:\n",
    "# Tour chart \"INGUJ50_GPS 2\" shows a path and spot sequence (permutation) that nearly matches the real tour given in www links\n",
    "#   (and as per data order), except that it cycles back to starting spot, whereas the real tour chose airports near both ends.\n",
    "# Tour chart \"INGUJ50_GPS 1\" chooses a cyclic tour from and to a different spot (and airport).\n",
    "# (Spatial) Tour lengths of around 1400km vs. real tour length of around 1900km suggest a\n",
    "#   spatial:road::1:1.33 estimate proportion."
   ]
  },
  {
   "cell_type": "code",
   "execution_count": 11,
   "metadata": {},
   "outputs": [
    {
     "data": {
      "text/html": [
       "<span style=white-space:pre-wrap>'Mon Nov  7 10:21:50 2022'</span>"
      ],
      "text/latex": [
       "'Mon Nov  7 10:21:50 2022'"
      ],
      "text/markdown": [
       "<span style=white-space:pre-wrap>'Mon Nov  7 10:21:50 2022'</span>"
      ],
      "text/plain": [
       "[1] \"Mon Nov  7 10:21:50 2022\""
      ]
     },
     "metadata": {},
     "output_type": "display_data"
    },
    {
     "data": {
      "text/plain": [
       "R version 4.2.0 (2022-04-22 ucrt)\n",
       "Platform: x86_64-w64-mingw32/x64 (64-bit)\n",
       "Running under: Windows 8.1 x64 (build 9600)\n",
       "\n",
       "Matrix products: default\n",
       "\n",
       "locale:\n",
       "[1] LC_COLLATE=English_India.1252  LC_CTYPE=English_India.1252   \n",
       "[3] LC_MONETARY=English_India.1252 LC_NUMERIC=C                  \n",
       "[5] LC_TIME=English_India.1252    \n",
       "\n",
       "attached base packages:\n",
       "[1] stats     graphics  grDevices utils     datasets  methods   base     \n",
       "\n",
       "other attached packages:\n",
       "[1] maptools_1.1-4 rgeos_0.5-9    gpclib_1.5-6   maps_3.4.0     sp_1.4-7      \n",
       "[6] sf_1.0-8       TSP_1.2-1     \n",
       "\n",
       "loaded via a namespace (and not attached):\n",
       " [1] Rcpp_1.0.8.3       pillar_1.8.1       compiler_4.2.0     base64enc_0.1-3   \n",
       " [5] iterators_1.0.14   class_7.3-20       tools_4.2.0        digest_0.6.29     \n",
       " [9] uuid_1.1-0         lattice_0.20-45    jsonlite_1.8.0     evaluate_0.15     \n",
       "[13] lifecycle_1.0.1    tibble_3.1.8       pkgconfig_2.0.3    rlang_1.0.2       \n",
       "[17] foreach_1.5.2      IRdisplay_1.1      DBI_1.1.3          cli_3.3.0         \n",
       "[21] IRkernel_1.3       fastmap_1.1.0      e1071_1.7-12       s2_1.1.0          \n",
       "[25] repr_1.1.4         dplyr_1.0.8        generics_0.1.2     vctrs_0.4.1       \n",
       "[29] tidyselect_1.1.2   classInt_0.4-8     grid_4.2.0         glue_1.6.2        \n",
       "[33] R6_2.5.1           fansi_1.0.3        foreign_0.8-82     pbdZMQ_0.3-7      \n",
       "[37] purrr_0.3.4        magrittr_2.0.3     codetools_0.2-18   htmltools_0.5.2   \n",
       "[41] units_0.8-0        utf8_1.2.2         KernSmooth_2.23-20 proxy_0.4-27      \n",
       "[45] wk_0.7.0           crayon_1.5.1      "
      ]
     },
     "metadata": {},
     "output_type": "display_data"
    }
   ],
   "source": [
    "date(); sessionInfo()"
   ]
  },
  {
   "cell_type": "code",
   "execution_count": null,
   "metadata": {},
   "outputs": [],
   "source": []
  }
 ],
 "metadata": {
  "kernelspec": {
   "display_name": "R",
   "language": "R",
   "name": "ir"
  },
  "language_info": {
   "codemirror_mode": "r",
   "file_extension": ".r",
   "mimetype": "text/x-r-source",
   "name": "R",
   "pygments_lexer": "r",
   "version": "4.2.0"
  }
 },
 "nbformat": 4,
 "nbformat_minor": 2
}
