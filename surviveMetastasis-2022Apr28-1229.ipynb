{
 "cells": [
  {
   "cell_type": "code",
   "execution_count": 1,
   "metadata": {},
   "outputs": [],
   "source": [
    "# This refers to \"autopsy cohort\" database of https://doi.org/10.1016/j.cell.2011.11.060 (2012).\n",
    "# This author did not have access to \"adjuvant cohort\" database that is also used by the paper."
   ]
  },
  {
   "cell_type": "code",
   "execution_count": 2,
   "metadata": {},
   "outputs": [],
   "source": [
    "# Constants and Functions:\n",
    "cDebug <- c(FALSE, TRUE)[1] # TRUE for debugging.\n",
    "c.nchar.max <- nchar(\"22-04-2022\") # alt: 10.\n",
    "my.paste.Y <- function(dmyVec, yy.prefix=\"20\", my.split=\"-\"){\n",
    "    my.debug(dmyVec)\n",
    "    dmY <- paste0(dmyVec[2], my.split, dmyVec[1], my.split, paste0(yy.prefix, dmyVec[3])) # beware: mdy not dmy!\n",
    "    return(dmY)\n",
    "}\n",
    "y2Y <- function(yY, nchar.max=c.nchar.max, yy.prefix=\"20\", my.split=\"-\"){ # convert %y to %Y.\n",
    "    yY.nchar <- nchar(yY)\n",
    "    yy.index <- (0 < yY.nchar) & (yY.nchar < nchar.max) # beware: & not &&.\n",
    "    yyyy <- yY\n",
    "    my.debug(str(yy.index))\n",
    "    tmp1 <- strsplit(x=yyyy[yy.index], split=my.split); my.debug(head(tmp1))\n",
    "    tmp2 <- lapply(tmp1, FUN=my.paste.Y); my.debug(str(tmp2))\n",
    "    yyyy[yy.index] <- unlist(tmp2)\n",
    "    return(yyyy)\n",
    "}\n",
    "fixRPP.Date <- function(RPP.dtCharVec){\n",
    "    RPP.dtCharVec.fixed <- RPP.dtCharVec\n",
    "    RPP.dtCharVec.fixed[RPP.dtCharVec.fixed == \"no data\"] <- \"\"\n",
    "    return(RPP.dtCharVec.fixed)\n",
    "}\n",
    "fixRPP.remark <- function(charVec){\n",
    "    charVec.tmp <- charVec\n",
    "    charVec.tmp[grep(pattern=\"^[yY]es$\", x=charVec.tmp)] <- \"Yes\"\n",
    "    charVec.tmp[grep(pattern=\"^No.*\", x=charVec.tmp)] <- \"No\"\n",
    "      # beware: leave \"no data\" as is. only merge \"No change in size\" with \"No\".\n",
    "    return(as.factor(charVec.tmp))\n",
    "}\n",
    "fixMR.Date <- function(MR.dtCharVec){\n",
    "    MR.dtCharVec.fixed <- MR.dtCharVec\n",
    "    MR.dtCharVec.fixed[MR.dtCharVec.fixed == \"4/30/09\"] <- \"30-04-2009\"\n",
    "    MR.dtCharVec.fixed[MR.dtCharVec.fixed == \"03-19-03\"] <- \"19-03-2003\"\n",
    "    MR.dtCharVec.fixed[MR.dtCharVec.fixed == \"11-01-02\"] <- \"01-11-2002\"\n",
    "    MR.dtCharVec.fixed[MR.dtCharVec.fixed == \"no data\"] <- \"\"\n",
    "    \n",
    "    MR.dtCharVec.fixed <- y2Y(MR.dtCharVec.fixed) # coz \"01-27-03\" etc exist.\n",
    "    return(MR.dtCharVec.fixed)\n",
    "}\n",
    "fixMP.Date <- function(MPdtCharVec, nchar.max=c.nchar.max){\n",
    "    MPdtCharVec.fixed <- MPdtCharVec\n",
    "    MPdtCharVec.fixed[(MPdtCharVec.fixed == \"1/06/03\")] <- \"06-01-2003\" # beware: it might be 06-Jan-2003 or 01-Jun-2003.\n",
    "    MPdtCharVec.fixed[(MPdtCharVec.fixed == \"39450.00\")] <- \"03-01-2008\"\n",
    "      # coz DATE(2008,1,3) is stored internally by MS-Excel as that serial number, presuming with calendar basis 1900.\n",
    "      # alt: origin=\"1899-12-30\" could handle numeric serial values # \"1900-01-01\"\n",
    "    MPdtCharVec.fixed[(MPdtCharVec.fixed == \"3/17/09\")] <- \"17-03-2009\"\n",
    "    MPdtCharVec.fixed[(MPdtCharVec.fixed == \"4/21/10\")] <- \"21-04-2010\"\n",
    "    MPdtCharVec.fixed[(MPdtCharVec.fixed == \"8/11/2010\")] <- \"11-08-2010\" # beware: it might be 11-Aug-2010 or 08-Nov-2010.\n",
    "    MPdtCharVec.fixed[(MPdtCharVec.fixed == \"01-04-00\")] <- \"\"\n",
    "      # beware: this must be 2006, considering Dx \"06-04-2006\", autopsy death \"28-12-2006\". but, unable to fix.\n",
    "    \n",
    "    MPdtCharVec.fixed <- y2Y(MPdtCharVec.fixed)\n",
    "    warning(\"Input data CSV might have other / in date fields, which are presumed in dmY-equivalent format.\")\n",
    "    return(MPdtCharVec.fixed)\n",
    "}\n",
    "fixAut.DateDeath <- function(Aut.dtCharVec){\n",
    "    Aut.dtCharVec.fixed <- Aut.dtCharVec\n",
    "    Aut.dtCharVec.fixed[Aut.dtCharVec.fixed == \"05-01-09\"] <- \"01-05-2009\"\n",
    "      # coz likely mdy and coz \"19-03-2009\" is date of recurrence.\n",
    "    return(Aut.dtCharVec.fixed)\n",
    "}\n",
    "my.debug <- function(s, flag.debug=cDebug){\n",
    "    if(flag.debug){ print(s) } # else continue.\n",
    "    return()\n",
    "}\n",
    "my.paste0.NA2 <- function(dtVec1, dtVec2, formatsVec, nchar.max=c.nchar.max){\n",
    "    # concatenate corresponding cells, while treating NA as \"\" and\n",
    "    # retaining cell on left where both left and right cells are non-empty.\n",
    "    charVec1 <- as.character(dtVec1, formatsVec[1]); charVec2 <- as.character(dtVec2, formatsVec[1])\n",
    "    charVec1.NA2empty <- charVec1; charVec1.NA2empty[is.na(charVec1.NA2empty)] <- \"\"\n",
    "    charVec2.NA2empty <- charVec2; charVec2.NA2empty[is.na(charVec2.NA2empty)] <- \"\"\n",
    "    ans <- paste0(charVec1.NA2empty, charVec2.NA2empty)\n",
    "    ans.nchar.isLong <- nchar(ans) > nchar.max # unexpectedly-long date (string)? alt: > 10\n",
    "    warning(paste(ans[ans.nchar.isLong], collapse=\";\"))\n",
    "    ans.trim <- strtrim(ans, nchar.max) # retain date on left.\n",
    "    ans.trim.dtVec <- as.Date(ans.trim, formatsVec[1])\n",
    "    return(ans.trim.dtVec)\n",
    "}\n",
    "my.as.Date.test <- function(){ # play around with the following block of code to get how as.Date() really works.\n",
    "    c.tryFormats <- c(\"%d-%m-%Y\", \"%m-%d-%y\")\n",
    "    duh0 <- c(NA,\"\",  \"28-09-2005\",NA,\"\", \"09-28-06\"); duh0 <- c(duh0, duh0)\n",
    "    # duh1 <- duh0[! is.na(duh0)]; duh1\n",
    "    duh1 <- duh0[! (duh0 == \"\")]; duh1\n",
    "    # duh1 <- duh0 # fails\n",
    "    duh2 <- as.Date(duh1, tryFormats=c.tryFormats, optional=TRUE); duh2\n",
    "    duh2[! is.na(duh2)]\n",
    "    duh3 <- as.Date(duh1[-2], tryFormats=rev(c.tryFormats), optional=TRUE); duh3\n",
    "}\n",
    "my.as.Date <- function(arg.dtCharVec, formatsVec=c(\"%d-%m-%Y\", \"%m-%d-%y\"), my.optional=TRUE){\n",
    "    dtCharVec <- arg.dtCharVec; dtCharVec[dtCharVec == \"\"] <- NA # else as.Date() fails! maybe coz empty date != no date.\n",
    "    # beware: formatsVec=c(\"%d-%m-%Y\", \"%m-%d-%y\") might not work, while reverse sequence could work!\n",
    "    ans.format1 <- as.Date(dtCharVec, tryFormats=(formatsVec), optional=my.optional); my.debug(ans.format1)\n",
    "      # Was c(formatsVec[1])\n",
    "      # optional=TRUE indicates [return NA (instead of signaling an error) if the format guessing fails.]\n",
    "      # format=\"%d-%m-%Y\") # eg \"25-07-2002\".\n",
    "    stopifnot(length(formatsVec) <= 2) # coz unsupported.\n",
    "    if(length(formatsVec) == 2){ # beware: as.Date() is sensitive to first non-NA match of possible formats!\n",
    "        dtCharVec.format1.err <- dtCharVec[is.na(ans.format1)]; my.debug(dtCharVec.format1.err)\n",
    "        ans.format2.format1.err <- as.Date(dtCharVec.format1.err, tryFormats=rev(formatsVec), optional=my.optional);\n",
    "          # Was c(formatsVec[2])\n",
    "          my.debug(ans.format2.format1.err)\n",
    "        ans.format2 <- ans.format1; ans.format2[is.na(ans.format1)] <- ans.format2.format1.err\n",
    "        ans <- ans.format2\n",
    "        # ans <- my.paste0.NA2(ans.format1, ans.format2, formatsVec)\n",
    "        my.debug(ans)\n",
    "    } else {\n",
    "        ans <- ans.format1\n",
    "    }\n",
    "    return(ans)\n",
    "}\n",
    "my.char2numVec <- function(charVec, makeNum=TRUE){\n",
    "    charVec.tmp <- charVec\n",
    "    charVec.tmp[charVec.tmp == \"\"] <- NA\n",
    "    charVec.tmp[charVec.tmp == \"x\"] <- NA\n",
    "    charVec.tmp[charVec.tmp == \n",
    "        \"0 (only dead cells left behind, I think recurrent tumor was killed by radiation)\"\n",
    "      ] <- \"0\" # eg \"Aut.SzReTumorPanc\" has such a value.\n",
    "    charVec.tmp[grep(pattern=\".*no char.*\", x=charVec.tmp)] <- NA\n",
    "    if(makeNum){\n",
    "        ans <- as.numeric(charVec.tmp)\n",
    "        } else {\n",
    "        ans <- charVec.tmp\n",
    "    }\n",
    "    return(ans)\n",
    "}\n",
    "fixAut.MetsBurden <- function(charVec){\n",
    "    # after examining categorical counts.\n",
    "    charVec.tmp <- charVec\n",
    "    charVec.tmp[charVec.tmp == \"0\"] <- \"000zero\"\n",
    "    charVec.tmp[charVec.tmp == \"<10\"] <- \"001to10\"\n",
    "    charVec.tmp[charVec.tmp == \"1 to 10\"] <- \"001to10\"\n",
    "    charVec.tmp[charVec.tmp == \"11-100\"] <- \"011to100\"\n",
    "    charVec.tmp[charVec.tmp == \"11 to 100\"] <- \"011to100\"\n",
    "    charVec.tmp[charVec.tmp == \"100s\"] <- \"100sto1000s\"\n",
    "    charVec.tmp[charVec.tmp == \"100s to 1000s\"] <- \"100sto1000s\"\n",
    "    # warning(\"Paper differs by employing 3 levels, instead of a workable 4.\")\n",
    "    \n",
    "    # [... metastatic burden was categorized into one of three classes:\n",
    "    # <10 metastases, 10–99 metastases, and >100 metastases.]\n",
    "    charVec.tmp[charVec.tmp == \"000zero\"] <- \"000to10\"\n",
    "    charVec.tmp[charVec.tmp == \"001to10\"] <- \"000to10\"\n",
    "    charVec.tmp.fac <- as.factor(charVec.tmp)\n",
    "    return(charVec.tmp.fac)\n",
    "}\n",
    "fixAut.Panc <- function(charVec){\n",
    "    charVec.tmp <- charVec\n",
    "    charVec.tmp[grep(pattern=\"Recurred after [sS]urgery\", x=charVec.tmp)] <- \"Recurred After Surgery\"\n",
    "    charVec.tmp[grep(pattern=\"Present [(]Not [rR]esected[)]\", x=charVec.tmp)] <- \"Present (Not Resected)\"\n",
    "    return(as.factor(charVec.tmp))\n",
    "}\n",
    "fixAut.SzMetsRange.cm <- function(charVec, my.sep=\"-\"){\n",
    "    charVec.tmp <- my.char2numVec(charVec, makeNum=FALSE)\n",
    "    charVec.tmp[charVec.tmp == \"no data\"] <- NA # that's presently not handled in my.char2numVec().\n",
    "    # now, substitute any non-range number \"N\" as \"N-N\".\n",
    "    # charVec.tmp.N.N <- sub(pattern=\"^([[:digit:]]+)$\", replacement=paste0(\"\\1\", my.sep, \"\\1\"), x=charVec.tmp)\n",
    "    charVec.tmp.N.N <- sub(pattern=\"^([[:digit:]]*[.]?[[:digit:]]+)$\", replacement=paste0(\"\\\\1\", my.sep, \"\\\\1\"),\n",
    "                           x=charVec.tmp, # c(\"0.1\", \"1\", \"2.1\", \"3-5.1\"),\n",
    "                           perl=TRUE)\n",
    "    # [+-]?([0-9]*[.])?[0-9]+\n",
    "    return(charVec.tmp.N.N)\n",
    "}\n",
    "splitAut.SzMetsRange.cm <- function(NNcharVec, my.sep=\"-\", my.names=c(\"Aut.minSzMetsRange.cm\", \"Aut.maxSzMetsRange.cm\")){\n",
    "    # NNcharVec<-fixAut.SzMetsRange.cm(mmc1.tabS1a$Aut.SzMetsRange.cm); str(NNcharVec)\n",
    "    # my.sep=\"-\"; my.names=c(\"Aut.minMetsRange.cm\", \"Aut.maxMetsRange.cm\")\n",
    "    tmp1 <- strsplit(x=NNcharVec, split=my.sep); stopifnot(length(tmp1) >= 2); my.debug(head(tmp1))\n",
    "    tmp1.df <- t(as.data.frame(tmp1, stringsAsFactors=FALSE)); my.debug(str(tmp1.df))\n",
    "    # tmp2 <- cbind(my.char2numVec(tmp1[[1]]), my.char2numVec(tmp1[[2]]))\n",
    "    tmp2 <- cbind(my.char2numVec(tmp1.df[, 1]), my.char2numVec(tmp1.df[, 2])); colnames(tmp2) <- my.names\n",
    "    my.debug(head(tmp2))    \n",
    "    return(tmp2)\n",
    "}\n",
    "tStamp <- function(){\n",
    "  return(paste0(\"-\", format(Sys.time(), \"%Y%m%d%H%M\")))\n",
    "}\n",
    "getData.mmc1S1a <- function(inputFilename=file.path(\"C:\", \"Users\", \"SONY\",\n",
    "    \"1-s2.0-S0092867411015145-mmc1-TableS1a.csv\")){\n",
    "    # require(openxlsx)\n",
    "    # cInputDir <- file.path(\"C:\", \"Users\", \"SONY\")\n",
    "    #   # \"F:\", \"alumniMentorship\", \"www\", \"ScienceDirect_files_20Apr2022_10-55-57.683-Supplement\")\n",
    "    #   # \"./\" # Uploaded from \"F:/alumniMentorship/www/ScienceDirect_files_20Apr2022_10-55-57.683-Supplement/\"\n",
    "    # cDataFilenames <- file.path(cInputDir,\n",
    "    #   c(\"1-s2.0-S0092867411015145-mmc1-TableS1a.csv\", # \"mmc1-cellCom.xls\", # \"1-s2.0-S0092867411015145-mmc1.xls\",\n",
    "    #     \"cell6040mmc2.xlsx\"))\n",
    "    #   # filenames as downloaded into \"ScienceDirect_files_20Apr2022_10-55-57.683-Supplement/\"\n",
    "    # inputFilename <- cDataFilenames[1] # system.file(\"extdata\", cDataFilenames[1], package = \"openxlsx\")\n",
    "    my.debug(inputFilename); my.debug(getwd())\n",
    "    mmc1.tabS1a.colnames.new <- c('Case',\n",
    "                              'Dx.Age',\n",
    "                              'Dx.Date',\n",
    "                              'Dx.SzPrim.cm',\n",
    "                              'Dx.WasPrimExcis',\n",
    "                              'Dx.SzMetsLargest.cm',\n",
    "                              'Dx.SzMetsRange.cm',\n",
    "                              'RPP.remark',\n",
    "                              'RPP.Date',\n",
    "                              'RPP.SzPanc.cm',\n",
    "                              'MR.remark',\n",
    "                              'MR.Date',\n",
    "                              'MR.SzMetsLargest.cm',\n",
    "                              'MP.remark',\n",
    "                              'MP.Date',\n",
    "                              'MP.SzMetsLargest.cm',\n",
    "                              'Aut.DateDeath',\n",
    "                              'Aut.Panc',\n",
    "                              'Aut.SzReTumorPanc',\n",
    "                              'Aut.SzPrim.cm',\n",
    "                              'Aut.MetsBurden',\n",
    "                              'Aut.MeanSzMets.cm',\n",
    "                              'Aut.SzMetsRange.cm')\n",
    "    mmc1.tabS1a <- read.csv(inputFilename, skip=1, header=TRUE, stringsAsFactors=FALSE)\n",
    "    # read.csv(file.path(cInputDir, \"x.csv\"))\n",
    "    # mmc1.tabS1a <- read.xlsx(xlsxFile, sheet=\"Table S1a\", startRow=2, colNames=TRUE, detectDates=TRUE)\n",
    "    dropCols <- setdiff(colnames(mmc1.tabS1a), grep(pattern=\"^X\", x=colnames(mmc1.tabS1a), value=TRUE))\n",
    "    mmc1.tabS1a <- mmc1.tabS1a[, (dropCols)] # subset(mmc1.tabS1a, )\n",
    "    mmc1.tabS1a.colnames.old <<- colnames(mmc1.tabS1a) # <<- coz global. paste(colnames(mmc1.tabS1a), collapse=\", \")\n",
    "    colnames(mmc1.tabS1a) <- mmc1.tabS1a.colnames.new\n",
    "    \n",
    "    mmc1.tabS1a$Case <- as.factor(mmc1.tabS1a$Case) # coz it's an ID and not meant to be operated on as an integer.\n",
    "    mmc1.tabS1a$Dx.Date <- my.as.Date(mmc1.tabS1a$Dx.Date)\n",
    "    mmc1.tabS1a$Dx.WasPrimExcis <- as.factor(mmc1.tabS1a$Dx.WasPrimExcis)\n",
    "    mmc1.tabS1a$Dx.SzMetsLargest.cm <- my.char2numVec(mmc1.tabS1a$Dx.SzMetsLargest.cm)\n",
    "    # let mmc1.tabS1a$Dx.SzMetsRange.cm be as is, for now.\n",
    "    \n",
    "    mmc1.tabS1a$RPP.remark <- fixRPP.remark(mmc1.tabS1a$RPP.remark)\n",
    "    # mmc1.tabS1a$RPP.Date <- (fixRPP.Date(mmc1.tabS1a$RPP.Date))\n",
    "    mmc1.tabS1a$RPP.Date <- my.as.Date(fixRPP.Date(mmc1.tabS1a$RPP.Date))\n",
    "    mmc1.tabS1a$RPP.SzPanc.cm <- my.char2numVec(mmc1.tabS1a$RPP.SzPanc.cm)\n",
    "\n",
    "    mmc1.tabS1a$MR.remark <- as.factor(mmc1.tabS1a$MR.remark)\n",
    "    # mmc1.tabS1a$MR.Date <- (fixMR.Date(mmc1.tabS1a$MR.Date))\n",
    "    mmc1.tabS1a$MR.Date <- my.as.Date(fixMR.Date(mmc1.tabS1a$MR.Date))\n",
    "    mmc1.tabS1a$MR.SzMetsLargest.cm <- my.char2numVec(mmc1.tabS1a$MR.SzMetsLargest.cm)\n",
    "    \n",
    "    mmc1.tabS1a$MP.remark <- as.factor(mmc1.tabS1a$MP.remark)\n",
    "    # mmc1.tabS1a$MP.Date <- (fixMP.Date(mmc1.tabS1a$MP.Date))\n",
    "    mmc1.tabS1a$MP.Date <- my.as.Date(fixMP.Date(mmc1.tabS1a$MP.Date))\n",
    "    mmc1.tabS1a$MP.SzMetsLargest.cm <- my.char2numVec(mmc1.tabS1a$MP.SzMetsLargest.cm)\n",
    "\n",
    "    mmc1.tabS1a$Aut.DateDeath <- my.as.Date(fixAut.DateDeath(mmc1.tabS1a$Aut.DateDeath))\n",
    "    mmc1.tabS1a$Aut.Panc <- fixAut.Panc(mmc1.tabS1a$Aut.Panc)\n",
    "    mmc1.tabS1a$Aut.SzReTumorPanc <- my.char2numVec(mmc1.tabS1a$Aut.SzReTumorPanc)\n",
    "    mmc1.tabS1a$Aut.SzPrim.cm <- my.char2numVec(mmc1.tabS1a$Aut.SzPrim.cm)\n",
    "    mmc1.tabS1a$Aut.MetsBurden <- fixAut.MetsBurden(mmc1.tabS1a$Aut.MetsBurden)\n",
    "    mmc1.tabS1a$Aut.MeanSzMets.cm <- my.char2numVec(mmc1.tabS1a$Aut.MeanSzMets.cm)\n",
    "    mmc1.tabS1a$Aut.SzMetsRange.cm <- fixAut.SzMetsRange.cm(mmc1.tabS1a$Aut.SzMetsRange.cm)\n",
    "\n",
    "    ans <- cbind(mmc1.tabS1a, splitAut.SzMetsRange.cm(mmc1.tabS1a$Aut.SzMetsRange.cm))\n",
    "    # str(ans)\n",
    "    return(ans)\n",
    "}"
   ]
  },
  {
   "cell_type": "code",
   "execution_count": 3,
   "metadata": {
    "scrolled": true
   },
   "outputs": [
    {
     "name": "stderr",
     "output_type": "stream",
     "text": [
      "Warning message in my.char2numVec(mmc1.tabS1a$Dx.SzMetsLargest.cm):\n",
      "\"NAs introduced by coercion\"\n",
      "Warning message in my.char2numVec(mmc1.tabS1a$RPP.SzPanc.cm):\n",
      "\"NAs introduced by coercion\"\n",
      "Warning message in my.char2numVec(mmc1.tabS1a$MR.SzMetsLargest.cm):\n",
      "\"NAs introduced by coercion\"\n",
      "Warning message in fixMP.Date(mmc1.tabS1a$MP.Date):\n",
      "\"Input data CSV might have other / in date fields, which are presumed in dmY-equivalent format.\"\n",
      "Warning message in my.char2numVec(mmc1.tabS1a$MP.SzMetsLargest.cm):\n",
      "\"NAs introduced by coercion\"\n",
      "Warning message in my.char2numVec(mmc1.tabS1a$Aut.SzReTumorPanc):\n",
      "\"NAs introduced by coercion\"\n",
      "Warning message in my.char2numVec(mmc1.tabS1a$Aut.MeanSzMets.cm):\n",
      "\"NAs introduced by coercion\"\n"
     ]
    },
    {
     "name": "stdout",
     "output_type": "stream",
     "text": [
      "'data.frame':\t101 obs. of  25 variables:\n",
      " $ Case                 : Factor w/ 101 levels \"1\",\"2\",\"3\",\"5\",..: 1 2 3 4 5 6 7 8 9 10 ...\n",
      " $ Dx.Age               : int  84 62 67 47 57 67 60 56 60 60 ...\n",
      " $ Dx.Date              : Date, format: \"1995-05-05\" \"2002-12-16\" ...\n",
      " $ Dx.SzPrim.cm         : num  6 3 2 5 4 8 5 3 6 4 ...\n",
      " $ Dx.WasPrimExcis      : Factor w/ 2 levels \"No\",\"Yes\": 1 1 1 1 1 1 1 1 1 1 ...\n",
      " $ Dx.SzMetsLargest.cm  : num  NA 2 2 NA 1 NA 2.5 NA 5 NA ...\n",
      " $ Dx.SzMetsRange.cm    : chr  \"x\" \"1-2\" \"1-2\" \"x\" ...\n",
      " $ RPP.remark           : Factor w/ 3 levels \"No\",\"no data\",..: 2 3 3 1 1 1 1 2 1 3 ...\n",
      " $ RPP.Date             : Date, format: NA \"2003-01-27\" ...\n",
      " $ RPP.SzPanc.cm        : num  NA 7 4 NA NA NA NA NA NA NA ...\n",
      " $ MR.remark            : Factor w/ 19 levels \"\",\"No\",\"no data\",..: 3 7 4 2 2 5 2 3 2 19 ...\n",
      " $ MR.Date              : Date, format: NA \"2003-01-27\" ...\n",
      " $ MR.SzMetsLargest.cm  : num  NA 5 2.9 NA NA 3 NA NA NA NA ...\n",
      " $ MP.remark            : Factor w/ 15 levels \"\",\"No\",\"no data\",..: 3 4 15 4 5 6 9 3 2 3 ...\n",
      " $ MP.Date              : Date, format: NA NA ...\n",
      " $ MP.SzMetsLargest.cm  : num  NA NA 5 NA 2 3.2 2.5 NA NA NA ...\n",
      " $ Aut.DateDeath        : Date, format: \"1995-10-26\" \"2003-05-26\" ...\n",
      " $ Aut.Panc             : Factor w/ 5 levels \"Absent (Resected)\",..: 3 3 3 3 3 3 3 3 3 3 ...\n",
      " $ Aut.SzReTumorPanc    : num  NA NA NA NA NA NA NA NA NA NA ...\n",
      " $ Aut.SzPrim.cm        : num  6 4 4 5 5 10 5 4 10 5 ...\n",
      " $ Aut.MetsBurden       : Factor w/ 3 levels \"000to10\",\"011to100\",..: 1 3 2 1 3 1 2 2 2 1 ...\n",
      " $ Aut.MeanSzMets.cm    : num  1 0.3 3 NA 0.5 1 1.5 1 2 NA ...\n",
      " $ Aut.SzMetsRange.cm   : chr  \"0.5-2.8\" \"0.2-2\" \"1.0-5.0\" NA ...\n",
      " $ Aut.minSzMetsRange.cm: num  0.5 0.2 1 NA 0.2 0.5 1 0.5 1 NA ...\n",
      " $ Aut.maxSzMetsRange.cm: num  2.8 2 5 NA 2 3.5 2.5 2 4 NA ...\n"
     ]
    },
    {
     "data": {
      "text/plain": [
       "      Case        Dx.Age         Dx.Date            Dx.SzPrim.cm  \n",
       " 1      : 1   Min.   :36.00   Min.   :1995-05-05   Min.   :1.500  \n",
       " 2      : 1   1st Qu.:55.00   1st Qu.:2003-07-05   1st Qu.:2.800  \n",
       " 3      : 1   Median :64.00   Median :2005-09-14   Median :3.500  \n",
       " 5      : 1   Mean   :63.55   Mean   :2005-06-08   Mean   :3.737  \n",
       " 6      : 1   3rd Qu.:71.00   3rd Qu.:2007-02-01   3rd Qu.:4.200  \n",
       " 7      : 1   Max.   :90.00   Max.   :2010-11-11   Max.   :8.000  \n",
       " (Other):95                                                       \n",
       " Dx.WasPrimExcis Dx.SzMetsLargest.cm Dx.SzMetsRange.cm    RPP.remark\n",
       " No :75          Min.   : 0.200      Length:101         No     :43  \n",
       " Yes:26          1st Qu.: 1.000      Class :character   no data:15  \n",
       "                 Median : 2.000      Mode  :character   Yes    :43  \n",
       "                 Mean   : 2.458                                     \n",
       "                 3rd Qu.: 3.100                                     \n",
       "                 Max.   :13.600                                     \n",
       "                 NA's   :65                                         \n",
       "    RPP.Date          RPP.SzPanc.cm         MR.remark     MR.Date          \n",
       " Min.   :2001-10-22   Min.   : 1.000   No        :31   Min.   :2001-10-22  \n",
       " 1st Qu.:2004-09-11   1st Qu.: 2.525   no data   :21   1st Qu.:2004-03-16  \n",
       " Median :2005-12-11   Median : 3.400   Yes, liver:12   Median :2006-01-21  \n",
       " Mean   :2006-06-14   Mean   : 3.862   Yes       : 8   Mean   :2005-12-16  \n",
       " 3rd Qu.:2008-07-20   3rd Qu.: 4.775             : 4   3rd Qu.:2007-06-28  \n",
       " Max.   :2010-10-26   Max.   :11.000   Yes, lung : 4   Max.   :2010-10-26  \n",
       " NA's   :57           NA's   :61       (Other)   :21   NA's   :57          \n",
       " MR.SzMetsLargest.cm                                     MP.remark \n",
       " Min.   :0.300       no data                                  :33  \n",
       " 1st Qu.:0.800       No                                       :19  \n",
       " Median :1.000       x                                        :18  \n",
       " Mean   :1.826       Yes                                      :14  \n",
       " 3rd Qu.:2.000                                                : 4  \n",
       " Max.   :9.500       Yes, increase in size and number in liver: 3  \n",
       " NA's   :60          (Other)                                  :10  \n",
       "    MP.Date           MP.SzMetsLargest.cm Aut.DateDeath       \n",
       " Min.   :2003-01-06   Min.   : 0.800      Min.   :1995-10-26  \n",
       " 1st Qu.:2003-10-24   1st Qu.: 1.625      1st Qu.:2005-03-06  \n",
       " Median :2005-09-06   Median : 2.850      Median :2006-10-15  \n",
       " Mean   :2006-03-16   Mean   : 3.727      Mean   :2006-10-25  \n",
       " 3rd Qu.:2007-12-04   3rd Qu.: 4.550      3rd Qu.:2008-03-08  \n",
       " Max.   :2010-08-11   Max.   :14.000      Max.   :2011-02-19  \n",
       " NA's   :75           NA's   :75                              \n",
       "                            Aut.Panc  Aut.SzReTumorPanc Aut.SzPrim.cm   \n",
       " Absent (Resected)              : 4   Min.   :0.00      Min.   : 0.000  \n",
       " Absent (Treated)               : 1   1st Qu.:2.30      1st Qu.: 4.000  \n",
       " Present (Not Resected)         :75   Median :3.50      Median : 5.000  \n",
       " Recurred After Surgery         :20   Mean   :3.52      Mean   : 5.309  \n",
       " Resected (Total Pancreatectomy): 1   3rd Qu.:5.00      3rd Qu.: 6.000  \n",
       "                                      Max.   :7.00      Max.   :15.000  \n",
       "                                      NA's   :81        NA's   :26      \n",
       "     Aut.MetsBurden Aut.MeanSzMets.cm Aut.SzMetsRange.cm Aut.minSzMetsRange.cm\n",
       " 000to10    :33     Min.   :0.200     Length:101         Min.   :0.100        \n",
       " 011to100   :30     1st Qu.:0.775     Class :character   1st Qu.:0.200        \n",
       " 100sto1000s:38     Median :1.000     Mode  :character   Median :0.500        \n",
       "                    Mean   :1.332                        Mean   :0.559        \n",
       "                    3rd Qu.:1.500                        3rd Qu.:0.600        \n",
       "                    Max.   :6.000                        Max.   :3.500        \n",
       "                    NA's   :17                           NA's   :18           \n",
       " Aut.maxSzMetsRange.cm\n",
       " Min.   : 0.500       \n",
       " 1st Qu.: 2.000       \n",
       " Median : 2.500       \n",
       " Mean   : 3.236       \n",
       " 3rd Qu.: 4.000       \n",
       " Max.   :14.000       \n",
       " NA's   :18           "
      ]
     },
     "metadata": {},
     "output_type": "display_data"
    }
   ],
   "source": [
    "mmc1.tabS1a <- getData.mmc1S1a()\n",
    "write.csv(mmc1.tabS1a, file=paste0(\"mmc1tabS1a\", tStamp(), \".csv\"), row.names=FALSE)\n",
    "str(mmc1.tabS1a)\n",
    "summary(mmc1.tabS1a)"
   ]
  },
  {
   "cell_type": "code",
   "execution_count": 4,
   "metadata": {},
   "outputs": [],
   "source": [
    "plotProgression <- function(mmc1.tabS1a, my.pch=19, jitterFactor=0.8){ # , my.palette=rev(c(1:3))\n",
    "    # median(c(1,NA), na.rm=TRUE) # rowMeans() is available for use too.\n",
    "    progress.Prim <- grep(pattern=\"Sz[pP]rim\", x=colnames(mmc1.tabS1a), value=TRUE); my.debug(progress.Prim)\n",
    "    tmp0 <- na.omit(mmc1.tabS1a[, progress.Prim]); my.debug(str(tmp0))\n",
    "    plot(tmp0)\n",
    "    # plot(progress.Prim[2] ~ progress.Prim[1], data=mmc1.tabS1a)\n",
    "\n",
    "    # progress.Mets <- c(\"Dx.SzMetsLargest.cm\", \"MR.SzMetsLargest.cm\", \"MP.SzMetsLargest.cm\", \"Aut.MeanSzMetsRange.cm\")\n",
    "    # progress.Mets <- grep(pattern=\"SzMets[L.]\", x=colnames(mmc1.tabS1a), value=TRUE); my.debug(progress.Mets)\n",
    "    progress.Mets <- setdiff(grep(pattern=\"SzMets\", x=colnames(mmc1.tabS1a), value=TRUE),\n",
    "      c(c(\"Dx.SzMetsRange.cm\", \"MP.SzMetsLargest.cm\", \"Aut.SzMetsRange.cm\")\n",
    "        ,\"MR.SzMetsLargest.cm\"\n",
    "       )\n",
    "        # dropping MP.SzMetsLargest.cm leaves even more observations, but without intermediate time data.\n",
    "        # diff these out coz they are range chars; and MP.SzMetsLargest.cm has 75 NAs.\n",
    "    )\n",
    "    my.debug(progress.Mets)\n",
    "    progress.Mets.chosen <- progress.Mets\n",
    "      # c(head(progress.Mets, 1), tail(progress.Mets, 1)) # ; my.debug(progress.Mets.chosen)\n",
    "    tmp1 <- na.omit(mmc1.tabS1a[, progress.Mets.chosen]); my.debug(str(tmp1))\n",
    "    plot(tmp1)\n",
    "    # plot(tmp1[,2], col=\"red\"); points(tmp1[,1], col=\"green\")\n",
    "    my.palette <- c(length(progress.Mets.chosen) : 1)\n",
    "      # try 1=black is for the \"darkest\" and largest-value stage: autopsy.\n",
    "      # alt: my.palette=heat.colors(ncols(tmp1))\n",
    "    for(ix in c(length(progress.Mets.chosen) : 1)){\n",
    "        if(identical(progress.Mets.chosen[ix], tail(progress.Mets.chosen, 1))){\n",
    "            plot((tmp1[, ix]), col=my.palette[ix], pch=my.pch, ylim=range(tmp1)) # coz largest y values.\n",
    "        } else {\n",
    "            points(x=jitter(1:nrow(tmp1), factor=jitterFactor), y=tmp1[, ix], col=my.palette[ix], pch=my.pch)\n",
    "              # jitter() to avoid over-plotting.\n",
    "        }\n",
    "    }\n",
    "    legend(\"top\", legend=colnames(tmp1)[my.palette],\n",
    "           col=my.palette[c(length(progress.Mets.chosen) : 1)], # coz in order of plotting.\n",
    "           pch=my.pch, bg=\"transparent\")\n",
    "      # , bty=\"n\") # alt: \"bottomright\"\n",
    "    \n",
    "    # ix <- 2; plot(tmp1[, ix], col=my.palette[ix], pch=my.pch)\n",
    "    # ix <- 1; points(tmp1[, ix], col=my.palette[ix], pch=my.pch)\n",
    "    # legend(\"top\", legend=colnames(tmp1)[2:1], col=my.palette, pch=my.pch) # , bty=\"n\") # alt: \"bottomright\"\n",
    "    return()\n",
    "}"
   ]
  },
  {
   "cell_type": "code",
   "execution_count": 5,
   "metadata": {},
   "outputs": [],
   "source": [
    "### ---\n",
    "### Exploratory analyses:\n",
    "# maximize Dx.Age + (Aut.DateDeath - Dx.Date) and minimize (Aut.MetsBurden)\n",
    "# ... this might be a worthy cause.\n",
    "# beware: dataset is conditional to Dx etc. Population might differ. Bayesian inference could be explored.\n",
    "\n",
    "# treatment ability or efficacy to prolong life (conditional to Dx) ... is worth exploring too."
   ]
  },
  {
   "cell_type": "code",
   "execution_count": 6,
   "metadata": {},
   "outputs": [],
   "source": [
    "yLived.postDx <- as.numeric((mmc1.tabS1a$Aut.DateDeath - mmc1.tabS1a$Dx.Date) / 365)\n",
    "yLived <- as.numeric(mmc1.tabS1a$Dx.Age + yLived.postDx)\n",
    "f1 <- as.formula(I(yLived.postDx) ~ Dx.Age + Dx.SzPrim.cm + Dx.WasPrimExcis + Dx.SzMetsLargest.cm)"
   ]
  },
  {
   "cell_type": "code",
   "execution_count": 7,
   "metadata": {},
   "outputs": [
    {
     "data": {
      "image/png": "[encoded data removed]",
      "text/plain": [
       "plot without title"
      ]
     },
     "metadata": {
      "image/png": {
       "height": 420,
       "width": 420
      }
     },
     "output_type": "display_data"
    },
    {
     "data": {
      "image/png": "[encoded data removed]",
      "text/plain": [
       "plot without title"
      ]
     },
     "metadata": {
      "image/png": {
       "height": 420,
       "width": 420
      }
     },
     "output_type": "display_data"
    }
   ],
   "source": [
    "plot(yLived); plot(yLived.postDx)"
   ]
  },
  {
   "cell_type": "code",
   "execution_count": 8,
   "metadata": {},
   "outputs": [
    {
     "data": {
      "image/png": "[encoded data removed]",
      "text/plain": [
       "Plot with title \"Histogram of as.numeric(yLived)\""
      ]
     },
     "metadata": {
      "image/png": {
       "height": 420,
       "width": 420
      }
     },
     "output_type": "display_data"
    },
    {
     "data": {
      "image/png": "[encoded data removed]",
      "text/plain": [
       "Plot with title \"Histogram of (yLived.postDx)\""
      ]
     },
     "metadata": {
      "image/png": {
       "height": 420,
       "width": 420
      }
     },
     "output_type": "display_data"
    }
   ],
   "source": [
    "hist(as.numeric(yLived)); hist((yLived.postDx)) # yLived seems Gaussian, and yLived.postDx seems Beta, regarding distribution."
   ]
  },
  {
   "cell_type": "code",
   "execution_count": 9,
   "metadata": {},
   "outputs": [
    {
     "data": {
      "image/png": "[encoded data removed]",
      "text/plain": [
       "Plot with title \"Histogram of yLived.postDx.log\""
      ]
     },
     "metadata": {
      "image/png": {
       "height": 420,
       "width": 420
      }
     },
     "output_type": "display_data"
    }
   ],
   "source": [
    "yLived.postDx.log <- log(yLived.postDx); hist(yLived.postDx.log)\n",
    "f2 <- update(f1, yLived.postDx.log ~ .) # try with log response"
   ]
  },
  {
   "cell_type": "code",
   "execution_count": 10,
   "metadata": {},
   "outputs": [
    {
     "data": {
      "image/png": "[encoded data removed]",
      "text/plain": [
       "Plot with title \"\""
      ]
     },
     "metadata": {
      "image/png": {
       "height": 420,
       "width": 420
      }
     },
     "output_type": "display_data"
    }
   ],
   "source": [
    "plot(mmc1.tabS1a$Aut.MetsBurden ~ yLived) # trough (bathtub) shaped."
   ]
  },
  {
   "cell_type": "code",
   "execution_count": 11,
   "metadata": {},
   "outputs": [
    {
     "data": {
      "image/png": "[encoded data removed]",
      "text/plain": [
       "plot without title"
      ]
     },
     "metadata": {
      "image/png": {
       "height": 420,
       "width": 420
      }
     },
     "output_type": "display_data"
    }
   ],
   "source": [
    "plot(yLived ~ mmc1.tabS1a$Aut.MetsBurden) # raised Aut.MetsBurden seems to relate with lower yLived."
   ]
  },
  {
   "cell_type": "code",
   "execution_count": 12,
   "metadata": {},
   "outputs": [
    {
     "data": {
      "text/plain": [
       "\n",
       "Call:\n",
       "lm(formula = f1, data = mmc1.tabS1a)\n",
       "\n",
       "Residuals:\n",
       "     Min       1Q   Median       3Q      Max \n",
       "-0.75003 -0.38223 -0.08758  0.20786  2.27946 \n",
       "\n",
       "Coefficients:\n",
       "                     Estimate Std. Error t value Pr(>|t|)   \n",
       "(Intercept)          1.959153   0.709249   2.762  0.00956 **\n",
       "Dx.Age              -0.009277   0.010288  -0.902  0.37412   \n",
       "Dx.SzPrim.cm        -0.109631   0.075119  -1.459  0.15451   \n",
       "Dx.WasPrimExcisYes  -0.048479   0.652555  -0.074  0.94126   \n",
       "Dx.SzMetsLargest.cm -0.090827   0.046967  -1.934  0.06231 . \n",
       "---\n",
       "Signif. codes:  0 '***' 0.001 '**' 0.01 '*' 0.05 '.' 0.1 ' ' 1\n",
       "\n",
       "Residual standard error: 0.6378 on 31 degrees of freedom\n",
       "  (65 observations deleted due to missingness)\n",
       "Multiple R-squared:  0.2041,\tAdjusted R-squared:  0.1014 \n",
       "F-statistic: 1.988 on 4 and 31 DF,  p-value: 0.121\n"
      ]
     },
     "metadata": {},
     "output_type": "display_data"
    }
   ],
   "source": [
    "f1.lm <- lm(f1, data=mmc1.tabS1a); summary(f1.lm)"
   ]
  },
  {
   "cell_type": "code",
   "execution_count": 13,
   "metadata": {},
   "outputs": [
    {
     "data": {
      "text/plain": [
       "\n",
       "Call:\n",
       "glm(formula = f1, data = mmc1.tabS1a)\n",
       "\n",
       "Deviance Residuals: \n",
       "     Min        1Q    Median        3Q       Max  \n",
       "-0.75003  -0.38223  -0.08758   0.20786   2.27946  \n",
       "\n",
       "Coefficients:\n",
       "                     Estimate Std. Error t value Pr(>|t|)   \n",
       "(Intercept)          1.959153   0.709249   2.762  0.00956 **\n",
       "Dx.Age              -0.009277   0.010288  -0.902  0.37412   \n",
       "Dx.SzPrim.cm        -0.109631   0.075119  -1.459  0.15451   \n",
       "Dx.WasPrimExcisYes  -0.048479   0.652555  -0.074  0.94126   \n",
       "Dx.SzMetsLargest.cm -0.090827   0.046967  -1.934  0.06231 . \n",
       "---\n",
       "Signif. codes:  0 '***' 0.001 '**' 0.01 '*' 0.05 '.' 0.1 ' ' 1\n",
       "\n",
       "(Dispersion parameter for gaussian family taken to be 0.4068044)\n",
       "\n",
       "    Null deviance: 15.845  on 35  degrees of freedom\n",
       "Residual deviance: 12.611  on 31  degrees of freedom\n",
       "  (65 observations deleted due to missingness)\n",
       "AIC: 76.401\n",
       "\n",
       "Number of Fisher Scoring iterations: 2\n"
      ]
     },
     "metadata": {},
     "output_type": "display_data"
    }
   ],
   "source": [
    "f1.glm <- glm(f1, data=mmc1.tabS1a); summary(f1.glm)"
   ]
  },
  {
   "cell_type": "code",
   "execution_count": 14,
   "metadata": {
    "scrolled": true
   },
   "outputs": [
    {
     "data": {
      "text/plain": [
       "\n",
       "Call:\n",
       "glm(formula = I(yLived.postDx) ~ Dx.Age + Dx.SzPrim.cm + Dx.WasPrimExcis + \n",
       "    Dx.SzMetsLargest.cm - 1, data = mmc1.tabS1a)\n",
       "\n",
       "Deviance Residuals: \n",
       "     Min        1Q    Median        3Q       Max  \n",
       "-0.75003  -0.38223  -0.08758   0.20786   2.27946  \n",
       "\n",
       "Coefficients:\n",
       "                     Estimate Std. Error t value Pr(>|t|)   \n",
       "Dx.Age              -0.009277   0.010288  -0.902  0.37412   \n",
       "Dx.SzPrim.cm        -0.109631   0.075119  -1.459  0.15451   \n",
       "Dx.WasPrimExcisNo    1.959153   0.709249   2.762  0.00956 **\n",
       "Dx.WasPrimExcisYes   1.910674   0.947920   2.016  0.05258 . \n",
       "Dx.SzMetsLargest.cm -0.090827   0.046967  -1.934  0.06231 . \n",
       "---\n",
       "Signif. codes:  0 '***' 0.001 '**' 0.01 '*' 0.05 '.' 0.1 ' ' 1\n",
       "\n",
       "(Dispersion parameter for gaussian family taken to be 0.4068044)\n",
       "\n",
       "    Null deviance: 34.611  on 36  degrees of freedom\n",
       "Residual deviance: 12.611  on 31  degrees of freedom\n",
       "  (65 observations deleted due to missingness)\n",
       "AIC: 76.401\n",
       "\n",
       "Number of Fisher Scoring iterations: 2\n"
      ]
     },
     "metadata": {},
     "output_type": "display_data"
    }
   ],
   "source": [
    "f1.glm.0intercept <- update(f1.glm, . ~ . - 1)\n",
    "summary(f1.glm.0intercept)"
   ]
  },
  {
   "cell_type": "code",
   "execution_count": 15,
   "metadata": {
    "scrolled": true
   },
   "outputs": [
    {
     "data": {
      "image/png": "[encoded data removed]",
      "text/plain": [
       "plot without title"
      ]
     },
     "metadata": {
      "image/png": {
       "height": 420,
       "width": 420
      }
     },
     "output_type": "display_data"
    },
    {
     "data": {
      "image/png": "[encoded data removed]",
      "text/plain": [
       "plot without title"
      ]
     },
     "metadata": {
      "image/png": {
       "height": 420,
       "width": 420
      }
     },
     "output_type": "display_data"
    }
   ],
   "source": [
    "plot(yLived.postDx ~ Dx.WasPrimExcis + Dx.SzMetsLargest.cm, data = mmc1.tabS1a) # mean|No might be higher though median is lower.\n",
    "  # also beware of attributing causation without considering chron sequence and cause-effect confounding.\n",
    "  # Erle-Granger tests exist to support such a study, if needed."
   ]
  },
  {
   "cell_type": "code",
   "execution_count": 16,
   "metadata": {},
   "outputs": [
    {
     "data": {
      "text/plain": [
       "\n",
       "Call:\n",
       "lm(formula = f2, data = mmc1.tabS1a)\n",
       "\n",
       "Residuals:\n",
       "    Min      1Q  Median      3Q     Max \n",
       "-2.2761 -0.3787  0.1271  0.5249  1.4087 \n",
       "\n",
       "Coefficients:\n",
       "                    Estimate Std. Error t value Pr(>|t|)  \n",
       "(Intercept)          1.25934    1.05011   1.199   0.2395  \n",
       "Dx.Age              -0.02036    0.01523  -1.337   0.1910  \n",
       "Dx.SzPrim.cm        -0.09293    0.11122  -0.836   0.4098  \n",
       "Dx.WasPrimExcisYes   0.26553    0.96617   0.275   0.7853  \n",
       "Dx.SzMetsLargest.cm -0.14644    0.06954  -2.106   0.0434 *\n",
       "---\n",
       "Signif. codes:  0 '***' 0.001 '**' 0.01 '*' 0.05 '.' 0.1 ' ' 1\n",
       "\n",
       "Residual standard error: 0.9443 on 31 degrees of freedom\n",
       "  (65 observations deleted due to missingness)\n",
       "Multiple R-squared:  0.222,\tAdjusted R-squared:  0.1216 \n",
       "F-statistic: 2.211 on 4 and 31 DF,  p-value: 0.09075\n"
      ]
     },
     "metadata": {},
     "output_type": "display_data"
    }
   ],
   "source": [
    "f2.lm <- lm(f2, data=mmc1.tabS1a); summary(f2.lm)"
   ]
  },
  {
   "cell_type": "code",
   "execution_count": 17,
   "metadata": {},
   "outputs": [
    {
     "data": {
      "text/plain": [
       "\n",
       "Call:\n",
       "glm(formula = f2, data = mmc1.tabS1a)\n",
       "\n",
       "Deviance Residuals: \n",
       "    Min       1Q   Median       3Q      Max  \n",
       "-2.2761  -0.3787   0.1271   0.5249   1.4087  \n",
       "\n",
       "Coefficients:\n",
       "                    Estimate Std. Error t value Pr(>|t|)  \n",
       "(Intercept)          1.25934    1.05011   1.199   0.2395  \n",
       "Dx.Age              -0.02036    0.01523  -1.337   0.1910  \n",
       "Dx.SzPrim.cm        -0.09293    0.11122  -0.836   0.4098  \n",
       "Dx.WasPrimExcisYes   0.26553    0.96617   0.275   0.7853  \n",
       "Dx.SzMetsLargest.cm -0.14644    0.06954  -2.106   0.0434 *\n",
       "---\n",
       "Signif. codes:  0 '***' 0.001 '**' 0.01 '*' 0.05 '.' 0.1 ' ' 1\n",
       "\n",
       "(Dispersion parameter for gaussian family taken to be 0.8917844)\n",
       "\n",
       "    Null deviance: 35.533  on 35  degrees of freedom\n",
       "Residual deviance: 27.645  on 31  degrees of freedom\n",
       "  (65 observations deleted due to missingness)\n",
       "AIC: 104.66\n",
       "\n",
       "Number of Fisher Scoring iterations: 2\n"
      ]
     },
     "metadata": {},
     "output_type": "display_data"
    }
   ],
   "source": [
    "f2.glm <- glm(f2, data=mmc1.tabS1a); summary(f2.glm)"
   ]
  },
  {
   "cell_type": "code",
   "execution_count": 18,
   "metadata": {},
   "outputs": [
    {
     "data": {
      "image/png": "[encoded data removed]",
      "text/plain": [
       "plot without title"
      ]
     },
     "metadata": {
      "image/png": {
       "height": 420,
       "width": 420
      }
     },
     "output_type": "display_data"
    }
   ],
   "source": [
    "plot(yLived.postDx.log ~ Dx.SzMetsLargest.cm, data=mmc1.tabS1a)"
   ]
  },
  {
   "cell_type": "code",
   "execution_count": 19,
   "metadata": {},
   "outputs": [
    {
     "data": {
      "image/png": "[encoded data removed]",
      "text/plain": [
       "Plot with title \"Histogram of mmc1.tabS1a$Dx.SzPrim.cm\""
      ]
     },
     "metadata": {
      "image/png": {
       "height": 420,
       "width": 420
      }
     },
     "output_type": "display_data"
    },
    {
     "data": {
      "image/png": "[encoded data removed]",
      "text/plain": [
       "Plot with title \"Histogram of mmc1.tabS1a$Dx.SzMetsLargest.cm\""
      ]
     },
     "metadata": {
      "image/png": {
       "height": 420,
       "width": 420
      }
     },
     "output_type": "display_data"
    }
   ],
   "source": [
    "# Paper used normal distributions for tumor sizes and growth rates.\n",
    "hist(mmc1.tabS1a$Dx.SzPrim.cm); hist(mmc1.tabS1a$Dx.SzMetsLargest.cm)"
   ]
  },
  {
   "cell_type": "code",
   "execution_count": 20,
   "metadata": {},
   "outputs": [],
   "source": [
    "### ---\n",
    "### Replicating key elements of the paper:"
   ]
  },
  {
   "cell_type": "code",
   "execution_count": 21,
   "metadata": {},
   "outputs": [],
   "source": [
    "# Table S1b of 1-s2.0-S0092867411015145-mmc1.xls:\n",
    "# Dx.SzPrim.cm <3cm >3cm (median-split factor) and its impact on survival: 1 year, 2 year, median ... with p-value.\n",
    "# Dx.Age <65 >65 (median-split factor) and its impact on survival ...\n",
    "# neither of above showed significant p-value."
   ]
  },
  {
   "cell_type": "code",
   "execution_count": 22,
   "metadata": {},
   "outputs": [],
   "source": [
    "# Table S2A Diameter of 0.2 cm for Undetectable Metastases (with p<0.05 for significance). (cross correlations)\n",
    "# Table S2B Diameter of 0.05 cm for Undetectable Metastases.\n",
    "# Table Table S2C Exponential Coefficients of Model Parameters (growth rates of primary and metastastic,\n",
    "#   Largest Met Dx, Prim removed) with Respect to the Survival Time."
   ]
  },
  {
   "cell_type": "code",
   "execution_count": 23,
   "metadata": {
    "scrolled": true
   },
   "outputs": [
    {
     "data": {
      "text/html": [
       "<table class=\"dataframe\">\n",
       "<caption>A matrix: 4 × 4 of type dbl</caption>\n",
       "<thead>\n",
       "\t<tr><th></th><th scope=col>Dx.SzPrim.cm</th><th scope=col>Dx.SzMetsLargest.cm</th><th scope=col>Aut.SzPrim.cm</th><th scope=col>Aut.maxSzMetsRange.cm</th></tr>\n",
       "</thead>\n",
       "<tbody>\n",
       "\t<tr><th scope=row>Dx.SzPrim.cm</th><td> 1.00</td><td> 0.06</td><td> 0.59</td><td>-0.02</td></tr>\n",
       "\t<tr><th scope=row>Dx.SzMetsLargest.cm</th><td> 0.06</td><td> 1.00</td><td>-0.05</td><td> 0.92</td></tr>\n",
       "\t<tr><th scope=row>Aut.SzPrim.cm</th><td> 0.59</td><td>-0.05</td><td> 1.00</td><td>-0.03</td></tr>\n",
       "\t<tr><th scope=row>Aut.maxSzMetsRange.cm</th><td>-0.02</td><td> 0.92</td><td>-0.03</td><td> 1.00</td></tr>\n",
       "</tbody>\n",
       "</table>\n"
      ],
      "text/latex": [
       "A matrix: 4 × 4 of type dbl\n",
       "\\begin{tabular}{r|llll}\n",
       "  & Dx.SzPrim.cm & Dx.SzMetsLargest.cm & Aut.SzPrim.cm & Aut.maxSzMetsRange.cm\\\\\n",
       "\\hline\n",
       "\tDx.SzPrim.cm &  1.00 &  0.06 &  0.59 & -0.02\\\\\n",
       "\tDx.SzMetsLargest.cm &  0.06 &  1.00 & -0.05 &  0.92\\\\\n",
       "\tAut.SzPrim.cm &  0.59 & -0.05 &  1.00 & -0.03\\\\\n",
       "\tAut.maxSzMetsRange.cm & -0.02 &  0.92 & -0.03 &  1.00\\\\\n",
       "\\end{tabular}\n"
      ],
      "text/markdown": [
       "\n",
       "A matrix: 4 × 4 of type dbl\n",
       "\n",
       "| <!--/--> | Dx.SzPrim.cm | Dx.SzMetsLargest.cm | Aut.SzPrim.cm | Aut.maxSzMetsRange.cm |\n",
       "|---|---|---|---|---|\n",
       "| Dx.SzPrim.cm |  1.00 |  0.06 |  0.59 | -0.02 |\n",
       "| Dx.SzMetsLargest.cm |  0.06 |  1.00 | -0.05 |  0.92 |\n",
       "| Aut.SzPrim.cm |  0.59 | -0.05 |  1.00 | -0.03 |\n",
       "| Aut.maxSzMetsRange.cm | -0.02 |  0.92 | -0.03 |  1.00 |\n",
       "\n"
      ],
      "text/plain": [
       "                      Dx.SzPrim.cm Dx.SzMetsLargest.cm Aut.SzPrim.cm\n",
       "Dx.SzPrim.cm           1.00         0.06                0.59        \n",
       "Dx.SzMetsLargest.cm    0.06         1.00               -0.05        \n",
       "Aut.SzPrim.cm          0.59        -0.05                1.00        \n",
       "Aut.maxSzMetsRange.cm -0.02         0.92               -0.03        \n",
       "                      Aut.maxSzMetsRange.cm\n",
       "Dx.SzPrim.cm          -0.02                \n",
       "Dx.SzMetsLargest.cm    0.92                \n",
       "Aut.SzPrim.cm         -0.03                \n",
       "Aut.maxSzMetsRange.cm  1.00                "
      ]
     },
     "metadata": {},
     "output_type": "display_data"
    }
   ],
   "source": [
    "cor.colnames <- c(\"Dx.SzPrim.cm\", \"Dx.SzMetsLargest.cm\", \"Aut.SzPrim.cm\", \"Aut.maxSzMetsRange.cm\")\n",
    "  # \"Aut.MeanSzMetsRange.cm\")\n",
    "  # note: the paper's Tables S2A and S2B refer to a \"Largest metastasis at autopsy\" instead of Aut.MeanSzMetsRange.cm;\n",
    "  # maybe that's max of Aut.SzMetsRange.cm, and so, use Aut.maxSzMetsRange.cm\n",
    "  # the paper also refers to \"Primary growth rate\", \"Metastasis growth rate\", and \"Survival\".\n",
    "# var(mmc1.tabS1a[, cor.colnames], na.rm=TRUE)\n",
    "mmc1.tabS1a.cor <- cor(mmc1.tabS1a[, cor.colnames],\n",
    "    use=c(\"everything\", \"all.obs\", \"complete.obs\", \"na.or.complete\", \"pairwise.complete.obs\")[3],\n",
    "                       # use=\"pairwise.complete.obs\"\n",
    "    method=c(\"pearson\", \"kendall\", \"spearman\")[1])\n",
    "round(mmc1.tabS1a.cor, 2)"
   ]
  },
  {
   "cell_type": "code",
   "execution_count": 24,
   "metadata": {
    "scrolled": true
   },
   "outputs": [
    {
     "name": "stderr",
     "output_type": "stream",
     "text": [
      "Loading required package: corrplot\n",
      "\n",
      "corrplot 0.92 loaded\n",
      "\n"
     ]
    },
    {
     "data": {
      "image/png": "[encoded data removed]",
      "text/plain": [
       "Plot with title \"\""
      ]
     },
     "metadata": {
      "image/png": {
       "height": 420,
       "width": 420
      }
     },
     "output_type": "display_data"
    }
   ],
   "source": [
    "# ref: https://cran.r-project.org/web/packages/corrplot/vignettes/corrplot-intro.html\n",
    "require(corrplot)\n",
    "chooseTblock <- FALSE\n",
    "M <- mmc1.tabS1a.cor\n",
    "testRes <- cor.mtest(M, conf.level=0.95)\n",
    "if(chooseTblock){\n",
    "    ## leave blank on non-significant coefficient\n",
    "    ## add all correlation coefficients\n",
    "    corrplot(M, p.mat=testRes$p, method=c('color', 'circle')[2],\n",
    "             type='lower', insig=c('p-value', 'label_sig', 'blank')[3],\n",
    "             # sig.level=c(0.001, 0.01, 0.05), # sig.level=-1,\n",
    "             order='AOE', diag=FALSE)$corrPos -> p1\n",
    "    text(p1$x, p1$y, round(p1$corr, 2))\n",
    "} else {\n",
    "    ## leave blank on non-significant coefficient\n",
    "    ## add significant correlation coefficients\n",
    "    corrplot(M, p.mat=testRes$p, method='circle', type='lower', insig='blank',\n",
    "             addCoef.col='black', number.cex=1.0, order='AOE', diag=FALSE)\n",
    "}"
   ]
  },
  {
   "cell_type": "code",
   "execution_count": 25,
   "metadata": {},
   "outputs": [
    {
     "data": {
      "image/png": "[encoded data removed]",
      "text/plain": [
       "plot without title"
      ]
     },
     "metadata": {
      "image/png": {
       "height": 420,
       "width": 420
      }
     },
     "output_type": "display_data"
    },
    {
     "data": {
      "image/png": "[encoded data removed]",
      "text/plain": [
       "plot without title"
      ]
     },
     "metadata": {
      "image/png": {
       "height": 420,
       "width": 420
      }
     },
     "output_type": "display_data"
    },
    {
     "data": {
      "text/plain": [
       "NULL"
      ]
     },
     "metadata": {},
     "output_type": "display_data"
    },
    {
     "data": {
      "image/png": "[encoded data removed]",
      "text/plain": [
       "plot without title"
      ]
     },
     "metadata": {
      "image/png": {
       "height": 420,
       "width": 420
      }
     },
     "output_type": "display_data"
    }
   ],
   "source": [
    "plotProgression(mmc1.tabS1a, jitterFactor=0.75)"
   ]
  },
  {
   "cell_type": "code",
   "execution_count": 26,
   "metadata": {},
   "outputs": [
    {
     "name": "stderr",
     "output_type": "stream",
     "text": [
      "\n",
      "Attaching package: 'dplyr'\n",
      "\n",
      "\n",
      "The following objects are masked from 'package:stats':\n",
      "\n",
      "    filter, lag\n",
      "\n",
      "\n",
      "The following objects are masked from 'package:base':\n",
      "\n",
      "    intersect, setdiff, setequal, union\n",
      "\n",
      "\n",
      "Loading required package: ggplot2\n",
      "\n",
      "Loading required package: ggpubr\n",
      "\n",
      "\n",
      "Attaching package: 'survminer'\n",
      "\n",
      "\n",
      "The following object is masked from 'package:survival':\n",
      "\n",
      "    myeloma\n",
      "\n",
      "\n"
     ]
    }
   ],
   "source": [
    "mustInstall <- c(TRUE, FALSE)[2] # [1] for installing packages; [2] otherwise ie to only load needed libraries.\n",
    "if(mustInstall){ # This code block fails on R3.6.2 on Windows. Maybe this expects R4.0+. For now, do without survminer.\n",
    "    # remove.packages(\"rlang\")\n",
    "    # ref Bioconductor r-survival.html:\n",
    "    # install.packages(\"Rtools\") # Downloaded .exe for Windows from www.\n",
    "    # install.packages(\"glue\", type=\"binary\") # fails otherwise when (loading namespace for) compiling source.\n",
    "    # devtools::install_github(\"tidyverse/glue\")\n",
    "    # remotes::install_github(\"tidyverse/glue\") # ref https://github.com/tidyverse/glue/issues/188. Fails.\n",
    "    install.packages(c(\"tidyselect\", \"ggpubr\", \"broom\", \"survminer\"), type=\"binary\")\n",
    "      # worked after installing R4.2! refer https://cran.r-project.org/web/packages/IRkernel/readme/README.html.\n",
    "} # else continue as is.\n",
    "library(survival)\n",
    "library(dplyr) # or library(tidyverse) for as_tibble()\n",
    "library(survminer)"
   ]
  },
  {
   "cell_type": "code",
   "execution_count": 27,
   "metadata": {
    "scrolled": true
   },
   "outputs": [
    {
     "name": "stdout",
     "output_type": "stream",
     "text": [
      "tibble [101 x 6] (S3: tbl_df/tbl/data.frame)\n",
      " $ Case           : Factor w/ 101 levels \"1\",\"2\",\"3\",\"5\",..: 1 2 3 4 5 6 7 8 9 10 ...\n",
      " $ Dx.Age         : int [1:101] 84 62 67 47 57 67 60 56 60 60 ...\n",
      " $ Dx.SzPrim.cm   : num [1:101] 6 3 2 5 4 8 5 3 6 4 ...\n",
      " $ Dx.WasPrimExcis: Factor w/ 2 levels \"No\",\"Yes\": 1 1 1 1 1 1 1 1 1 1 ...\n",
      " $ time           : 'difftime' num [1:101] 174 161 334 256 ...\n",
      "  ..- attr(*, \"units\")= chr \"days\"\n",
      " $ status         : num [1:101] 2 2 2 2 2 2 2 2 2 2 ...\n"
     ]
    }
   ],
   "source": [
    "panc <- mmc1.tabS1a[, c(\"Case\", \"Dx.Age\", \"Dx.SzPrim.cm\", \"Dx.WasPrimExcis\")]\n",
    "panc <- cbind(panc, time=(mmc1.tabS1a$Aut.DateDeath - mmc1.tabS1a$Dx.Date),\n",
    "  status=rep(2, count=nrow(panc))) # similar to `lung`, `time` is elapsed days; censoring `status` 2=dead ie event completed.\n",
    "panc <- as_tibble(panc); str(panc)"
   ]
  },
  {
   "cell_type": "code",
   "execution_count": 28,
   "metadata": {},
   "outputs": [
    {
     "data": {
      "text/html": [
       "'Surv'"
      ],
      "text/latex": [
       "'Surv'"
      ],
      "text/markdown": [
       "'Surv'"
      ],
      "text/plain": [
       "[1] \"Surv\""
      ]
     },
     "metadata": {},
     "output_type": "display_data"
    },
    {
     "data": {
      "text/plain": [
       "[1]  174  161  334  256  229 1443"
      ]
     },
     "metadata": {},
     "output_type": "display_data"
    }
   ],
   "source": [
    "s <- Surv(panc$time, panc$status)\n",
    "class(s)\n",
    "head(s)"
   ]
  },
  {
   "cell_type": "code",
   "execution_count": 29,
   "metadata": {
    "scrolled": true
   },
   "outputs": [
    {
     "data": {
      "text/plain": [
       "Call: survfit(formula = sfit1.fmla, data = panc)\n",
       "\n",
       "       n events median 0.95LCL 0.95UCL\n",
       "[1,] 101    101    347     260     464"
      ]
     },
     "metadata": {},
     "output_type": "display_data"
    },
    {
     "data": {
      "text/plain": [
       "Call: survfit(formula = sfit1.fmla, data = panc)\n",
       "\n",
       " time n.risk n.event survival std.err lower 95% CI upper 95% CI\n",
       "   17    101       1   0.9901 0.00985      0.97098       1.0000\n",
       "   20    100       1   0.9802 0.01386      0.95340       1.0000\n",
       "   23     99       1   0.9703 0.01689      0.93775       1.0000\n",
       "   27     98       1   0.9604 0.01941      0.92310       0.9992\n",
       "   35     97       1   0.9505 0.02158      0.90912       0.9938\n",
       "   36     96       1   0.9406 0.02352      0.89561       0.9878\n",
       "   50     95       1   0.9307 0.02527      0.88246       0.9816\n",
       "   77     94       1   0.9208 0.02687      0.86960       0.9750\n",
       "   89     93       1   0.9109 0.02835      0.85699       0.9682\n",
       "   92     92       1   0.9010 0.02972      0.84458       0.9612\n",
       "   95     91       2   0.8812 0.03220      0.82029       0.9466\n",
       "  109     89       1   0.8713 0.03332      0.80836       0.9391\n",
       "  111     88       1   0.8614 0.03438      0.79657       0.9315\n",
       "  113     87       1   0.8515 0.03538      0.78488       0.9237\n",
       "  123     86       1   0.8416 0.03633      0.77330       0.9159\n",
       "  125     85       1   0.8317 0.03723      0.76182       0.9079\n",
       "  128     84       1   0.8218 0.03808      0.75044       0.8999\n",
       "  136     83       1   0.8119 0.03889      0.73913       0.8918\n",
       "  139     82       1   0.8020 0.03965      0.72791       0.8836\n",
       "  146     81       1   0.7921 0.04038      0.71676       0.8753\n",
       "  161     80       1   0.7822 0.04107      0.70568       0.8670\n",
       "  168     79       1   0.7723 0.04173      0.69467       0.8586\n",
       "  174     78       1   0.7624 0.04235      0.68373       0.8501\n",
       "  179     77       1   0.7525 0.04294      0.67284       0.8415\n",
       "  186     76       2   0.7327 0.04404      0.65125       0.8243\n",
       "  198     74       2   0.7129 0.04502      0.62988       0.8068\n",
       "  213     72       2   0.6931 0.04589      0.60871       0.7891\n",
       "  226     70       2   0.6733 0.04667      0.58774       0.7712\n",
       "  227     68       1   0.6634 0.04702      0.57732       0.7622\n",
       "  228     67       1   0.6535 0.04735      0.56695       0.7532\n",
       "  229     66       2   0.6337 0.04794      0.54634       0.7350\n",
       "  247     64       1   0.6238 0.04820      0.53609       0.7258\n",
       "  256     63       1   0.6139 0.04844      0.52589       0.7165\n",
       "  257     62       1   0.6040 0.04866      0.51573       0.7073\n",
       "  258     61       1   0.5941 0.04886      0.50561       0.6980\n",
       "  260     60       1   0.5842 0.04904      0.49553       0.6886\n",
       "  266     59       1   0.5743 0.04920      0.48549       0.6793\n",
       "  271     58       1   0.5644 0.04934      0.47549       0.6698\n",
       "  281     57       1   0.5545 0.04946      0.46552       0.6604\n",
       "  290     56       1   0.5446 0.04955      0.45560       0.6509\n",
       "  304     55       1   0.5347 0.04963      0.44571       0.6413\n",
       "  305     54       1   0.5248 0.04969      0.43586       0.6318\n",
       "  310     53       1   0.5149 0.04973      0.42605       0.6222\n",
       "  334     52       1   0.5050 0.04975      0.41628       0.6125\n",
       "  347     51       1   0.4950 0.04975      0.40654       0.6028\n",
       "  352     50       1   0.4851 0.04973      0.39685       0.5931\n",
       "  359     49       1   0.4752 0.04969      0.38719       0.5833\n",
       "  366     48       1   0.4653 0.04963      0.37756       0.5735\n",
       "  368     47       1   0.4554 0.04955      0.36798       0.5637\n",
       "  369     46       1   0.4455 0.04946      0.35843       0.5538\n",
       "  381     45       1   0.4356 0.04934      0.34892       0.5439\n",
       "  427     44       1   0.4257 0.04920      0.33945       0.5340\n",
       "  430     43       1   0.4158 0.04904      0.33002       0.5240\n",
       "  449     42       1   0.4059 0.04886      0.32063       0.5140\n",
       "  450     41       1   0.3960 0.04866      0.31128       0.5039\n",
       "  464     40       1   0.3861 0.04844      0.30196       0.4938\n",
       "  477     39       1   0.3762 0.04820      0.29269       0.4836\n",
       "  512     38       1   0.3663 0.04794      0.28346       0.4734\n",
       "  527     37       1   0.3564 0.04766      0.27427       0.4632\n",
       "  553     36       1   0.3465 0.04735      0.26512       0.4530\n",
       "  557     35       1   0.3366 0.04702      0.25601       0.4426\n",
       "  564     34       1   0.3267 0.04667      0.24695       0.4323\n",
       "  571     33       1   0.3168 0.04629      0.23793       0.4219\n",
       "  575     32       1   0.3069 0.04589      0.22896       0.4114\n",
       "  654     31       1   0.2970 0.04547      0.22004       0.4010\n",
       "  689     30       1   0.2871 0.04502      0.21116       0.3904\n",
       "  710     29       1   0.2772 0.04454      0.20234       0.3798\n",
       "  733     28       1   0.2673 0.04404      0.19356       0.3692\n",
       "  738     27       1   0.2574 0.04350      0.18484       0.3585\n",
       "  741     26       1   0.2475 0.04294      0.17617       0.3478\n",
       "  743     25       1   0.2376 0.04235      0.16756       0.3370\n",
       "  745     24       1   0.2277 0.04173      0.15901       0.3261\n",
       "  763     23       1   0.2178 0.04107      0.15052       0.3152\n",
       "  778     22       1   0.2079 0.04038      0.14210       0.3042\n",
       "  811     21       1   0.1980 0.03965      0.13374       0.2932\n",
       "  833     20       1   0.1881 0.03889      0.12545       0.2821\n",
       "  852     19       1   0.1782 0.03808      0.11724       0.2709\n",
       "  902     18       1   0.1683 0.03723      0.10911       0.2597\n",
       "  924     17       1   0.1584 0.03633      0.10106       0.2483\n",
       "  939     16       1   0.1485 0.03538      0.09310       0.2369\n",
       "  958     15       1   0.1386 0.03438      0.08524       0.2254\n",
       " 1054     14       1   0.1287 0.03332      0.07749       0.2138\n",
       " 1079     13       1   0.1188 0.03220      0.06986       0.2021\n",
       " 1116     12       1   0.1089 0.03100      0.06235       0.1903\n",
       " 1142     11       1   0.0990 0.02972      0.05498       0.1783\n",
       " 1198     10       1   0.0891 0.02835      0.04777       0.1662\n",
       " 1234      9       1   0.0792 0.02687      0.04074       0.1540\n",
       " 1244      8       1   0.0693 0.02527      0.03392       0.1416\n",
       " 1261      7       1   0.0594 0.02352      0.02734       0.1291\n",
       " 1270      6       1   0.0495 0.02158      0.02106       0.1164\n",
       " 1443      5       1   0.0396 0.01941      0.01516       0.1035\n",
       " 1454      4       1   0.0297 0.01689      0.00974       0.0905\n",
       " 1596      3       1   0.0198 0.01386      0.00502       0.0781\n",
       " 1623      2       1   0.0099 0.00985      0.00141       0.0696\n",
       " 2841      1       1   0.0000     NaN           NA           NA"
      ]
     },
     "metadata": {},
     "output_type": "display_data"
    }
   ],
   "source": [
    "sfit1.fmla <- as.formula(s ~ 1)\n",
    "sfit1 <- survfit(sfit1.fmla, data=panc) # alt: survfit(s ~ 1). alt: survfit(Surv(time, status) ~ 1).\n",
    "sfit1\n",
    "summary(sfit1)"
   ]
  },
  {
   "cell_type": "code",
   "execution_count": 30,
   "metadata": {},
   "outputs": [
    {
     "data": {
      "text/plain": [
       "Call: survfit(formula = s ~ Dx.WasPrimExcis, data = panc)\n",
       "\n",
       "                     n events median 0.95LCL 0.95UCL\n",
       "Dx.WasPrimExcis=No  75     75    256     213     359\n",
       "Dx.WasPrimExcis=Yes 26     26    744     689    1054"
      ]
     },
     "metadata": {},
     "output_type": "display_data"
    },
    {
     "data": {
      "text/plain": [
       "Call: survfit(formula = s ~ Dx.WasPrimExcis, data = panc)\n",
       "\n",
       "                Dx.WasPrimExcis=No \n",
       " time n.risk n.event survival std.err lower 95% CI upper 95% CI\n",
       "   17     75       1   0.9867  0.0132      0.96105       1.0000\n",
       "   20     74       1   0.9733  0.0186      0.93755       1.0000\n",
       "   23     73       1   0.9600  0.0226      0.91666       1.0000\n",
       "   27     72       1   0.9467  0.0259      0.89716       0.9989\n",
       "   35     71       1   0.9333  0.0288      0.87855       0.9915\n",
       "   36     70       1   0.9200  0.0313      0.86061       0.9835\n",
       "   50     69       1   0.9067  0.0336      0.84316       0.9750\n",
       "   77     68       1   0.8933  0.0356      0.82613       0.9660\n",
       "   89     67       1   0.8800  0.0375      0.80944       0.9567\n",
       "   92     66       1   0.8667  0.0393      0.79305       0.9471\n",
       "   95     65       2   0.8400  0.0423      0.76100       0.9272\n",
       "  109     63       1   0.8267  0.0437      0.74529       0.9169\n",
       "  111     62       1   0.8133  0.0450      0.72976       0.9065\n",
       "  113     61       1   0.8000  0.0462      0.71441       0.8958\n",
       "  123     60       1   0.7867  0.0473      0.69921       0.8851\n",
       "  125     59       1   0.7733  0.0483      0.68415       0.8741\n",
       "  128     58       1   0.7600  0.0493      0.66924       0.8631\n",
       "  136     57       1   0.7467  0.0502      0.65445       0.8519\n",
       "  139     56       1   0.7333  0.0511      0.63978       0.8406\n",
       "  146     55       1   0.7200  0.0518      0.62523       0.8291\n",
       "  161     54       1   0.7067  0.0526      0.61079       0.8176\n",
       "  168     53       1   0.6933  0.0532      0.59645       0.8060\n",
       "  174     52       1   0.6800  0.0539      0.58222       0.7942\n",
       "  179     51       1   0.6667  0.0544      0.56808       0.7824\n",
       "  186     50       2   0.6400  0.0554      0.54009       0.7584\n",
       "  198     48       2   0.6133  0.0562      0.51246       0.7341\n",
       "  213     46       2   0.5867  0.0569      0.48517       0.7094\n",
       "  226     44       1   0.5733  0.0571      0.47165       0.6969\n",
       "  227     43       1   0.5600  0.0573      0.45821       0.6844\n",
       "  228     42       1   0.5467  0.0575      0.44485       0.6718\n",
       "  229     41       2   0.5200  0.0577      0.41838       0.6463\n",
       "  247     39       1   0.5067  0.0577      0.40526       0.6334\n",
       "  256     38       1   0.4933  0.0577      0.39222       0.6205\n",
       "  257     37       1   0.4800  0.0577      0.37926       0.6075\n",
       "  260     36       1   0.4667  0.0576      0.36638       0.5944\n",
       "  266     35       1   0.4533  0.0575      0.35358       0.5812\n",
       "  271     34       1   0.4400  0.0573      0.34085       0.5680\n",
       "  304     33       1   0.4267  0.0571      0.32821       0.5547\n",
       "  310     32       1   0.4133  0.0569      0.31565       0.5412\n",
       "  334     31       1   0.4000  0.0566      0.30317       0.5278\n",
       "  347     30       1   0.3867  0.0562      0.29077       0.5142\n",
       "  352     29       1   0.3733  0.0559      0.27845       0.5005\n",
       "  359     28       1   0.3600  0.0554      0.26623       0.4868\n",
       "  366     27       1   0.3467  0.0550      0.25409       0.4730\n",
       "  368     26       1   0.3333  0.0544      0.24203       0.4591\n",
       "  369     25       1   0.3200  0.0539      0.23008       0.4451\n",
       "  381     24       1   0.3067  0.0532      0.21821       0.4310\n",
       "  430     23       1   0.2933  0.0526      0.20645       0.4168\n",
       "  449     22       1   0.2800  0.0518      0.19478       0.4025\n",
       "  464     21       1   0.2667  0.0511      0.18322       0.3881\n",
       "  477     20       1   0.2533  0.0502      0.17177       0.3736\n",
       "  512     19       1   0.2400  0.0493      0.16044       0.3590\n",
       "  527     18       1   0.2267  0.0483      0.14922       0.3443\n",
       "  553     17       1   0.2133  0.0473      0.13814       0.3295\n",
       "  564     16       1   0.2000  0.0462      0.12719       0.3145\n",
       "  571     15       1   0.1867  0.0450      0.11639       0.2994\n",
       "  575     14       1   0.1733  0.0437      0.10574       0.2841\n",
       "  654     13       1   0.1600  0.0423      0.09526       0.2687\n",
       "  738     12       1   0.1467  0.0409      0.08497       0.2532\n",
       "  833     11       1   0.1333  0.0393      0.07488       0.2374\n",
       "  924     10       1   0.1200  0.0375      0.06502       0.2215\n",
       "  939      9       1   0.1067  0.0356      0.05541       0.2053\n",
       "  958      8       1   0.0933  0.0336      0.04610       0.1890\n",
       " 1079      7       1   0.0800  0.0313      0.03713       0.1723\n",
       " 1116      6       1   0.0667  0.0288      0.02859       0.1555\n",
       " 1234      5       1   0.0533  0.0259      0.02055       0.1384\n",
       " 1261      4       1   0.0400  0.0226      0.01320       0.1212\n",
       " 1270      3       1   0.0267  0.0186      0.00679       0.1047\n",
       " 1443      2       1   0.0133  0.0132      0.00190       0.0934\n",
       " 2841      1       1   0.0000     NaN           NA           NA\n",
       "\n",
       "                Dx.WasPrimExcis=Yes \n",
       " time n.risk n.event survival std.err lower 95% CI upper 95% CI\n",
       "  226     26       1   0.9615  0.0377      0.89039        1.000\n",
       "  258     25       1   0.9231  0.0523      0.82613        1.000\n",
       "  281     24       1   0.8846  0.0627      0.76995        1.000\n",
       "  290     23       1   0.8462  0.0708      0.71824        0.997\n",
       "  305     22       1   0.8077  0.0773      0.66956        0.974\n",
       "  427     21       1   0.7692  0.0826      0.62319        0.949\n",
       "  450     20       1   0.7308  0.0870      0.57870        0.923\n",
       "  557     19       1   0.6923  0.0905      0.53581        0.895\n",
       "  689     18       1   0.6538  0.0933      0.49433        0.865\n",
       "  710     17       1   0.6154  0.0954      0.45412        0.834\n",
       "  733     16       1   0.5769  0.0969      0.41511        0.802\n",
       "  741     15       1   0.5385  0.0978      0.37723        0.769\n",
       "  743     14       1   0.5000  0.0981      0.34044        0.734\n",
       "  745     13       1   0.4615  0.0978      0.30472        0.699\n",
       "  763     12       1   0.4231  0.0969      0.27007        0.663\n",
       "  778     11       1   0.3846  0.0954      0.23652        0.625\n",
       "  811     10       1   0.3462  0.0933      0.20410        0.587\n",
       "  852      9       1   0.3077  0.0905      0.17287        0.548\n",
       "  902      8       1   0.2692  0.0870      0.14292        0.507\n",
       " 1054      7       1   0.2308  0.0826      0.11439        0.466\n",
       " 1142      6       1   0.1923  0.0773      0.08747        0.423\n",
       " 1198      5       1   0.1538  0.0708      0.06246        0.379\n",
       " 1244      4       1   0.1154  0.0627      0.03980        0.334\n",
       " 1454      3       1   0.0769  0.0523      0.02031        0.291\n",
       " 1596      2       1   0.0385  0.0377      0.00563        0.263\n",
       " 1623      1       1   0.0000     NaN           NA           NA\n"
      ]
     },
     "metadata": {},
     "output_type": "display_data"
    }
   ],
   "source": [
    "sfit2 <- update(sfit1, . ~ Dx.WasPrimExcis)\n",
    "sfit2\n",
    "summary(sfit2)"
   ]
  },
  {
   "cell_type": "code",
   "execution_count": 31,
   "metadata": {},
   "outputs": [
    {
     "data": {
      "text/plain": [
       "Time differences in days\n",
       "[1]   17 2841"
      ]
     },
     "metadata": {},
     "output_type": "display_data"
    },
    {
     "data": {
      "text/plain": [
       "Call: survfit(formula = s ~ Dx.WasPrimExcis, data = panc)\n",
       "\n",
       "                Dx.WasPrimExcis=No \n",
       " time n.risk n.event survival std.err lower 95% CI upper 95% CI\n",
       "    1     75       0   1.0000  0.0000       1.0000        1.000\n",
       "  101     63      12   0.8400  0.0423       0.7610        0.927\n",
       "  201     46      17   0.6133  0.0562       0.5125        0.734\n",
       "  301     33      13   0.4400  0.0573       0.3409        0.568\n",
       "  401     23      10   0.3067  0.0532       0.2182        0.431\n",
       "  501     19       4   0.2533  0.0502       0.1718        0.374\n",
       "  601     13       6   0.1733  0.0437       0.1057        0.284\n",
       "  701     12       1   0.1600  0.0423       0.0953        0.269\n",
       "  801     11       1   0.1467  0.0409       0.0850        0.253\n",
       "  901     10       1   0.1333  0.0393       0.0749        0.237\n",
       " 1001      7       3   0.0933  0.0336       0.0461        0.189\n",
       "\n",
       "                Dx.WasPrimExcis=Yes \n",
       " time n.risk n.event survival std.err lower 95% CI upper 95% CI\n",
       "    1     26       0    1.000  0.0000        1.000        1.000\n",
       "  101     26       0    1.000  0.0000        1.000        1.000\n",
       "  201     26       0    1.000  0.0000        1.000        1.000\n",
       "  301     22       4    0.846  0.0708        0.718        0.997\n",
       "  401     21       1    0.808  0.0773        0.670        0.974\n",
       "  501     19       2    0.731  0.0870        0.579        0.923\n",
       "  601     18       1    0.692  0.0905        0.536        0.895\n",
       "  701     17       1    0.654  0.0933        0.494        0.865\n",
       "  801     10       7    0.385  0.0954        0.237        0.625\n",
       "  901      8       2    0.308  0.0905        0.173        0.548\n",
       " 1001      7       1    0.269  0.0870        0.143        0.507\n"
      ]
     },
     "metadata": {},
     "output_type": "display_data"
    }
   ],
   "source": [
    "# ?summary.survfit\n",
    "range(panc$time)\n",
    "summary(sfit2, times=seq(1, 1100, 100))"
   ]
  },
  {
   "cell_type": "code",
   "execution_count": 32,
   "metadata": {},
   "outputs": [
    {
     "data": {
      "image/png": "[encoded data removed]",
      "text/plain": [
       "plot without title"
      ]
     },
     "metadata": {
      "image/png": {
       "height": 420,
       "width": 420
      }
     },
     "output_type": "display_data"
    }
   ],
   "source": [
    "# ref `survival` vignette.\n",
    "# Kaplan-Meier plots:\n",
    "plot(sfit2, col=1:2, xscale=365.25, lwd=2, mark.time=TRUE, # mark.time=TRUE means mark each censoring time; else specify vector.\n",
    "     conf.int=TRUE,\n",
    "     xlab=\"Years since study entry\", ylab=\"Survival\")\n",
    "legend(750, .9, paste0(levels(panc$Dx.WasPrimExcis), \"::Dx.WasPrimExcis\"), # c(\"No residual disease\", \"Residual disease\"),\n",
    "       col=1:length(levels(panc$Dx.WasPrimExcis)), lwd=2, bty='n')"
   ]
  },
  {
   "cell_type": "code",
   "execution_count": 33,
   "metadata": {},
   "outputs": [],
   "source": [
    "# Relevant excerpts from the paper:\n",
    "# [Here we utilize one of these highly\n",
    "# unique patient datasets derived from a rapid autopsy program\n",
    "# for patients with pancreatic cancer, together with a mathematical\n",
    "# framework of pancreatic metastasis development, to understand\n",
    "# the growth dynamics of cancer metastasis in the setting\n",
    "# of commonly used anti-cancer therapies. This model is subsequently\n",
    "# validated using a uniform cohort of patients who underwent\n",
    "# curative resection ...]\n",
    "# [RESULTS ... at least one intermediate evaluation\n",
    "# of the primary tumor, local and distant recurrence as well as\n",
    "# metastases was available.]\n",
    "# [Using the 47 patients who had at least one intermediate time\n",
    "# point between diagnosis and autopsy, we compared the fit of\n",
    "# linear and exponential growth models of primary and metastatic\n",
    "# tumors. The exponential model had a better fit than the linear\n",
    "# model in 71% of the cases, with a median R2 of 0.63 (0.24–\n",
    "# 0.88). Other growth models such as a logistic model did not\n",
    "# converge for most patients, due to sparsity of the data.]\n",
    "# [Survival times were calculated from diagnosis to death, and\n",
    "# growth rates of primary and metastatic tumors were computed\n",
    "# using our exponential growth model. For some patients, no\n",
    "# tumor was detected at a given location (primary or metastatic)\n",
    "# at a given time (diagnosis, intermediate evaluations, or autopsy).\n",
    "# We imputed a tumor size of 0.1 cm for those time points, based\n",
    "# on estimates of the minimal size of radiographically detectable\n",
    "# local and metastatic tumors ...]\n",
    "# [We then estimated the model parameters using the autopsy\n",
    "# patient cohort (see Extended Experimental Procedures and\n",
    "# Table S2C). The coefficients in Table S2C are on a multiplicative\n",
    "# scale; for example, surgical removal of the primary almost\n",
    "# doubles predicted survival (e0.632 = 1.88) when growth rates\n",
    "# and size of the largest metastatic tumor at diagnosis were held\n",
    "# constant.]"
   ]
  },
  {
   "cell_type": "code",
   "execution_count": 34,
   "metadata": {},
   "outputs": [],
   "source": [
    "# [Table 2. Correlations between Various Measures of Tumor Size and Growth Rate as Well as Survival in the Autopsy Cohort]"
   ]
  },
  {
   "cell_type": "code",
   "execution_count": 35,
   "metadata": {},
   "outputs": [],
   "source": [
    "# [Figure 2. The Predictions of the Mathematical Framework Are Validated Using Patient Data\n",
    "# (A and B) The panels show the distribution of survival times of patients who were diagnosed with primary\n",
    "# tumors with a diameter ...]\n",
    "# [Figure 3. Validation of Our Framework Using an Independent Patient Cohort\n",
    "# (A) The distribution of the primary growth rate from the original dataset including 101 patients is shown in blue ...\n",
    "# (B) The panel shows the distribution of survival times of patients after resection of the primary tumor with\n",
    "# 2 (1.5–2.4) cm diameter after diagnosis.]\n",
    "# [Figure 4. The Mathematical Framework Predicts Optimum Treatment Strategies for Pancreatic Cancer Patients ...\n",
    "# for a tumor size of 1 cm diameter at diagnosis (left column) and 3 cm at diagnosis (right column) ...\n",
    "# The black curve represents mathematical predictions of the survival time without treatment or resection ...]"
   ]
  },
  {
   "cell_type": "code",
   "execution_count": 36,
   "metadata": {},
   "outputs": [],
   "source": [
    "# [EXTENDED EXPERIMENTAL PROCEDURES\n",
    "# Statistical Analyses\n",
    "# Although analysis of survival times is a central focus of this paper, we were not forced to use traditional\n",
    "# survival analysis techniques, such as Kaplan-Meier estimates or proportional hazards regression, since every\n",
    "# patient in our autopsy patient series was dead and we had complete information on survival times.\n",
    "# For this reason, we explored more flexible and robust methods. ...\n",
    "# we used the M-method of Huber (Huber, 1973) with a bi-square weight function and the\n",
    "# median method to estimate the scale parameter. The advantages of this method over least-squares is that\n",
    "# it gives higher weights to data points closer to the center and less weights to those in the tails,\n",
    "# minimizing the influence of outliers. No leverage points were identified.]"
   ]
  },
  {
   "cell_type": "code",
   "execution_count": 37,
   "metadata": {},
   "outputs": [],
   "source": [
    "# [Figure S1. Statistical Analysis of the Pancreatic Cancer Patient Dataset Containing 101 Patients\n",
    "# (A) Correlations between growth rates of primary and metastatic tumors and log-survival time. Primary tumors\n",
    "# are shown in black while metastatic tumors are shown in white.\n",
    "# (B) Distribution of the standardized residuals from the multiplicative robust regression model of survival times\n",
    "# and the factors listed in Table S2C. There is no evidence of poor fit based on this residual plot.\n",
    "# (C) Q-Q plot for the residuals. The horizontal axis represents the quantile from the normal distribution and\n",
    "# the vertical axis the quantile of the standardized residual. With most points on or near the line of equality,\n",
    "# this figure indicates no serious departures from the presumed regression model.]"
   ]
  },
  {
   "cell_type": "code",
   "execution_count": 38,
   "metadata": {},
   "outputs": [],
   "source": [
    "# Proposals for evolving this Jupyter Notebook:\n",
    "# P1. Survival estimates and curves (and with covariates) using (a) classical methods of KM estimation and PH regression\n",
    "# and (b) M-method of Huber as used by the paper.\n",
    "# P2. Multi-state survival analysis considering state-space transition models and competing risks, which the paper does not\n",
    "# seem to have done. (Refer \"2.4 Multi-state data\" in `survival` vignette pages 24-44.)\n",
    "# Cumulative Hazard via cumhaz=TRUE which is relevant for multi-event scenarios eg recurrence and other progression events.\n",
    "# P3. Survival analyses using deep learning, which the paper does not seem to have done.\n",
    "# P4. Submit on GitHub. Include on LinkedIn."
   ]
  }
 ],
 "metadata": {
  "kernelspec": {
   "display_name": "R",
   "language": "R",
   "name": "ir"
  },
  "language_info": {
   "codemirror_mode": "r",
   "file_extension": ".r",
   "mimetype": "text/x-r-source",
   "name": "R",
   "pygments_lexer": "r",
   "version": "4.2.0"
  }
 },
 "nbformat": 4,
 "nbformat_minor": 2
}
